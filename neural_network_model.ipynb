{
 "cells": [
  {
   "cell_type": "code",
   "execution_count": null,
   "outputs": [],
   "source": [
    "import torch.nn as nn\n",
    "import torch.optim as optim\n",
    "import torch\n",
    "from skorch.callbacks import EarlyStopping\n",
    "from skorch import NeuralNetClassifier\n",
    "from sklearn.model_selection import GridSearchCV\n"
   ],
   "metadata": {
    "collapsed": false
   },
   "id": "865240d7d104062f"
  },
  {
   "cell_type": "code",
   "execution_count": null,
   "outputs": [],
   "source": [
    "class NeuralNetwork(nn.Module):\n",
    "    def __init__(self, input_size=99, hidden_size1=64,hidden_size2=64, output_size=7):\n",
    "        super(NeuralNetwork, self).__init__()\n",
    "        self.layer1 = nn.Linear(input_size, hidden_size1)\n",
    "        self.relu = nn.ReLU()\n",
    "        self.layer2 = nn.Linear(hidden_size1, hidden_size2)\n",
    "        self.layer3=nn.Linear(hidden_size2, output_size)\n",
    "\n",
    "        self.reset_parameters()\n",
    "\n",
    "    def forward(self, x):\n",
    "        x = self.layer1(x)\n",
    "        x = self.relu(x)\n",
    "        x = self.layer2(x)\n",
    "        x= self.relu(x)\n",
    "        x=self.layer3(x)\n",
    "        return x\n",
    "\n",
    "    def reset_parameters(self):\n",
    "        for layer in self.children():\n",
    "            if hasattr(layer, 'reset_parameters'):\n",
    "                layer.reset_parameters()"
   ],
   "metadata": {
    "collapsed": false
   },
   "id": "initial_id"
  },
  {
   "cell_type": "code",
   "execution_count": null,
   "outputs": [],
   "source": [
    "model = NeuralNetwork()"
   ],
   "metadata": {
    "collapsed": false
   },
   "id": "b31638dda659253"
  },
  {
   "cell_type": "code",
   "execution_count": null,
   "outputs": [],
   "source": [
    "def restart_nn_model(learning_rate = 0.001):\n",
    "    \"\"\"\n",
    "    \n",
    "    :param learning_rate: \n",
    "    :return: \n",
    "    \"\"\"\n",
    "    \n",
    "    model = NeuralNetwork()\n",
    "    criterion = nn.CrossEntropyLoss()\n",
    "    optimizer = optim.Adam(model.parameters(), lr=learning_rate)"
   ],
   "metadata": {
    "collapsed": false
   },
   "id": "4fc3fa3e3a9feeb4"
  },
  {
   "cell_type": "code",
   "execution_count": null,
   "outputs": [],
   "source": [
    "def get_nn_model():\n",
    "    \"\"\"\n",
    "    \n",
    "    :return: \n",
    "    \"\"\"\n",
    "    return model"
   ],
   "metadata": {
    "collapsed": false
   },
   "id": "c1f708c3e6de4281"
  },
  {
   "cell_type": "code",
   "execution_count": null,
   "outputs": [],
   "source": [
    "def train_nn_model(trainLoader, learning_rate = 0.001, nbr_epoch = 100):\n",
    "    \"\"\"\n",
    "    \n",
    "    :param trainLoader: \n",
    "    :param learning_rate: \n",
    "    :param number_epoch: \n",
    "    :return: \n",
    "    \"\"\"\n",
    "    model = NeuralNetwork()\n",
    "    criterion = nn.CrossEntropyLoss()\n",
    "    optimizer = optim.Adam(model.parameters(), lr=learning_rate)\n",
    "    model.train()\n",
    "\n",
    "    for epoch in range(nbr_epoch): \n",
    "        running_loss = 0.0\n",
    "        total_train = 0\n",
    "        correct_train = 0\n",
    "    \n",
    "        for inputs, labels in trainLoader:\n",
    "            optimizer.zero_grad()\n",
    "            outputs = model(inputs)\n",
    "            loss = criterion(outputs, labels)\n",
    "            loss.backward()\n",
    "            optimizer.step()\n",
    "    \n",
    "            running_loss += loss.item()\n",
    "            _, predicted = torch.max(outputs.data, 1)\n",
    "            total_train += labels.size(0)\n",
    "            correct_train += (predicted == labels).sum().item()\n",
    "    \n",
    "        epoch_loss = running_loss / len(trainLoader)\n",
    "        epoch_accuracy = 100 * correct_train / total_train\n",
    "        print(f'Epoch {epoch + 1}, Loss: {epoch_loss:.4f}, Accuracy: {epoch_accuracy:.2f}%')\n",
    "        return model"
   ],
   "metadata": {
    "collapsed": false
   },
   "id": "a7f32ea3115e5e93"
  },
  {
   "cell_type": "code",
   "execution_count": null,
   "outputs": [],
   "source": [
    "def test_nn_model(testLoader, model):\n",
    "    \"\"\"\n",
    "    \n",
    "    :param testLoader: \n",
    "    :param model: \n",
    "    :return: \n",
    "    \"\"\"\n",
    "    model.eval()\n",
    "    total_test = 0\n",
    "    correct_test = 0\n",
    "    \n",
    "    y_true = []\n",
    "    y_pred = []\n",
    "    \n",
    "    with torch.no_grad():\n",
    "        for inputs, labels in testLoader:\n",
    "            labels = labels.long()\n",
    "            outputs = model(inputs)\n",
    "            _, predicted = torch.max(outputs.data, 1)\n",
    "            y_true.extend(labels.tolist())\n",
    "            y_pred.extend(predicted.tolist())\n",
    "            total_test += labels.size(0)\n",
    "            correct_test += (predicted == labels).sum().item()\n",
    "    \n",
    "    test_accuracy = 100 * correct_test / total_test\n",
    "    print(f'Accuracy on test set: {test_accuracy}%')"
   ],
   "metadata": {
    "collapsed": false
   },
   "id": "77a542c25eb2c6bd"
  },
  {
   "cell_type": "code",
   "execution_count": null,
   "outputs": [],
   "source": [
    "def tune_nn_hyperparameters(X_valid, y_valid, input_size = 99):\n",
    "    #parameters to tune\n",
    "    param_grid = {\n",
    "        'module__hidden_size1': [4096,2048],\n",
    "        'module__hidden_size2': [512],\n",
    "        'batch_size': [153, 150, 152, 151],\n",
    "        'optimizer__lr': [0.001]\n",
    "    }\n",
    "\n",
    "    model = NeuralNetwork(input_size=input_size, hidden_size1=64, hidden_size2=64, output_size=7)\n",
    "\n",
    "    \n",
    "    early_stopping = EarlyStopping(\n",
    "        monitor='valid_loss',  # Change to 'valid_acc' for accuracy\n",
    "        threshold=0.0001,       # Define your threshold\n",
    "        threshold_mode='rel',  # 'rel' for relative, 'abs' for absolute\n",
    "        patience=5            # Number of epochs to wait after condition is met\n",
    "    )\n",
    "\n",
    "\n",
    "    # Convert the PyTorch model to a skorch classifier to use in GridSearchCV\n",
    "    classifier = NeuralNetClassifier(\n",
    "        model,\n",
    "        criterion=nn.CrossEntropyLoss,\n",
    "        optimizer=optim.Adam,\n",
    "        max_epochs=50, # or choose an appropriate number of epochs\n",
    "        callbacks=[early_stopping]\n",
    "    )\n",
    "\n",
    "    # Use GridSearchCV for hyperparameter tuning, cv for the number of folds in cross-validation, verbose for the explicit stage of tuning\n",
    "    grid_search = GridSearchCV(classifier, param_grid, scoring='accuracy', cv=3, verbose=1)\n",
    "    #get grid result\n",
    "    grid_result= grid_search.fit(X_valid, y_valid)\n",
    "\n",
    "    # Get the best hyperparameters\n",
    "    best_hyperparams = grid_search.best_params_\n",
    "\n",
    "\n",
    "    #get best score\n",
    "    best_score=grid_search.best_score_\n",
    "\n",
    "    return best_hyperparams, best_score\n"
   ],
   "metadata": {
    "collapsed": false
   },
   "id": "c4a9e6ef38356316"
  }
 ],
 "metadata": {
  "kernelspec": {
   "display_name": "Python 3",
   "language": "python",
   "name": "python3"
  },
  "language_info": {
   "codemirror_mode": {
    "name": "ipython",
    "version": 2
   },
   "file_extension": ".py",
   "mimetype": "text/x-python",
   "name": "python",
   "nbconvert_exporter": "python",
   "pygments_lexer": "ipython2",
   "version": "2.7.6"
  }
 },
 "nbformat": 4,
 "nbformat_minor": 5
}
