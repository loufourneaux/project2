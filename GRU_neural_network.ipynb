{
 "cells": [
  {
   "cell_type": "code",
   "execution_count": null,
   "outputs": [],
   "source": [
    "import torch.nn as nn\n",
    "import torch.optim as optim\n",
    "import torch\n",
    "from skorch.callbacks import EarlyStopping\n",
    "from skorch import NeuralNetClassifier\n",
    "from sklearn.model_selection import GridSearchCV\n"
   ],
   "metadata": {
    "collapsed": false
   },
   "id": "904c89da6f248c11"
  },
  {
   "cell_type": "code",
   "execution_count": null,
   "outputs": [],
   "source": [
    "class GRUNeuralNetwork(nn.Module):\n",
    "    def __init__(self, input_size = 99, hidden_size1 = 64, output_size = 7):\n",
    "        super(GRUNeuralNetwork, self).__init__()\n",
    "        self.gru = nn.GRU(input_size, hidden_size1)#, batch_first=True)\n",
    "        self.relu = nn.ReLU()\n",
    "        self.layer2 = nn.Linear(hidden_size1, output_size)\n",
    "\n",
    "    def forward(self, x):\n",
    "        # x est de la forme (batch_size, sequence_length, input_size)\n",
    "        output, _ = self.gru(x)\n",
    "        # Prenez seulement la sortie de la dernière étape de la séquence\n",
    "        #output = output[:, -1, :]\n",
    "        output = self.relu(output)\n",
    "        output = self.layer2(output)\n",
    "        return output"
   ],
   "metadata": {
    "collapsed": false
   },
   "id": "7e47d7707c9097a1"
  },
  {
   "cell_type": "code",
   "execution_count": null,
   "outputs": [],
   "source": [
    "modelGRU = GRUNeuralNetwork()\n"
   ],
   "metadata": {
    "collapsed": false
   },
   "id": "402ada4fad56551b"
  },
  {
   "cell_type": "code",
   "execution_count": null,
   "outputs": [],
   "source": [
    "def get_gru_model():\n",
    "    return modelGRU"
   ],
   "metadata": {
    "collapsed": false
   },
   "id": "9ec8b396610091f0"
  },
  {
   "cell_type": "code",
   "execution_count": null,
   "outputs": [],
   "source": [
    "def restart_gru_model(learning_rate = 0.0001):\n",
    "    \"\"\"\n",
    "    \n",
    "    :param learning_rate: \n",
    "    :return: \n",
    "    \"\"\"\n",
    "\n",
    "    modelGRU = GRUNeuralNetwork()\n",
    "    criterion = nn.CrossEntropyLoss()\n",
    "    optimizer = optim.Adam(modelGRU.parameters(), lr=learning_rate)"
   ],
   "metadata": {
    "collapsed": false
   },
   "id": "ba3299f7b9b76c61"
  },
  {
   "cell_type": "code",
   "execution_count": null,
   "outputs": [],
   "source": [
    "def train_cnn_model(trainLoader, model, learning_rate = 0.001, nbr_epoch = 100):\n",
    "    \"\"\"\n",
    "    \n",
    "    :param trainLoader: \n",
    "    :param learning_rate: \n",
    "    :param number_epoch: \n",
    "    :return: \n",
    "    \"\"\"\n",
    "    modelGRU = model\n",
    "    criterion = nn.CrossEntropyLoss()\n",
    "    optimizer = optim.Adam(modelGRU.parameters(), lr=learning_rate)\n",
    "    modelGRU.train()\n",
    "    all_loss = []\n",
    "    all_accuracy = []\n",
    "    all_epoch = []\n",
    "    for epoch in range(nbr_epoch):\n",
    "        running_loss = 0.0\n",
    "        total_train = 0\n",
    "        correct_train = 0\n",
    "\n",
    "        for inputs, labels in trainLoader:\n",
    "            optimizer.zero_grad()\n",
    "            outputs = modelGRU(inputs)\n",
    "            loss = criterion(outputs, labels)\n",
    "            loss.backward()\n",
    "            optimizer.step()\n",
    "\n",
    "            running_loss += loss.item()\n",
    "            _, predicted = torch.max(outputs.data, 1)\n",
    "            total_train += labels.size(0)\n",
    "            correct_train += (predicted == labels).sum().item()\n",
    "        \n",
    "        epoch_loss = running_loss / len(trainLoader)\n",
    "        epoch_accuracy = 100 * correct_train / total_train\n",
    "        all_loss.append(epoch_loss)\n",
    "        all_accuracy.append(epoch_accuracy)\n",
    "        all_epoch.append(epoch+1)\n",
    "        \n",
    "        print(f'Epoch {epoch + 1}, Loss: {epoch_loss:.4f}, Accuracy: {epoch_accuracy:.2f}%')\n",
    "    return modelGRU, all_loss, all_accuracy, all_epoch"
   ],
   "metadata": {
    "collapsed": false
   },
   "id": "85ca4b974b7e882c"
  },
  {
   "cell_type": "code",
   "execution_count": null,
   "outputs": [],
   "source": [
    "def test_gru_model(testLoader, modelGRU):\n",
    "    \"\"\"\n",
    "    \n",
    "    :param testLoader: \n",
    "    :param model: \n",
    "    :return: \n",
    "    \"\"\"\n",
    "    modelGRU.eval()\n",
    "    total_test = 0\n",
    "    correct_test = 0\n",
    "    \n",
    "    y_true = []\n",
    "    y_pred = []\n",
    "    \n",
    "    with torch.no_grad():\n",
    "        for inputs, labels in testLoader:\n",
    "            labels = labels.long()\n",
    "            outputs = modelGRU(inputs)\n",
    "            _, predicted = torch.max(outputs.data, 1)\n",
    "            y_true.extend(labels.tolist())\n",
    "            y_pred.extend(predicted.tolist())\n",
    "            total_test += labels.size(0)\n",
    "            correct_test += (predicted == labels).sum().item()\n",
    "    \n",
    "    test_accuracy = 100 * correct_test / total_test\n",
    "    print(f'Accuracy on test set: {test_accuracy}%')\n",
    "    \n",
    "    return  y_true, y_pred"
   ],
   "metadata": {
    "collapsed": false
   },
   "id": "556463c3ec25f1e8"
  },
  {
   "cell_type": "code",
   "execution_count": null,
   "outputs": [],
   "source": [
    "def tune_cnn_hyperparameters(X_valid, y_valid, input_size = 99):\n",
    "    #parameters to tune\n",
    "    param_grid = {\n",
    "        'module__hidden_size1': [4096,2048],\n",
    "        'module__hidden_size2': [512],\n",
    "        'batch_size': [153, 150, 152, 151],\n",
    "        'optimizer__lr': [0.001]\n",
    "    }\n",
    "\n",
    "    modelGRU = GRUNeuralNetwork(input_channels = 3, kernel_size = (3,3,3), output_size = 7, hidden_size1 = 64, hidden_size2=128, hidden_size3 = 50,nbr_features = 99, stride = 1, padding = 1)\n",
    "    modelGRU.eval()\n",
    "    \n",
    "    early_stopping = EarlyStopping(\n",
    "        monitor='valid_loss',  # Change to 'valid_acc' for accuracy\n",
    "        threshold=0.0001,       # Define your threshold\n",
    "        threshold_mode='rel',  # 'rel' for relative, 'abs' for absolute\n",
    "        patience=5            # Number of epochs to wait after condition is met\n",
    "    )\n",
    "\n",
    "\n",
    "    # Convert the PyTorch model to a skorch classifier to use in GridSearchCV\n",
    "    classifier = NeuralNetClassifier(\n",
    "        modelGRU,\n",
    "        criterion=nn.CrossEntropyLoss,\n",
    "        optimizer=optim.Adam,\n",
    "        max_epochs=50, # or choose an appropriate number of epochs\n",
    "        callbacks=[early_stopping]\n",
    "    )\n",
    "\n",
    "    # Use GridSearchCV for hyperparameter tuning, cv for the number of folds in cross-validation, verbose for the explicit stage of tuning\n",
    "    grid_search = GridSearchCV(classifier, param_grid, scoring='accuracy', cv=3, verbose=1)\n",
    "    #get grid result\n",
    "    grid_result= grid_search.fit(X_valid, y_valid)\n",
    "\n",
    "    # Get the best hyperparameters\n",
    "    best_hyperparams = grid_search.best_params_\n",
    "\n",
    "\n",
    "    #get best score\n",
    "    best_score=grid_search.best_score_\n",
    "\n",
    "    return best_hyperparams, best_score\n"
   ],
   "metadata": {
    "collapsed": false
   },
   "id": "91c1d18e898442fe"
  }
 ],
 "metadata": {
  "kernelspec": {
   "display_name": "Python 3",
   "language": "python",
   "name": "python3"
  },
  "language_info": {
   "codemirror_mode": {
    "name": "ipython",
    "version": 2
   },
   "file_extension": ".py",
   "mimetype": "text/x-python",
   "name": "python",
   "nbconvert_exporter": "python",
   "pygments_lexer": "ipython2",
   "version": "2.7.6"
  }
 },
 "nbformat": 4,
 "nbformat_minor": 5
}
