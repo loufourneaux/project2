{
 "cells": [
  {
   "cell_type": "code",
   "execution_count": 5,
   "outputs": [],
   "source": [
    "import numpy as np\n",
    "import pandas as pd\n",
    "import matplotlib.pyplot as plt\n",
    "from sklearn.model_selection import train_test_split\n",
    "from sklearn.preprocessing import StandardScaler\n",
    "from sklearn.preprocessing import LabelEncoder\n",
    "from sklearn.metrics import confusion_matrix\n",
    "from sklearn.metrics import classification_report\n",
    "import seaborn as sns\n",
    "import torch.nn as nn\n",
    "import torch.optim as optim\n",
    "from torch.utils.data import DataLoader, TensorDataset\n",
    "import torch.nn.functional as F"
   ],
   "metadata": {
    "collapsed": false,
    "ExecuteTime": {
     "end_time": "2023-12-10T10:29:05.549956200Z",
     "start_time": "2023-12-10T10:29:05.536424300Z"
    }
   },
   "id": "16d118a6adf91666"
  },
  {
   "cell_type": "code",
   "execution_count": 11,
   "outputs": [],
   "source": [
    "import torch"
   ],
   "metadata": {
    "collapsed": false,
    "ExecuteTime": {
     "end_time": "2023-12-10T10:29:58.957370900Z",
     "start_time": "2023-12-10T10:29:58.942407Z"
    }
   },
   "id": "e0a1ae66fa87f8ee"
  },
  {
   "cell_type": "markdown",
   "source": [
    "Dataset creation"
   ],
   "metadata": {
    "collapsed": false
   },
   "id": "1d0fefbba1ff6c5e"
  },
  {
   "cell_type": "code",
   "execution_count": 29,
   "outputs": [],
   "source": [
    "df = pd.read_parquet(r\"C:\\Users\\Home\\Documents\\EPFL\\ML\\Project2\\All_Relative_Results_Cleaned.parquet\")"
   ],
   "metadata": {
    "collapsed": false,
    "ExecuteTime": {
     "end_time": "2023-12-10T10:31:46.449997100Z",
     "start_time": "2023-12-10T10:31:44.435463900Z"
    }
   },
   "id": "c71089b97d4ad533"
  },
  {
   "cell_type": "code",
   "execution_count": 4,
   "outputs": [
    {
     "data": {
      "text/plain": "array(['Frontal_Top', 'Frontal_Low', 'Side_Top'], dtype=object)"
     },
     "execution_count": 4,
     "metadata": {},
     "output_type": "execute_result"
    }
   ],
   "source": [
    "df['Camera'].unique()"
   ],
   "metadata": {
    "collapsed": false,
    "ExecuteTime": {
     "end_time": "2023-12-04T12:25:33.396732600Z",
     "start_time": "2023-12-04T12:25:32.832136700Z"
    }
   },
   "id": "bc194c5a869979f7"
  },
  {
   "cell_type": "code",
   "execution_count": 30,
   "outputs": [],
   "source": [
    "df_clean = df.dropna()\n",
    "index = df_clean.columns.get_loc('time(s)')\n",
    "df_right = df_clean.iloc[:, index+1:]\n",
    "X = df_right\n",
    "Y = df_clean['Exercise']"
   ],
   "metadata": {
    "collapsed": false,
    "ExecuteTime": {
     "end_time": "2023-12-10T10:31:48.431479Z",
     "start_time": "2023-12-10T10:31:46.451999Z"
    }
   },
   "id": "9cc34d0d163bc01e"
  },
  {
   "cell_type": "code",
   "execution_count": 31,
   "outputs": [],
   "source": [
    "label_encoder = LabelEncoder()\n",
    "Y_encoded = label_encoder.fit_transform(Y)"
   ],
   "metadata": {
    "collapsed": false,
    "ExecuteTime": {
     "end_time": "2023-12-10T10:31:48.928810900Z",
     "start_time": "2023-12-10T10:31:48.434481600Z"
    }
   },
   "id": "796fd63987459bb3"
  },
  {
   "cell_type": "code",
   "execution_count": 32,
   "outputs": [],
   "source": [
    "X_tensor = torch.tensor(X.values, dtype=torch.float32)\n",
    "y_tensor = torch.tensor(Y_encoded, dtype=torch.long)"
   ],
   "metadata": {
    "collapsed": false,
    "ExecuteTime": {
     "end_time": "2023-12-10T10:31:49.483252300Z",
     "start_time": "2023-12-10T10:31:48.930812900Z"
    }
   },
   "id": "73a2fb70bad31199"
  },
  {
   "cell_type": "code",
   "execution_count": 113,
   "outputs": [],
   "source": [
    "import random\n",
    "random.seed(42)\n",
    "np.random.seed(42)\n",
    "torch.manual_seed(42)\n",
    "torch.cuda.manual_seed(42)\n",
    "torch.cuda.manual_seed_all(42)\n"
   ],
   "metadata": {
    "collapsed": false,
    "ExecuteTime": {
     "end_time": "2023-12-11T08:01:15.986239600Z",
     "start_time": "2023-12-11T08:01:15.958878800Z"
    }
   },
   "id": "eb907e780cf85d60"
  },
  {
   "cell_type": "code",
   "execution_count": 115,
   "outputs": [],
   "source": [
    "X_train, X_test, Y_train, Y_test = train_test_split(X_tensor, y_tensor, test_size=0.2)\n",
    "\n",
    "train_dataset = TensorDataset(X_train,Y_train)\n",
    "test_dataset = TensorDataset(X_test,Y_test)\n",
    "trainLoader = DataLoader(train_dataset, batch_size=151, shuffle=True)\n",
    "testLoader = DataLoader(test_dataset, batch_size=151 , shuffle=True)"
   ],
   "metadata": {
    "collapsed": false,
    "ExecuteTime": {
     "end_time": "2023-12-11T08:02:40.450806Z",
     "start_time": "2023-12-11T08:02:39.589299300Z"
    }
   },
   "id": "1b4d7ab682db190"
  },
  {
   "cell_type": "markdown",
   "source": [
    "**Neural network architecture**"
   ],
   "metadata": {
    "collapsed": false
   },
   "id": "c09425cda2803e81"
  },
  {
   "cell_type": "code",
   "execution_count": 116,
   "outputs": [],
   "source": [
    "class NeuralNetwork(nn.Module):\n",
    "    def __init__(self):\n",
    "        super(NeuralNetwork, self).__init__()\n",
    "        self.layer1 = nn.Linear(X_train.shape[1], 64)\n",
    "        self.relu = nn.ReLU()\n",
    "        self.layer2 = nn.Linear(64,4096)\n",
    "        self.layer3 = nn.Linear(4096,512)\n",
    "        self.layer4 = nn.Linear(512, 7)\n",
    "\n",
    "    def forward(self, x):\n",
    "        x = self.layer1(x)\n",
    "        x = self.relu(x)\n",
    "        x = self.layer2(x)\n",
    "        x = self.relu(x)\n",
    "        x = self.layer3(x)\n",
    "        x = self.relu(x)\n",
    "        x = self.layer4(x)\n",
    "        return x\n",
    "\n",
    "model = NeuralNetwork()"
   ],
   "metadata": {
    "collapsed": false,
    "ExecuteTime": {
     "end_time": "2023-12-11T08:02:41.724163200Z",
     "start_time": "2023-12-11T08:02:41.700136500Z"
    }
   },
   "id": "d236027392b677ad"
  },
  {
   "cell_type": "markdown",
   "source": [
    "**Training configuration**"
   ],
   "metadata": {
    "collapsed": false
   },
   "id": "3778a1e980f01b97"
  },
  {
   "cell_type": "code",
   "execution_count": 117,
   "outputs": [],
   "source": [
    "criterion = nn.CrossEntropyLoss()\n",
    "optimizer = optim.Adam(model.parameters(), lr=0.001)"
   ],
   "metadata": {
    "collapsed": false,
    "ExecuteTime": {
     "end_time": "2023-12-11T08:02:43.360923700Z",
     "start_time": "2023-12-11T08:02:43.333043400Z"
    }
   },
   "id": "d82cacca40391276"
  },
  {
   "cell_type": "markdown",
   "source": [
    "**Model training**"
   ],
   "metadata": {
    "collapsed": false
   },
   "id": "9677ad226bfe628e"
  },
  {
   "cell_type": "code",
   "execution_count": 118,
   "outputs": [
    {
     "name": "stdout",
     "output_type": "stream",
     "text": [
      "Époque 1, Perte: 0.1671, Exactitude: 92.97%\n"
     ]
    },
    {
     "ename": "KeyboardInterrupt",
     "evalue": "",
     "output_type": "error",
     "traceback": [
      "\u001B[1;31m---------------------------------------------------------------------------\u001B[0m",
      "\u001B[1;31mKeyboardInterrupt\u001B[0m                         Traceback (most recent call last)",
      "Cell \u001B[1;32mIn[118], line 10\u001B[0m\n\u001B[0;32m      8\u001B[0m \u001B[38;5;28;01mfor\u001B[39;00m inputs, labels \u001B[38;5;129;01min\u001B[39;00m trainLoader:\n\u001B[0;32m      9\u001B[0m     optimizer\u001B[38;5;241m.\u001B[39mzero_grad()\n\u001B[1;32m---> 10\u001B[0m     outputs \u001B[38;5;241m=\u001B[39m model(inputs)\n\u001B[0;32m     11\u001B[0m     loss \u001B[38;5;241m=\u001B[39m criterion(outputs, labels)\n\u001B[0;32m     12\u001B[0m     loss\u001B[38;5;241m.\u001B[39mbackward()\n",
      "File \u001B[1;32m~\\.conda\\envs\\ADA\\Lib\\site-packages\\torch\\nn\\modules\\module.py:1518\u001B[0m, in \u001B[0;36mModule._wrapped_call_impl\u001B[1;34m(self, *args, **kwargs)\u001B[0m\n\u001B[0;32m   1516\u001B[0m     \u001B[38;5;28;01mreturn\u001B[39;00m \u001B[38;5;28mself\u001B[39m\u001B[38;5;241m.\u001B[39m_compiled_call_impl(\u001B[38;5;241m*\u001B[39margs, \u001B[38;5;241m*\u001B[39m\u001B[38;5;241m*\u001B[39mkwargs)  \u001B[38;5;66;03m# type: ignore[misc]\u001B[39;00m\n\u001B[0;32m   1517\u001B[0m \u001B[38;5;28;01melse\u001B[39;00m:\n\u001B[1;32m-> 1518\u001B[0m     \u001B[38;5;28;01mreturn\u001B[39;00m \u001B[38;5;28mself\u001B[39m\u001B[38;5;241m.\u001B[39m_call_impl(\u001B[38;5;241m*\u001B[39margs, \u001B[38;5;241m*\u001B[39m\u001B[38;5;241m*\u001B[39mkwargs)\n",
      "File \u001B[1;32m~\\.conda\\envs\\ADA\\Lib\\site-packages\\torch\\nn\\modules\\module.py:1527\u001B[0m, in \u001B[0;36mModule._call_impl\u001B[1;34m(self, *args, **kwargs)\u001B[0m\n\u001B[0;32m   1522\u001B[0m \u001B[38;5;66;03m# If we don't have any hooks, we want to skip the rest of the logic in\u001B[39;00m\n\u001B[0;32m   1523\u001B[0m \u001B[38;5;66;03m# this function, and just call forward.\u001B[39;00m\n\u001B[0;32m   1524\u001B[0m \u001B[38;5;28;01mif\u001B[39;00m \u001B[38;5;129;01mnot\u001B[39;00m (\u001B[38;5;28mself\u001B[39m\u001B[38;5;241m.\u001B[39m_backward_hooks \u001B[38;5;129;01mor\u001B[39;00m \u001B[38;5;28mself\u001B[39m\u001B[38;5;241m.\u001B[39m_backward_pre_hooks \u001B[38;5;129;01mor\u001B[39;00m \u001B[38;5;28mself\u001B[39m\u001B[38;5;241m.\u001B[39m_forward_hooks \u001B[38;5;129;01mor\u001B[39;00m \u001B[38;5;28mself\u001B[39m\u001B[38;5;241m.\u001B[39m_forward_pre_hooks\n\u001B[0;32m   1525\u001B[0m         \u001B[38;5;129;01mor\u001B[39;00m _global_backward_pre_hooks \u001B[38;5;129;01mor\u001B[39;00m _global_backward_hooks\n\u001B[0;32m   1526\u001B[0m         \u001B[38;5;129;01mor\u001B[39;00m _global_forward_hooks \u001B[38;5;129;01mor\u001B[39;00m _global_forward_pre_hooks):\n\u001B[1;32m-> 1527\u001B[0m     \u001B[38;5;28;01mreturn\u001B[39;00m forward_call(\u001B[38;5;241m*\u001B[39margs, \u001B[38;5;241m*\u001B[39m\u001B[38;5;241m*\u001B[39mkwargs)\n\u001B[0;32m   1529\u001B[0m \u001B[38;5;28;01mtry\u001B[39;00m:\n\u001B[0;32m   1530\u001B[0m     result \u001B[38;5;241m=\u001B[39m \u001B[38;5;28;01mNone\u001B[39;00m\n",
      "Cell \u001B[1;32mIn[116], line 15\u001B[0m, in \u001B[0;36mNeuralNetwork.forward\u001B[1;34m(self, x)\u001B[0m\n\u001B[0;32m     13\u001B[0m x \u001B[38;5;241m=\u001B[39m \u001B[38;5;28mself\u001B[39m\u001B[38;5;241m.\u001B[39mlayer2(x)\n\u001B[0;32m     14\u001B[0m x \u001B[38;5;241m=\u001B[39m \u001B[38;5;28mself\u001B[39m\u001B[38;5;241m.\u001B[39mrelu(x)\n\u001B[1;32m---> 15\u001B[0m x \u001B[38;5;241m=\u001B[39m \u001B[38;5;28mself\u001B[39m\u001B[38;5;241m.\u001B[39mlayer3(x)\n\u001B[0;32m     16\u001B[0m x \u001B[38;5;241m=\u001B[39m \u001B[38;5;28mself\u001B[39m\u001B[38;5;241m.\u001B[39mrelu(x)\n\u001B[0;32m     17\u001B[0m x \u001B[38;5;241m=\u001B[39m \u001B[38;5;28mself\u001B[39m\u001B[38;5;241m.\u001B[39mlayer4(x)\n",
      "File \u001B[1;32m~\\.conda\\envs\\ADA\\Lib\\site-packages\\torch\\nn\\modules\\module.py:1518\u001B[0m, in \u001B[0;36mModule._wrapped_call_impl\u001B[1;34m(self, *args, **kwargs)\u001B[0m\n\u001B[0;32m   1516\u001B[0m     \u001B[38;5;28;01mreturn\u001B[39;00m \u001B[38;5;28mself\u001B[39m\u001B[38;5;241m.\u001B[39m_compiled_call_impl(\u001B[38;5;241m*\u001B[39margs, \u001B[38;5;241m*\u001B[39m\u001B[38;5;241m*\u001B[39mkwargs)  \u001B[38;5;66;03m# type: ignore[misc]\u001B[39;00m\n\u001B[0;32m   1517\u001B[0m \u001B[38;5;28;01melse\u001B[39;00m:\n\u001B[1;32m-> 1518\u001B[0m     \u001B[38;5;28;01mreturn\u001B[39;00m \u001B[38;5;28mself\u001B[39m\u001B[38;5;241m.\u001B[39m_call_impl(\u001B[38;5;241m*\u001B[39margs, \u001B[38;5;241m*\u001B[39m\u001B[38;5;241m*\u001B[39mkwargs)\n",
      "File \u001B[1;32m~\\.conda\\envs\\ADA\\Lib\\site-packages\\torch\\nn\\modules\\module.py:1527\u001B[0m, in \u001B[0;36mModule._call_impl\u001B[1;34m(self, *args, **kwargs)\u001B[0m\n\u001B[0;32m   1522\u001B[0m \u001B[38;5;66;03m# If we don't have any hooks, we want to skip the rest of the logic in\u001B[39;00m\n\u001B[0;32m   1523\u001B[0m \u001B[38;5;66;03m# this function, and just call forward.\u001B[39;00m\n\u001B[0;32m   1524\u001B[0m \u001B[38;5;28;01mif\u001B[39;00m \u001B[38;5;129;01mnot\u001B[39;00m (\u001B[38;5;28mself\u001B[39m\u001B[38;5;241m.\u001B[39m_backward_hooks \u001B[38;5;129;01mor\u001B[39;00m \u001B[38;5;28mself\u001B[39m\u001B[38;5;241m.\u001B[39m_backward_pre_hooks \u001B[38;5;129;01mor\u001B[39;00m \u001B[38;5;28mself\u001B[39m\u001B[38;5;241m.\u001B[39m_forward_hooks \u001B[38;5;129;01mor\u001B[39;00m \u001B[38;5;28mself\u001B[39m\u001B[38;5;241m.\u001B[39m_forward_pre_hooks\n\u001B[0;32m   1525\u001B[0m         \u001B[38;5;129;01mor\u001B[39;00m _global_backward_pre_hooks \u001B[38;5;129;01mor\u001B[39;00m _global_backward_hooks\n\u001B[0;32m   1526\u001B[0m         \u001B[38;5;129;01mor\u001B[39;00m _global_forward_hooks \u001B[38;5;129;01mor\u001B[39;00m _global_forward_pre_hooks):\n\u001B[1;32m-> 1527\u001B[0m     \u001B[38;5;28;01mreturn\u001B[39;00m forward_call(\u001B[38;5;241m*\u001B[39margs, \u001B[38;5;241m*\u001B[39m\u001B[38;5;241m*\u001B[39mkwargs)\n\u001B[0;32m   1529\u001B[0m \u001B[38;5;28;01mtry\u001B[39;00m:\n\u001B[0;32m   1530\u001B[0m     result \u001B[38;5;241m=\u001B[39m \u001B[38;5;28;01mNone\u001B[39;00m\n",
      "File \u001B[1;32m~\\.conda\\envs\\ADA\\Lib\\site-packages\\torch\\nn\\modules\\linear.py:114\u001B[0m, in \u001B[0;36mLinear.forward\u001B[1;34m(self, input)\u001B[0m\n\u001B[0;32m    113\u001B[0m \u001B[38;5;28;01mdef\u001B[39;00m \u001B[38;5;21mforward\u001B[39m(\u001B[38;5;28mself\u001B[39m, \u001B[38;5;28minput\u001B[39m: Tensor) \u001B[38;5;241m-\u001B[39m\u001B[38;5;241m>\u001B[39m Tensor:\n\u001B[1;32m--> 114\u001B[0m     \u001B[38;5;28;01mreturn\u001B[39;00m F\u001B[38;5;241m.\u001B[39mlinear(\u001B[38;5;28minput\u001B[39m, \u001B[38;5;28mself\u001B[39m\u001B[38;5;241m.\u001B[39mweight, \u001B[38;5;28mself\u001B[39m\u001B[38;5;241m.\u001B[39mbias)\n",
      "\u001B[1;31mKeyboardInterrupt\u001B[0m: "
     ]
    }
   ],
   "source": [
    "model.train()\n",
    "\n",
    "for epoch in range(100):  # 4 is the nbr of epochs\n",
    "    running_loss = 0.0\n",
    "    total_train = 0\n",
    "    correct_train = 0\n",
    "\n",
    "    for inputs, labels in trainLoader:\n",
    "        optimizer.zero_grad()\n",
    "        outputs = model(inputs)\n",
    "        loss = criterion(outputs, labels)\n",
    "        loss.backward()\n",
    "        optimizer.step()\n",
    "\n",
    "        running_loss += loss.item()\n",
    "        _, predicted = torch.max(outputs.data, 1)\n",
    "        total_train += labels.size(0)\n",
    "        correct_train += (predicted == labels).sum().item()\n",
    "\n",
    "    # Calculer la perte moyenne et l'exactitude pour l'époque\n",
    "    epoch_loss = running_loss / len(trainLoader)\n",
    "    epoch_accuracy = 100 * correct_train / total_train\n",
    "    print(f'Époque {epoch + 1}, Perte: {epoch_loss:.4f}, Exactitude: {epoch_accuracy:.2f}%')\n"
   ],
   "metadata": {
    "collapsed": false,
    "ExecuteTime": {
     "end_time": "2023-12-11T08:12:50.342565800Z",
     "start_time": "2023-12-11T08:02:49.029125100Z"
    }
   },
   "id": "1f69a171ab3eb11a"
  },
  {
   "cell_type": "markdown",
   "source": [
    "**Model testing**"
   ],
   "metadata": {
    "collapsed": false
   },
   "id": "57bde6a4eb73d9fb"
  },
  {
   "cell_type": "code",
   "execution_count": 28,
   "outputs": [
    {
     "name": "stdout",
     "output_type": "stream",
     "text": [
      "Exactitude sur l'ensemble de test: 94.8273097888324%\n"
     ]
    }
   ],
   "source": [
    "model.eval()  # Mettre le modèle en mode évaluation\n",
    "total_test = 0\n",
    "correct_test = 0\n",
    "\n",
    "y_true = []\n",
    "y_pred = []\n",
    "\n",
    "with torch.no_grad():\n",
    "    for inputs, labels in testLoader:\n",
    "        labels = labels.long()\n",
    "        outputs = model(inputs)\n",
    "        _, predicted = torch.max(outputs.data, 1)\n",
    "        y_true.extend(labels.tolist())\n",
    "        y_pred.extend(predicted.tolist())\n",
    "        total_test += labels.size(0)\n",
    "        correct_test += (predicted == labels).sum().item()\n",
    "\n",
    "test_accuracy = 100 * correct_test / total_test\n",
    "print(f'Exactitude sur l\\'ensemble de test: {test_accuracy}%')\n"
   ],
   "metadata": {
    "collapsed": false,
    "ExecuteTime": {
     "end_time": "2023-12-04T14:22:47.160297200Z",
     "start_time": "2023-12-04T14:22:09.968939900Z"
    }
   },
   "id": "cef6ff502c453bf4"
  },
  {
   "cell_type": "markdown",
   "source": [
    "**Confusion matrix visualization**"
   ],
   "metadata": {
    "collapsed": false
   },
   "id": "8fb67099c7d60b86"
  },
  {
   "cell_type": "code",
   "execution_count": 29,
   "outputs": [
    {
     "data": {
      "text/plain": "Text(52.722222222222214, 0.5, 'True labels')"
     },
     "execution_count": 29,
     "metadata": {},
     "output_type": "execute_result"
    },
    {
     "data": {
      "text/plain": "<Figure size 640x480 with 2 Axes>",
      "image/png": "[encoded data removed]"
     },
     "metadata": {},
     "output_type": "display_data"
    }
   ],
   "source": [
    "conf_matrix = confusion_matrix(y_true,y_pred)\n",
    "\n",
    "sns.heatmap(conf_matrix, annot=True, fmt = 'd')\n",
    "plt.xlabel('Predictions')\n",
    "plt.ylabel('True labels')"
   ],
   "metadata": {
    "collapsed": false,
    "ExecuteTime": {
     "end_time": "2023-12-04T14:22:48.958369400Z",
     "start_time": "2023-12-04T14:22:47.267847400Z"
    }
   },
   "id": "a4f7e39973b1f3c4"
  },
  {
   "cell_type": "markdown",
   "source": [
    "**Classification report**"
   ],
   "metadata": {
    "collapsed": false
   },
   "id": "db028a1ace45058f"
  },
  {
   "cell_type": "code",
   "execution_count": 30,
   "outputs": [
    {
     "name": "stdout",
     "output_type": "stream",
     "text": [
      "              precision    recall  f1-score   support\n",
      "\n",
      "           0       0.93      0.94      0.93     76042\n",
      "           1       0.98      0.92      0.95     72501\n",
      "           2       0.95      0.95      0.95     95233\n",
      "           3       1.00      1.00      1.00     42157\n",
      "           4       0.93      0.98      0.95     65893\n",
      "           5       0.95      0.90      0.93     37810\n",
      "           6       0.90      0.96      0.93     46984\n",
      "\n",
      "    accuracy                           0.95    436620\n",
      "   macro avg       0.95      0.95      0.95    436620\n",
      "weighted avg       0.95      0.95      0.95    436620\n"
     ]
    }
   ],
   "source": [
    "print(classification_report(y_true, y_pred))"
   ],
   "metadata": {
    "collapsed": false,
    "ExecuteTime": {
     "end_time": "2023-12-04T14:23:04.544886300Z",
     "start_time": "2023-12-04T14:23:03.033811600Z"
    }
   },
   "id": "4978ab5df46e36ac"
  },
  {
   "cell_type": "markdown",
   "source": [
    "**Convolutionnal Neural network**"
   ],
   "metadata": {
    "collapsed": false
   },
   "id": "addc1ac00aed76c7"
  },
  {
   "cell_type": "markdown",
   "source": [
    "Data preprocessing"
   ],
   "metadata": {
    "collapsed": false
   },
   "id": "de4d484d41a115aa"
  },
  {
   "cell_type": "code",
   "execution_count": 75,
   "outputs": [],
   "source": [
    "class ConvNeuralNetwork(nn.Module):\n",
    "    def __init__(self):\n",
    "        super(ConvNeuralNetwork, self).__init__()\n",
    "        self.conv1 = nn.Conv3d(in_channels=3, out_channels=64, kernel_size=(3,3,3), stride=1, padding=1)\n",
    "        self.conv2 = nn.Conv3d(in_channels=64, out_channels=128, kernel_size=(3,3,3), stride=1, padding=1)\n",
    "        self.fc1 = nn.Linear(in_features=12672, out_features=50)\n",
    "        self.fc2 = nn.Linear(in_features=50, out_features=7)\n",
    "\n",
    "    def forward(self, x):\n",
    "        x = F.relu(self.conv1(x))\n",
    "        x = F.relu(self.conv2(x))\n",
    "        x = x.view(x.size(0),-1)\n",
    "        x = F.relu(self.fc1(x))\n",
    "        x = self.fc2(x)\n",
    "        return x\n",
    "\n",
    "modelCNN = ConvNeuralNetwork()"
   ],
   "metadata": {
    "collapsed": false,
    "ExecuteTime": {
     "end_time": "2023-12-10T20:43:23.994239500Z",
     "start_time": "2023-12-10T20:43:23.984667Z"
    }
   },
   "id": "eb2647f56b0e82a3"
  },
  {
   "cell_type": "markdown",
   "source": [
    "CNN config"
   ],
   "metadata": {
    "collapsed": false
   },
   "id": "8862b4808b4c4a03"
  },
  {
   "cell_type": "code",
   "execution_count": 76,
   "outputs": [],
   "source": [
    "criterion_cnn = nn.CrossEntropyLoss()\n",
    "optimizer_cnn = torch.optim.Adam(modelCNN.parameters(), lr = 0.0001)"
   ],
   "metadata": {
    "collapsed": false,
    "ExecuteTime": {
     "end_time": "2023-12-10T20:43:40.724621200Z",
     "start_time": "2023-12-10T20:43:40.720458800Z"
    }
   },
   "id": "803fa978c4fe8943"
  },
  {
   "cell_type": "code",
   "execution_count": 77,
   "outputs": [],
   "source": [
    "scheduler_cnn = torch.optim.lr_scheduler.StepLR(optimizer_cnn, step_size=30, gamma=0.1)"
   ],
   "metadata": {
    "collapsed": false,
    "ExecuteTime": {
     "end_time": "2023-12-10T20:43:43.313353500Z",
     "start_time": "2023-12-10T20:43:43.296841600Z"
    }
   },
   "id": "69f6afcc92730a08"
  },
  {
   "cell_type": "markdown",
   "source": [
    "Training Cnn"
   ],
   "metadata": {
    "collapsed": false
   },
   "id": "cde2f2143412892b"
  },
  {
   "cell_type": "code",
   "execution_count": 36,
   "outputs": [],
   "source": [
    "\n",
    "cols_x = [col for col in X.columns if col.endswith('x')]\n",
    "cols_y = [col for col in X.columns if col.endswith('y')]\n",
    "cols_z = [col for col in X.columns if col.endswith('z')]\n",
    "tensor_5D = torch.zeros((len(X), 3, 33, 1, 1), dtype=torch.float32)\n"
   ],
   "metadata": {
    "collapsed": false,
    "ExecuteTime": {
     "end_time": "2023-12-10T10:31:56.711848300Z",
     "start_time": "2023-12-10T10:31:56.525290900Z"
    }
   },
   "id": "b2b257c6c329261a"
  },
  {
   "cell_type": "code",
   "execution_count": 37,
   "outputs": [
    {
     "name": "stdout",
     "output_type": "stream",
     "text": [
      "torch.Size([2183485, 33, 3, 1, 1])\n",
      "tensor([ 0.0207, -0.6934,  0.0230])\n",
      "Original: 0.020658314 -0.6934193 0.023042714\n"
     ]
    }
   ],
   "source": [
    "nbr_of_points = (X.shape[1])//3\n",
    "X_reshape = X.values.reshape(-1,nbr_of_points,3)\n",
    "tensor_4D_transposed = np.expand_dims(np.expand_dims(np.transpose(X_reshape, (0, 2, 1)), axis=3), axis=4)\n",
    "tensor_5D = torch.from_numpy(tensor_4D_transposed)\n",
    "tensor_5D = tensor_5D.permute(0, 2, 1, 3, 4)\n",
    "print(tensor_5D.shape)\n",
    "original_x = X[cols_x[1]].iloc[0]\n",
    "original_y = X[cols_y[1]].iloc[0]\n",
    "original_z = X[cols_z[1]].iloc[0]\n",
    "\n",
    "print( tensor_5D[0, 1,:, 0, 0])\n",
    "print(\"Original:\", original_x, original_y, original_z)"
   ],
   "metadata": {
    "collapsed": false,
    "ExecuteTime": {
     "end_time": "2023-12-10T10:31:57.568116500Z",
     "start_time": "2023-12-10T10:31:57.509930900Z"
    }
   },
   "id": "a9fd0ad99b58ccf2"
  },
  {
   "cell_type": "code",
   "execution_count": 38,
   "outputs": [],
   "source": [
    "data_x = X[cols_x].values\n",
    "data_y = X[cols_y].values\n",
    "data_z = X[cols_z].values\n",
    "\n",
    "# Calculer les moyennes pour chaque axe\n",
    "mean_x = np.mean(data_x, axis=0)\n",
    "mean_y = np.mean(data_y, axis=0)\n",
    "mean_z = np.mean(data_z, axis=0)\n",
    "\n",
    "# Créer un tableau pour les coordonnées moyennes\n",
    "mean_coords = np.stack([mean_x, mean_y, mean_z], axis=1)"
   ],
   "metadata": {
    "collapsed": false,
    "ExecuteTime": {
     "end_time": "2023-12-10T10:31:59.520985Z",
     "start_time": "2023-12-10T10:31:58.407862300Z"
    }
   },
   "id": "cc023b6ec3caf05b"
  },
  {
   "cell_type": "code",
   "execution_count": 17,
   "outputs": [
    {
     "data": {
      "text/plain": "array([[ 0.11347116,  0.41206405,  0.03817024],\n       [-0.04062613, -0.36569685, -0.05145   ],\n       [ 0.0444637 , -0.16425118, -0.03951038],\n       [-0.05970982, -0.36238524, -0.10778308],\n       [-0.05994033, -0.3620406 , -0.10857669],\n       [-0.05984277, -0.36266443, -0.10780706],\n       [ 0.1345765 ,  0.49102536, -0.01571841],\n       [ 0.11900878,  0.4419805 ,  0.04027942],\n       [ 0.05345576, -0.00783226,  0.02146522],\n       [ 0.08022003, -0.07843729, -0.12882403],\n       [ 0.09298596,  0.1810598 , -0.02500963],\n       [-0.04554022, -0.32576275, -0.09079313],\n       [ 0.08709312, -0.0737981 , -0.11398076],\n       [ 0.01826495, -0.27895498, -0.00777375],\n       [ 0.07127174, -0.09455614, -0.10589939],\n       [ 0.07263917, -0.09979846, -0.09927735],\n       [-0.05691947, -0.3361927 , -0.11335   ],\n       [ 0.02069723,  0.36627063,  0.02025394],\n       [-0.10232808, -0.35418245, -0.08111832],\n       [-0.17088765, -0.1485435 , -0.09778771],\n       [-0.07242035, -0.35846683, -0.11337472],\n       [-0.07261504, -0.35789564, -0.1125342 ],\n       [-0.07274417, -0.35930616, -0.11262887],\n       [ 0.02715504,  0.4396311 , -0.01536022],\n       [ 0.02331576,  0.39138955,  0.0277077 ],\n       [-0.0536255 ,  0.00750459, -0.02012141],\n       [-0.16352706, -0.087742  , -0.18414754],\n       [-0.00659707,  0.1845242 , -0.07392066],\n       [-0.06351234, -0.3209008 , -0.09852885],\n       [-0.17623702, -0.07642471, -0.1829972 ],\n       [-0.12689382, -0.2593327 , -0.06786656],\n       [-0.17138466, -0.09328998, -0.16489646],\n       [-0.1808502 , -0.09530081, -0.16089424]], dtype=float32)"
     },
     "execution_count": 17,
     "metadata": {},
     "output_type": "execute_result"
    }
   ],
   "source": [
    "mean_coords"
   ],
   "metadata": {
    "collapsed": false,
    "ExecuteTime": {
     "end_time": "2023-12-10T10:30:20.115109900Z",
     "start_time": "2023-12-10T10:30:20.097709500Z"
    }
   },
   "id": "5b273a5d6ce4379b"
  },
  {
   "cell_type": "markdown",
   "source": [],
   "metadata": {
    "collapsed": false
   },
   "id": "3804d9d5c0b3fc2f"
  },
  {
   "cell_type": "code",
   "execution_count": 39,
   "outputs": [
    {
     "name": "stdout",
     "output_type": "stream",
     "text": [
      "(33, 3)\n"
     ]
    }
   ],
   "source": [
    "from sklearn.decomposition import PCA\n",
    "\n",
    "# Utiliser PCA pour réduire à trois dimensions\n",
    "pca = PCA(n_components=3)\n",
    "reduced_coords = pca.fit_transform(mean_coords)\n",
    "\n",
    "# Normaliser les coordonnées réduites pour qu'elles correspondent à votre grille 3D\n",
    "# Par exemple, si votre grille est de taille 3x3x11\n",
    "normalized_coords = (reduced_coords - reduced_coords.min(0)) / reduced_coords.ptp(0)\n",
    "print(normalized_coords.shape)\n",
    "grid_coords = np.round(normalized_coords * np.array([2, 2, 10])).astype(int)\n"
   ],
   "metadata": {
    "collapsed": false,
    "ExecuteTime": {
     "end_time": "2023-12-10T10:32:02.147650800Z",
     "start_time": "2023-12-10T10:32:02.122485200Z"
    }
   },
   "id": "5916fbd4ffbcc8b3"
  },
  {
   "cell_type": "code",
   "execution_count": 40,
   "outputs": [
    {
     "name": "stdout",
     "output_type": "stream",
     "text": [
      "Coordonnées avec des doublons : [[0 1 3]\n",
      " [0 1 4]\n",
      " [1 0 8]\n",
      " [1 2 5]\n",
      " [2 1 1]]\n"
     ]
    }
   ],
   "source": [
    "unique_coords, counts = np.unique(grid_coords, axis=0, return_counts=True)\n",
    "\n",
    "# Identifier les coordonnées où plus d'une feature a été mappée\n",
    "duplicate_coords = unique_coords[counts > 1]\n",
    "print(\"Coordonnées avec des doublons :\", duplicate_coords)"
   ],
   "metadata": {
    "collapsed": false,
    "ExecuteTime": {
     "end_time": "2023-12-10T10:32:03.393987600Z",
     "start_time": "2023-12-10T10:32:03.377900100Z"
    }
   },
   "id": "3da66124c78e6f84"
  },
  {
   "cell_type": "code",
   "execution_count": 41,
   "outputs": [
    {
     "data": {
      "text/plain": "(5, 3)"
     },
     "execution_count": 41,
     "metadata": {},
     "output_type": "execute_result"
    }
   ],
   "source": [
    "duplicate_coords.shape"
   ],
   "metadata": {
    "collapsed": false,
    "ExecuteTime": {
     "end_time": "2023-12-10T10:32:05.248493800Z",
     "start_time": "2023-12-10T10:32:05.230485700Z"
    }
   },
   "id": "bcaea53f340cb848"
  },
  {
   "cell_type": "code",
   "execution_count": 42,
   "outputs": [
    {
     "name": "stdout",
     "output_type": "stream",
     "text": [
      "Features mappées à [0 1 3] : [11 28]\n",
      "Features mappées à [0 1 4] : [ 3  4  5 16 20 21 22]\n",
      "Features mappées à [1 0 8] : [14 15]\n",
      "Features mappées à [1 2 5] : [31 32]\n",
      "Features mappées à [2 1 1] : [17 24]\n"
     ]
    }
   ],
   "source": [
    "for coord in duplicate_coords:\n",
    "    # Trouver les indices des features qui ont été mappées à ces coordonnées\n",
    "    features_at_coord = np.where((grid_coords == coord).all(axis=1))[0]\n",
    "    print(f\"Features mappées à {coord} : {features_at_coord}\")\n"
   ],
   "metadata": {
    "collapsed": false,
    "ExecuteTime": {
     "end_time": "2023-12-10T10:32:05.876670100Z",
     "start_time": "2023-12-10T10:32:05.871159800Z"
    }
   },
   "id": "e7c62f3b2677c076"
  },
  {
   "cell_type": "code",
   "execution_count": 43,
   "outputs": [
    {
     "name": "stdout",
     "output_type": "stream",
     "text": [
      "Coordonnées (0, 1, 4) ont les features [3, 4, 5, 16, 20, 21, 22]\n",
      "Coordonnées (0, 1, 3) ont les features [11, 28]\n",
      "Coordonnées (1, 0, 8) ont les features [14, 15]\n",
      "Coordonnées (2, 1, 1) ont les features [17, 24]\n",
      "Coordonnées (1, 2, 5) ont les features [31, 32]\n"
     ]
    }
   ],
   "source": [
    "feature_to_grid = {}\n",
    "for feature_idx, coord in enumerate(grid_coords):\n",
    "    coord_tuple = tuple(coord)\n",
    "    if coord_tuple not in feature_to_grid:\n",
    "        feature_to_grid[coord_tuple] = []\n",
    "    feature_to_grid[coord_tuple].append(feature_idx)\n",
    "\n",
    "# Identifier les coordonnées avec des doublons\n",
    "for coord, features in feature_to_grid.items():\n",
    "    if len(features) > 1:\n",
    "        print(f\"Coordonnées {coord} ont les features {features}\")\n"
   ],
   "metadata": {
    "collapsed": false,
    "ExecuteTime": {
     "end_time": "2023-12-10T10:32:07.091212200Z",
     "start_time": "2023-12-10T10:32:07.073176500Z"
    }
   },
   "id": "92e448a9ded55c5d"
  },
  {
   "cell_type": "code",
   "execution_count": 23,
   "outputs": [
    {
     "data": {
      "text/plain": "array([[ 0.11347116,  0.41206405,  0.03817024],\n       [-0.04062613, -0.36569685, -0.05145   ],\n       [ 0.0444637 , -0.16425118, -0.03951038],\n       [-0.05970982, -0.36238524, -0.10778308],\n       [-0.05994033, -0.3620406 , -0.10857669],\n       [-0.05984277, -0.36266443, -0.10780706],\n       [ 0.1345765 ,  0.49102536, -0.01571841],\n       [ 0.11900878,  0.4419805 ,  0.04027942],\n       [ 0.05345576, -0.00783226,  0.02146522],\n       [ 0.08022003, -0.07843729, -0.12882403],\n       [ 0.09298596,  0.1810598 , -0.02500963],\n       [-0.04554022, -0.32576275, -0.09079313],\n       [ 0.08709312, -0.0737981 , -0.11398076],\n       [ 0.01826495, -0.27895498, -0.00777375],\n       [ 0.07127174, -0.09455614, -0.10589939],\n       [ 0.07263917, -0.09979846, -0.09927735],\n       [-0.05691947, -0.3361927 , -0.11335   ],\n       [ 0.02069723,  0.36627063,  0.02025394],\n       [-0.10232808, -0.35418245, -0.08111832],\n       [-0.17088765, -0.1485435 , -0.09778771],\n       [-0.07242035, -0.35846683, -0.11337472],\n       [-0.07261504, -0.35789564, -0.1125342 ],\n       [-0.07274417, -0.35930616, -0.11262887],\n       [ 0.02715504,  0.4396311 , -0.01536022],\n       [ 0.02331576,  0.39138955,  0.0277077 ],\n       [-0.0536255 ,  0.00750459, -0.02012141],\n       [-0.16352706, -0.087742  , -0.18414754],\n       [-0.00659707,  0.1845242 , -0.07392066],\n       [-0.06351234, -0.3209008 , -0.09852885],\n       [-0.17623702, -0.07642471, -0.1829972 ],\n       [-0.12689382, -0.2593327 , -0.06786656],\n       [-0.17138466, -0.09328998, -0.16489646],\n       [-0.1808502 , -0.09530081, -0.16089424]], dtype=float32)"
     },
     "execution_count": 23,
     "metadata": {},
     "output_type": "execute_result"
    }
   ],
   "source": [
    "mean_coords"
   ],
   "metadata": {
    "collapsed": false,
    "ExecuteTime": {
     "end_time": "2023-12-10T10:30:30.262396900Z",
     "start_time": "2023-12-10T10:30:30.237847200Z"
    }
   },
   "id": "62ef164122872175"
  },
  {
   "cell_type": "code",
   "execution_count": 24,
   "outputs": [
    {
     "data": {
      "text/plain": "left_ankle_x          0.113471\nleft_ear_x           -0.040626\nleft_elbow_x          0.044464\nleft_eye_center_x    -0.059710\nleft_eye_inner_x     -0.059940\nleft_eye_outer_x     -0.059843\nleft_foot_x           0.134576\nleft_heel_x           0.119009\nleft_hip_x            0.053456\nleft_index_x          0.080220\nleft_knee_x           0.092986\nleft_mouth_x         -0.045540\nleft_pinky_x          0.087093\nleft_shoulder_x       0.018265\nleft_thumb_x          0.071272\nleft_wrist_x          0.072639\nnose_x               -0.056919\nright_ankle_x         0.020697\nright_ear_x          -0.102328\nright_elbow_x        -0.170888\nright_eye_center_x   -0.072420\nright_eye_inner_x    -0.072615\nright_eye_outer_x    -0.072744\nright_foot_x          0.027155\nright_heel_x          0.023316\nright_hip_x          -0.053625\nright_index_x        -0.163527\nright_knee_x         -0.006597\nright_mouth_x        -0.063512\nright_pinky_x        -0.176237\nright_shoulder_x     -0.126894\nright_thumb_x        -0.171385\nright_wrist_x        -0.180850\ndtype: float32"
     },
     "execution_count": 24,
     "metadata": {},
     "output_type": "execute_result"
    }
   ],
   "source": [
    "X[cols_x].mean(axis = 0)"
   ],
   "metadata": {
    "collapsed": false,
    "ExecuteTime": {
     "end_time": "2023-12-10T10:30:32.991320Z",
     "start_time": "2023-12-10T10:30:32.613464300Z"
    }
   },
   "id": "e0b394331abb88f2"
  },
  {
   "cell_type": "code",
   "execution_count": 25,
   "outputs": [
    {
     "data": {
      "text/plain": "<Figure size 640x480 with 1 Axes>",
      "image/png": "[encoded data removed]"
     },
     "metadata": {},
     "output_type": "display_data"
    }
   ],
   "source": [
    "fig = plt.figure()\n",
    "ax = fig.add_subplot(projection='3d')\n",
    "ax.scatter(mean_coords[:,0], mean_coords[:,1], mean_coords[:,2])\n",
    "plt.show()"
   ],
   "metadata": {
    "collapsed": false,
    "ExecuteTime": {
     "end_time": "2023-12-10T10:30:35.142037600Z",
     "start_time": "2023-12-10T10:30:34.929795600Z"
    }
   },
   "id": "e80ee6620ef6d5fa"
  },
  {
   "cell_type": "code",
   "execution_count": 46,
   "outputs": [],
   "source": [
    "depth, height, width = 3, 3, 11\n",
    "\n",
    "# Nombre de canaux (supposons 3 pour x, y, z)\n",
    "num_channels = 3\n",
    "\n",
    "# Nombre d'échantillons\n",
    "num_samples = 2183485\n",
    "\n",
    "# Initialiser un tenseur vide\n",
    "grid_tensor = torch.zeros((num_samples, num_channels, depth, height, width))"
   ],
   "metadata": {
    "collapsed": false,
    "ExecuteTime": {
     "end_time": "2023-12-10T10:33:03.365307100Z",
     "start_time": "2023-12-10T10:33:02.568916300Z"
    }
   },
   "id": "9f71b414998d3db0"
  },
  {
   "cell_type": "code",
   "execution_count": 47,
   "outputs": [],
   "source": [
    "# Parcourir chaque feature et placer ses valeurs dans le tenseur\n",
    "for feature_idx in range(33):  # Supposons que vous avez 33 features\n",
    "    # Coordonnées normalisées et arrondies pour la feature actuelle\n",
    "    d, h, w = grid_coords[feature_idx]\n",
    "\n",
    "    # Assurer que les indices sont dans les limites de la grille\n",
    "    d, h, w = np.clip([d, h, w], 0, [depth - 1, height - 1, width - 1])\n",
    "\n",
    "    # Placer les valeurs de la feature dans le tenseur\n",
    "    # Ici, cols_x, cols_y, cols_z sont les noms des colonnes dans X pour chaque coordonnée\n",
    "    grid_tensor[:, 0, d, h, w] = torch.tensor(X[cols_x[feature_idx]].values)\n",
    "    grid_tensor[:, 1, d, h, w] = torch.tensor(X[cols_y[feature_idx]].values)\n",
    "    grid_tensor[:, 2, d, h, w] = torch.tensor(X[cols_z[feature_idx]].values)\n"
   ],
   "metadata": {
    "collapsed": false,
    "ExecuteTime": {
     "end_time": "2023-12-10T10:33:06.051128400Z",
     "start_time": "2023-12-10T10:33:03.413786700Z"
    }
   },
   "id": "7d54d87b1d4102ef"
  },
  {
   "cell_type": "code",
   "execution_count": 48,
   "outputs": [
    {
     "name": "stdout",
     "output_type": "stream",
     "text": [
      "Feature 0: Coordonnées dans la grille - Profondeur: 2, Hauteur: 0, Largeur: 2\n",
      "Feature 1: Coordonnées dans la grille - Profondeur: 0, Hauteur: 0, Largeur: 1\n",
      "Feature 2: Coordonnées dans la grille - Profondeur: 1, Hauteur: 0, Largeur: 3\n",
      "Feature 3: Coordonnées dans la grille - Profondeur: 0, Hauteur: 1, Largeur: 4\n",
      "Feature 4: Coordonnées dans la grille - Profondeur: 0, Hauteur: 1, Largeur: 4\n",
      "tensor([0., 0., 0.])\n"
     ]
    }
   ],
   "source": [
    "for feature_idx in range(5):  # Vérifier les 5 premières features\n",
    "    d, h, w = grid_coords[feature_idx]\n",
    "    print(f\"Feature {feature_idx}: Coordonnées dans la grille - Profondeur: {d}, Hauteur: {h}, Largeur: {w}\")\n",
    "\n",
    "sample_idx = 0  # Index d'un échantillon\n",
    "d, h, w = 1, 1, 4  # Choisissez une position spécifique dans la grille\n",
    "print(grid_tensor[sample_idx, :, d, h, w])  # Affiche les valeurs x, y, z à cette position\n"
   ],
   "metadata": {
    "collapsed": false,
    "ExecuteTime": {
     "end_time": "2023-12-10T10:33:06.070717200Z",
     "start_time": "2023-12-10T10:33:06.052129500Z"
    }
   },
   "id": "17d18e143a9043e8"
  },
  {
   "cell_type": "code",
   "execution_count": 49,
   "outputs": [
    {
     "name": "stdout",
     "output_type": "stream",
     "text": [
      "(33, 3)\n"
     ]
    }
   ],
   "source": [
    "print(grid_coords.shape)"
   ],
   "metadata": {
    "collapsed": false,
    "ExecuteTime": {
     "end_time": "2023-12-10T10:33:06.071717500Z",
     "start_time": "2023-12-10T10:33:06.065511600Z"
    }
   },
   "id": "33bd5c3b69b59fc2"
  },
  {
   "cell_type": "code",
   "execution_count": 50,
   "outputs": [
    {
     "name": "stdout",
     "output_type": "stream",
     "text": [
      "Coordonnées normalisées et arrondies de la première feature : Profondeur: 2, Hauteur: 0, Largeur: 2\n"
     ]
    }
   ],
   "source": [
    "# Coordonnées normalisées et arrondies pour la première feature\n",
    "d, h, w = grid_coords[0]\n",
    "print(f\"Coordonnées normalisées et arrondies de la première feature : Profondeur: {d}, Hauteur: {h}, Largeur: {w}\")\n"
   ],
   "metadata": {
    "collapsed": false,
    "ExecuteTime": {
     "end_time": "2023-12-10T10:33:06.197444900Z",
     "start_time": "2023-12-10T10:33:06.179320100Z"
    }
   },
   "id": "f861807f02965567"
  },
  {
   "cell_type": "code",
   "execution_count": 51,
   "outputs": [
    {
     "name": "stdout",
     "output_type": "stream",
     "text": [
      "Valeurs de la première feature dans le tenseur : tensor([[0.0093, 0.7793, 0.1879],\n",
      "        [0.0094, 0.7793, 0.1851],\n",
      "        [0.0097, 0.7793, 0.1792],\n",
      "        ...,\n",
      "        [0.1054, 0.7652, 0.0840],\n",
      "        [0.1064, 0.7653, 0.0840],\n",
      "        [0.1070, 0.7653, 0.0835]])\n",
      "torch.Size([2183485, 3])\n"
     ]
    }
   ],
   "source": [
    "# Assurez-vous que les indices sont dans les limites de la grille\n",
    "d, h, w = np.clip([d, h, w], 0, [depth - 1, height - 1, width - 1])\n",
    "\n",
    "# Récupérer les valeurs de la première feature dans le tenseur\n",
    "feature_values = grid_tensor[:, :, d, h, w]\n",
    "print(f\"Valeurs de la première feature dans le tenseur : {feature_values}\")\n",
    "print(feature_values.shape)"
   ],
   "metadata": {
    "collapsed": false,
    "ExecuteTime": {
     "end_time": "2023-12-10T10:33:09.920255100Z",
     "start_time": "2023-12-10T10:33:09.894516600Z"
    }
   },
   "id": "20bad2841b379cce"
  },
  {
   "cell_type": "code",
   "execution_count": 52,
   "outputs": [
    {
     "name": "stdout",
     "output_type": "stream",
     "text": [
      "Valeurs originales de la première feature dans X :    left_ankle_x  left_ankle_y  left_ankle_z\n",
      "0      0.009328      0.779305      0.187880\n",
      "1      0.009353      0.779298      0.185050\n",
      "2      0.009722      0.779311      0.179212\n",
      "3      0.011696      0.778027      0.166566\n",
      "4      0.011671      0.778045      0.166878\n"
     ]
    }
   ],
   "source": [
    "# Valeurs originales de la première feature dans X\n",
    "original_values = X.iloc[:, :3]  # Supposant que les 3 premières colonnes sont x, y, z de la première feature\n",
    "print(f\"Valeurs originales de la première feature dans X : {original_values.head()}\")\n"
   ],
   "metadata": {
    "collapsed": false,
    "ExecuteTime": {
     "end_time": "2023-12-10T10:33:11.236049Z",
     "start_time": "2023-12-10T10:33:11.200099200Z"
    }
   },
   "id": "f95f4ac6d01de5ef"
  },
  {
   "cell_type": "code",
   "execution_count": 53,
   "outputs": [
    {
     "data": {
      "text/plain": "torch.Size([2183485, 3, 3, 3, 11])"
     },
     "execution_count": 53,
     "metadata": {},
     "output_type": "execute_result"
    }
   ],
   "source": [
    "grid_tensor.shape "
   ],
   "metadata": {
    "collapsed": false,
    "ExecuteTime": {
     "end_time": "2023-12-10T10:33:13.343930400Z",
     "start_time": "2023-12-10T10:33:13.331646200Z"
    }
   },
   "id": "87dc0166c2cfc6fc"
  },
  {
   "cell_type": "code",
   "execution_count": 79,
   "outputs": [
    {
     "name": "stdout",
     "output_type": "stream",
     "text": [
      "torch.Size([436697, 3, 3, 3, 11])\n"
     ]
    }
   ],
   "source": [
    "Y_tensor_cnn = y_tensor\n",
    "X_train_cnn, X_test_cnn, Y_train_cnn, Y_test_cnn = train_test_split(grid_tensor, Y_tensor_cnn, test_size=0.8)\n",
    "\n",
    "print(X_train_cnn.shape)\n",
    "dataset_train_cnn = TensorDataset(X_train_cnn, Y_train_cnn)\n",
    "trainLoader_cnn = DataLoader(dataset_train_cnn, batch_size=33, shuffle=True)\n",
    "dataset_test_cnn = TensorDataset(X_test_cnn, Y_test_cnn)\n",
    "testLoader_cnn = DataLoader(dataset_test_cnn, batch_size=32, shuffle=True)"
   ],
   "metadata": {
    "collapsed": false,
    "ExecuteTime": {
     "end_time": "2023-12-10T20:44:11.065791100Z",
     "start_time": "2023-12-10T20:44:09.825052Z"
    }
   },
   "id": "4e149e138e325f36"
  },
  {
   "cell_type": "code",
   "execution_count": 80,
   "outputs": [
    {
     "name": "stdout",
     "output_type": "stream",
     "text": [
      "Epuch 1/100, Loss : 0.262394344047651,  Accuracy: 90.10%'\n",
      "Epuch 2/100, Loss : 0.18831119134112798,  Accuracy: 92.25%'\n",
      "Epuch 3/100, Loss : 0.17016363440175636,  Accuracy: 92.90%'\n",
      "Epuch 4/100, Loss : 0.15966599419216904,  Accuracy: 93.35%'\n",
      "Epuch 5/100, Loss : 0.15226581927553456,  Accuracy: 93.60%'\n",
      "Epuch 6/100, Loss : 0.14628141976998896,  Accuracy: 93.87%'\n",
      "Epuch 7/100, Loss : 0.1414830046712796,  Accuracy: 94.02%'\n",
      "Epuch 8/100, Loss : 0.1375865141478428,  Accuracy: 94.18%'\n",
      "Epuch 9/100, Loss : 0.13394925167211175,  Accuracy: 94.35%'\n",
      "Epuch 10/100, Loss : 0.13061814200022243,  Accuracy: 94.48%'\n",
      "Epuch 11/100, Loss : 0.12791332077928616,  Accuracy: 94.61%'\n",
      "Epuch 12/100, Loss : 0.125158974011237,  Accuracy: 94.71%'\n",
      "Epuch 13/100, Loss : 0.12268757551584653,  Accuracy: 94.81%'\n",
      "Epuch 14/100, Loss : 0.12055254856722708,  Accuracy: 94.92%'\n",
      "Epuch 15/100, Loss : 0.11824885043884999,  Accuracy: 94.99%'\n",
      "Epuch 16/100, Loss : 0.11596279844730838,  Accuracy: 95.12%'\n",
      "Epuch 17/100, Loss : 0.1139915125692847,  Accuracy: 95.19%'\n",
      "Epuch 18/100, Loss : 0.11208710703724153,  Accuracy: 95.29%'\n",
      "Epuch 19/100, Loss : 0.11037050274389956,  Accuracy: 95.35%'\n",
      "Epuch 20/100, Loss : 0.10850771682812356,  Accuracy: 95.41%'\n",
      "Epuch 21/100, Loss : 0.1068814529717413,  Accuracy: 95.49%'\n",
      "Epuch 22/100, Loss : 0.10526446352841942,  Accuracy: 95.61%'\n",
      "Epuch 23/100, Loss : 0.10358825108133832,  Accuracy: 95.63%'\n",
      "Epuch 24/100, Loss : 0.10217653613097355,  Accuracy: 95.72%'\n",
      "Epuch 25/100, Loss : 0.1003052353888492,  Accuracy: 95.77%'\n",
      "Epuch 26/100, Loss : 0.09912008979535375,  Accuracy: 95.82%'\n",
      "Epuch 27/100, Loss : 0.09801565374214131,  Accuracy: 95.90%'\n",
      "Epuch 28/100, Loss : 0.09619054767177421,  Accuracy: 95.99%'\n",
      "Epuch 29/100, Loss : 0.09496726501964103,  Accuracy: 96.02%'\n",
      "Epuch 30/100, Loss : 0.09387644112651757,  Accuracy: 96.09%'\n",
      "Epuch 31/100, Loss : 0.092406807130593,  Accuracy: 96.15%'\n",
      "Epuch 32/100, Loss : 0.0915152016620773,  Accuracy: 96.21%'\n",
      "Epuch 33/100, Loss : 0.08996685798885558,  Accuracy: 96.25%'\n",
      "Epuch 34/100, Loss : 0.08858827921102702,  Accuracy: 96.32%'\n",
      "Epuch 35/100, Loss : 0.08771582445474706,  Accuracy: 96.34%'\n",
      "Epuch 36/100, Loss : 0.08686406396153337,  Accuracy: 96.38%'\n",
      "Epuch 37/100, Loss : 0.08530241993679051,  Accuracy: 96.47%'\n",
      "Epuch 38/100, Loss : 0.08423594093429095,  Accuracy: 96.52%'\n",
      "Epuch 39/100, Loss : 0.08309554781462024,  Accuracy: 96.57%'\n",
      "Epuch 40/100, Loss : 0.08244393255819289,  Accuracy: 96.59%'\n",
      "Epuch 41/100, Loss : 0.08152237645662666,  Accuracy: 96.62%'\n",
      "Epuch 42/100, Loss : 0.0801693648791378,  Accuracy: 96.68%'\n",
      "Epuch 43/100, Loss : 0.07951422995346628,  Accuracy: 96.72%'\n",
      "Epuch 44/100, Loss : 0.07850492301967926,  Accuracy: 96.78%'\n",
      "Epuch 45/100, Loss : 0.07776572212065681,  Accuracy: 96.80%'\n",
      "Epuch 46/100, Loss : 0.07663820882518996,  Accuracy: 96.84%'\n",
      "Epuch 47/100, Loss : 0.0756639791162889,  Accuracy: 96.91%'\n",
      "Epuch 48/100, Loss : 0.07510051728572215,  Accuracy: 96.89%'\n",
      "Epuch 49/100, Loss : 0.07404310134690183,  Accuracy: 96.99%'\n",
      "Epuch 50/100, Loss : 0.0731140586456275,  Accuracy: 97.02%'\n",
      "Epuch 51/100, Loss : 0.07219491052295987,  Accuracy: 97.06%'\n",
      "Epuch 52/100, Loss : 0.07140531148562033,  Accuracy: 97.09%'\n",
      "Epuch 53/100, Loss : 0.0703417169624521,  Accuracy: 97.15%'\n",
      "Epuch 54/100, Loss : 0.06978460986777392,  Accuracy: 97.16%'\n",
      "Epuch 55/100, Loss : 0.0687611207260782,  Accuracy: 97.20%'\n",
      "Epuch 56/100, Loss : 0.06826799819563843,  Accuracy: 97.23%'\n",
      "Epuch 57/100, Loss : 0.06721047597817091,  Accuracy: 97.26%'\n",
      "Epuch 58/100, Loss : 0.06663392625981486,  Accuracy: 97.31%'\n",
      "Epuch 59/100, Loss : 0.0656847654806265,  Accuracy: 97.34%'\n",
      "Epuch 60/100, Loss : 0.06523476321744115,  Accuracy: 97.37%'\n",
      "Epuch 61/100, Loss : 0.06433143035091568,  Accuracy: 97.41%'\n",
      "Epuch 62/100, Loss : 0.06390291317180033,  Accuracy: 97.43%'\n",
      "Epuch 63/100, Loss : 0.06280517012133523,  Accuracy: 97.46%'\n",
      "Epuch 64/100, Loss : 0.06275159518360778,  Accuracy: 97.47%'\n",
      "Epuch 65/100, Loss : 0.06182877005190492,  Accuracy: 97.52%'\n",
      "Epuch 66/100, Loss : 0.06126560022040575,  Accuracy: 97.54%'\n",
      "Epuch 67/100, Loss : 0.06055338520932231,  Accuracy: 97.56%'\n",
      "Epuch 68/100, Loss : 0.05978921899948233,  Accuracy: 97.59%'\n",
      "Epuch 69/100, Loss : 0.05911261562334685,  Accuracy: 97.64%'\n",
      "Epuch 70/100, Loss : 0.05850931757743548,  Accuracy: 97.64%'\n",
      "Epuch 71/100, Loss : 0.05802973984842385,  Accuracy: 97.67%'\n",
      "Epuch 72/100, Loss : 0.05725505508053917,  Accuracy: 97.72%'\n",
      "Epuch 73/100, Loss : 0.056822608868256574,  Accuracy: 97.72%'\n",
      "Epuch 74/100, Loss : 0.055785556595256844,  Accuracy: 97.79%'\n",
      "Epuch 75/100, Loss : 0.05566703097633353,  Accuracy: 97.80%'\n",
      "Epuch 76/100, Loss : 0.05492068071904823,  Accuracy: 97.81%'\n",
      "Epuch 77/100, Loss : 0.054425216604608063,  Accuracy: 97.84%'\n",
      "Epuch 78/100, Loss : 0.05381400958160576,  Accuracy: 97.84%'\n",
      "Epuch 79/100, Loss : 0.05314565626730583,  Accuracy: 97.90%'\n",
      "Epuch 80/100, Loss : 0.05280903532109322,  Accuracy: 97.90%'\n",
      "Epuch 81/100, Loss : 0.05227062409683531,  Accuracy: 97.90%'\n",
      "Epuch 82/100, Loss : 0.05184948481941143,  Accuracy: 97.95%'\n",
      "Epuch 83/100, Loss : 0.05119098581861411,  Accuracy: 97.97%'\n",
      "Epuch 84/100, Loss : 0.05045342874753426,  Accuracy: 98.02%'\n",
      "Epuch 85/100, Loss : 0.05023512012038492,  Accuracy: 98.02%'\n",
      "Epuch 86/100, Loss : 0.049851500675240426,  Accuracy: 98.03%'\n",
      "Epuch 87/100, Loss : 0.049375464605125756,  Accuracy: 98.05%'\n",
      "Epuch 88/100, Loss : 0.04884475087819354,  Accuracy: 98.08%'\n",
      "Epuch 89/100, Loss : 0.048431686798501836,  Accuracy: 98.10%'\n",
      "Epuch 90/100, Loss : 0.04813779057724227,  Accuracy: 98.10%'\n",
      "Epuch 91/100, Loss : 0.047556248864505844,  Accuracy: 98.11%'\n",
      "Epuch 92/100, Loss : 0.047202942735696994,  Accuracy: 98.14%'\n",
      "Epuch 93/100, Loss : 0.046754305823580165,  Accuracy: 98.17%'\n",
      "Epuch 94/100, Loss : 0.04619873287003115,  Accuracy: 98.18%'\n",
      "Epuch 95/100, Loss : 0.045691926412306336,  Accuracy: 98.20%'\n",
      "Epuch 96/100, Loss : 0.04562698550174319,  Accuracy: 98.22%'\n",
      "Epuch 97/100, Loss : 0.044797611976343285,  Accuracy: 98.25%'\n",
      "Epuch 98/100, Loss : 0.044524527681653145,  Accuracy: 98.26%'\n",
      "Epuch 99/100, Loss : 0.044272344250446995,  Accuracy: 98.27%'\n",
      "Epuch 100/100, Loss : 0.043692322008046944,  Accuracy: 98.29%'\n"
     ]
    }
   ],
   "source": [
    "num_epochs = 100  # ou le nombre d'époques souhaité\n",
    "modelCNN.train()\n",
    "\n",
    "for epoch in range(num_epochs):\n",
    "    running_loss = 0.0\n",
    "    total_train = 0\n",
    "    correct_train = 0\n",
    "    for inputs, labels in trainLoader_cnn:\n",
    "        optimizer_cnn.zero_grad()   \n",
    "        outputs = modelCNN(inputs)  \n",
    "        loss = criterion_cnn(outputs, labels)  \n",
    "        loss.backward()                    \n",
    "        optimizer_cnn.step()\n",
    "        _, predicted = torch.max(outputs.data, 1)\n",
    "        running_loss += loss.item()\n",
    "        total_train += labels.size(0)\n",
    "        correct_train += (predicted == labels).sum().item()\n",
    "        #if scheduler_cnn:\n",
    "            #scheduler_cnn.step()\n",
    "    epoch_accuracy = 100 * correct_train / total_train\n",
    "    print(f\"Epuch {epoch + 1}/{num_epochs}, Loss : {running_loss / len(trainLoader_cnn)},  Accuracy: {epoch_accuracy:.2f}%'\")\n"
   ],
   "metadata": {
    "collapsed": false,
    "ExecuteTime": {
     "end_time": "2023-12-11T05:22:42.832817Z",
     "start_time": "2023-12-10T20:44:13.365748700Z"
    }
   },
   "id": "41e1df69c80fc79c"
  },
  {
   "cell_type": "code",
   "execution_count": 83,
   "outputs": [
    {
     "name": "stdout",
     "output_type": "stream",
     "text": [
      "Test accuracy: 97.32217074997081%\n"
     ]
    }
   ],
   "source": [
    "modelCNN.eval()  \n",
    "total_test = 0\n",
    "correct_test = 0\n",
    "\n",
    "y_true = []\n",
    "y_pred = []\n",
    "\n",
    "with torch.no_grad():\n",
    "    for inputs, labels in testLoader_cnn:\n",
    "        labels = labels.long()\n",
    "        outputs = modelCNN(inputs)\n",
    "        _, predicted = torch.max(outputs.data, 1)\n",
    "        y_true.extend(labels.tolist())\n",
    "        y_pred.extend(predicted.tolist())\n",
    "        total_test += labels.size(0)\n",
    "        correct_test += (predicted == labels).sum().item()\n",
    "\n",
    "test_accuracy = 100 * correct_test / total_test\n",
    "print(f'Test accuracy: {test_accuracy}%')"
   ],
   "metadata": {
    "collapsed": false,
    "ExecuteTime": {
     "end_time": "2023-12-11T06:47:43.391191800Z",
     "start_time": "2023-12-11T06:43:51.844519Z"
    }
   },
   "id": "ec4dd2288b9d8927"
  },
  {
   "cell_type": "code",
   "execution_count": 108,
   "outputs": [
    {
     "data": {
      "text/plain": "<Figure size 1000x800 with 2 Axes>",
      "image/png": "[encoded data removed]"
     },
     "metadata": {},
     "output_type": "display_data"
    }
   ],
   "source": [
    "conf_matrix = confusion_matrix(y_true,y_pred)\n",
    "\n",
    "normalized_conf_matrix = conf_matrix.astype('float') / conf_matrix.sum(axis=1)[:, np.newaxis]\n",
    "\n",
    "plt.figure(figsize=(10, 8))\n",
    "sns.heatmap(normalized_conf_matrix, annot=True, fmt=\".2f\", cmap=\"Blues\")\n",
    "plt.ylabel('True Labels')\n",
    "plt.xlabel('Predicted Labels')\n",
    "plt.show()"
   ],
   "metadata": {
    "collapsed": false,
    "ExecuteTime": {
     "end_time": "2023-12-11T07:21:06.077713Z",
     "start_time": "2023-12-11T07:21:05.705693700Z"
    }
   },
   "id": "adce4baa91e7a311"
  },
  {
   "cell_type": "code",
   "execution_count": 90,
   "outputs": [
    {
     "name": "stdout",
     "output_type": "stream",
     "text": [
      "Counter({2: 381826, 0: 304493, 1: 289648, 4: 262451, 6: 187588, 3: 169812, 5: 150970})\n"
     ]
    }
   ],
   "source": [
    "from collections import Counter\n",
    "\n",
    "# Compter les occurrences de chaque label dans y_true\n",
    "label_counts = Counter(y_true)\n",
    "print(label_counts)\n"
   ],
   "metadata": {
    "collapsed": false,
    "ExecuteTime": {
     "end_time": "2023-12-11T06:57:03.486542600Z",
     "start_time": "2023-12-11T06:57:03.409226200Z"
    }
   },
   "id": "3ed30a643f915331"
  },
  {
   "cell_type": "code",
   "execution_count": 91,
   "outputs": [
    {
     "data": {
      "text/plain": "<Figure size 640x480 with 1 Axes>",
      "image/png": "[encoded data removed]"
     },
     "metadata": {},
     "output_type": "display_data"
    }
   ],
   "source": [
    "import matplotlib.pyplot as plt\n",
    "\n",
    "# Histogramme des labels\n",
    "plt.hist(y_true, bins=range(min(y_true), max(y_true) + 2))\n",
    "plt.xlabel('Labels')\n",
    "plt.ylabel('Nombre d\\'occurrences')\n",
    "plt.title('Distribution des Labels dans l\\'Ensemble de Test')\n",
    "plt.show()\n"
   ],
   "metadata": {
    "collapsed": false,
    "ExecuteTime": {
     "end_time": "2023-12-11T06:57:23.284114800Z",
     "start_time": "2023-12-11T06:57:18.078832100Z"
    }
   },
   "id": "a656d8b2263b9a4f"
  },
  {
   "cell_type": "code",
   "execution_count": 102,
   "outputs": [
    {
     "name": "stdout",
     "output_type": "stream",
     "text": [
      "[[290143   3481   8841      0    147    105   1776]\n",
      " [  2104 280236   4459      0    135    185   2529]\n",
      " [  4547   2664 371462     21    123     96   2913]\n",
      " [     0      1      9 169785      0     17      0]\n",
      " [    18      9     11      0 257719   4663     31]\n",
      " [    14     19      4      0   4738 146170     25]\n",
      " [   604   1455    954      0     74      4 184497]]\n"
     ]
    }
   ],
   "source": [
    "print(conf_matrix)"
   ],
   "metadata": {
    "collapsed": false,
    "ExecuteTime": {
     "end_time": "2023-12-11T07:14:54.592220300Z",
     "start_time": "2023-12-11T07:14:54.566636300Z"
    }
   },
   "id": "59cf62f0a1fe474d"
  },
  {
   "cell_type": "code",
   "execution_count": 85,
   "outputs": [
    {
     "name": "stdout",
     "output_type": "stream",
     "text": [
      "              precision    recall  f1-score   support\n",
      "\n",
      "           0       0.98      0.95      0.96    304493\n",
      "           1       0.97      0.97      0.97    289648\n",
      "           2       0.96      0.97      0.97    381826\n",
      "           3       1.00      1.00      1.00    169812\n",
      "           4       0.98      0.98      0.98    262451\n",
      "           5       0.97      0.97      0.97    150970\n",
      "           6       0.96      0.98      0.97    187588\n",
      "\n",
      "    accuracy                           0.97   1746788\n",
      "   macro avg       0.97      0.98      0.97   1746788\n",
      "weighted avg       0.97      0.97      0.97   1746788\n"
     ]
    }
   ],
   "source": [
    "print(classification_report(y_true, y_pred))\n"
   ],
   "metadata": {
    "collapsed": false,
    "ExecuteTime": {
     "end_time": "2023-12-11T06:47:47.403193300Z",
     "start_time": "2023-12-11T06:47:44.455871100Z"
    }
   },
   "id": "84a104ca8cfd88a3"
  },
  {
   "cell_type": "code",
   "execution_count": 99,
   "outputs": [
    {
     "name": "stderr",
     "output_type": "stream",
     "text": [
      "C:\\Users\\Home\\.conda\\envs\\ADA\\Lib\\site-packages\\seaborn\\_oldcore.py:1498: FutureWarning: is_categorical_dtype is deprecated and will be removed in a future version. Use isinstance(dtype, CategoricalDtype) instead\n",
      "  if pd.api.types.is_categorical_dtype(vector):\n",
      "C:\\Users\\Home\\.conda\\envs\\ADA\\Lib\\site-packages\\seaborn\\_oldcore.py:1498: FutureWarning: is_categorical_dtype is deprecated and will be removed in a future version. Use isinstance(dtype, CategoricalDtype) instead\n",
      "  if pd.api.types.is_categorical_dtype(vector):\n",
      "C:\\Users\\Home\\.conda\\envs\\ADA\\Lib\\site-packages\\seaborn\\_oldcore.py:1498: FutureWarning: is_categorical_dtype is deprecated and will be removed in a future version. Use isinstance(dtype, CategoricalDtype) instead\n",
      "  if pd.api.types.is_categorical_dtype(vector):\n",
      "C:\\Users\\Home\\.conda\\envs\\ADA\\Lib\\site-packages\\seaborn\\_oldcore.py:1498: FutureWarning: is_categorical_dtype is deprecated and will be removed in a future version. Use isinstance(dtype, CategoricalDtype) instead\n",
      "  if pd.api.types.is_categorical_dtype(vector):\n"
     ]
    },
    {
     "data": {
      "text/plain": "Text(0, 0.5, '')"
     },
     "execution_count": 99,
     "metadata": {},
     "output_type": "execute_result"
    },
    {
     "data": {
      "text/plain": "<Figure size 1200x600 with 1 Axes>",
      "image/png": "[encoded data removed]"
     },
     "metadata": {},
     "output_type": "display_data"
    }
   ],
   "source": [
    "# Melt le DataFrame pour la visualisation\n",
    "report = classification_report(y_true, y_pred, output_dict=True)\n",
    "df_report = pd.DataFrame(report).transpose()\n",
    "\n",
    "# Supprimer la ligne de support pour une meilleure visualisation\n",
    "df_report = df_report.drop('support', axis=1)\n",
    "df_melt = df_report.reset_index().melt(id_vars='index')\n",
    "\n",
    "# Créer un barplot\n",
    "plt.figure(figsize=(12, 6))\n",
    "sns.barplot(x='index', y='value', hue='variable', data=df_melt)\n",
    "plt.xticks(rotation=45)\n",
    "plt.xlabel('')\n",
    "plt.ylabel('')\n"
   ],
   "metadata": {
    "collapsed": false,
    "ExecuteTime": {
     "end_time": "2023-12-11T07:05:35.530000300Z",
     "start_time": "2023-12-11T07:05:32.101347200Z"
    }
   },
   "id": "6d0f2a2bc9709864"
  },
  {
   "cell_type": "code",
   "execution_count": 6,
   "outputs": [],
   "source": [
    "def map_to_grid(x, y, z, grid_size, min_vals, max_vals):\n",
    "    x_norm = (x - min_vals[0]) / (max_vals[0] - min_vals[0])\n",
    "    y_norm = (y - min_vals[1]) / (max_vals[1] - min_vals[1])\n",
    "    z_norm = (z - min_vals[2]) / (max_vals[2] - min_vals[2])\n",
    "\n",
    "    x_idx = np.clip((x_norm * grid_size).astype(int), 0, grid_size - 1)\n",
    "    y_idx = np.clip((y_norm * grid_size).astype(int), 0, grid_size - 1)\n",
    "    z_idx = np.clip((z_norm * grid_size).astype(int), 0, grid_size - 1)\n",
    "\n",
    "\n",
    "    return x_idx, y_idx, z_idx\n"
   ],
   "metadata": {
    "collapsed": false,
    "ExecuteTime": {
     "end_time": "2023-12-09T15:48:35.113903200Z",
     "start_time": "2023-12-09T15:48:31.170362100Z"
    }
   },
   "id": "b245447cf86a762"
  },
  {
   "cell_type": "code",
   "execution_count": 100,
   "outputs": [
    {
     "data": {
      "text/plain": "<Figure size 1000x800 with 1 Axes>",
      "image/png": "[encoded data removed]"
     },
     "metadata": {},
     "output_type": "display_data"
    }
   ],
   "source": [
    "import matplotlib.pyplot as plt\n",
    "import numpy as np\n",
    "\n",
    "# y_true et y_pred sont vos listes de vraies étiquettes et d'étiquettes prédites\n",
    "y_true = np.array(y_true)\n",
    "y_pred = np.array(y_pred)\n",
    "\n",
    "plt.figure(figsize=(10, 8))\n",
    "plt.scatter(y_pred, y_true, alpha=0.5, c=(y_pred == y_true), cmap='coolwarm')  # Les prédictions correctes sont colorées différemment\n",
    "plt.xlabel('Predictions')\n",
    "plt.ylabel('True labels')\n",
    "plt.title('Diagramme de Répartition des Erreurs')\n",
    "plt.xticks(range(len(np.unique(y_true))))  # Ajustez selon le nombre de classes\n",
    "plt.yticks(range(len(np.unique(y_true))))  # Ajustez selon le nombre de classes\n",
    "plt.plot(range(len(np.unique(y_true))), range(len(np.unique(y_true))), ls=\"--\", c=\".3\")  # Ligne diagonale\n",
    "plt.show()\n"
   ],
   "metadata": {
    "collapsed": false,
    "ExecuteTime": {
     "end_time": "2023-12-11T07:06:37.901585Z",
     "start_time": "2023-12-11T07:06:14.508081900Z"
    }
   },
   "id": "2f658a361c00dcc6"
  }
 ],
 "metadata": {
  "kernelspec": {
   "display_name": "Python 3",
   "language": "python",
   "name": "python3"
  },
  "language_info": {
   "codemirror_mode": {
    "name": "ipython",
    "version": 2
   },
   "file_extension": ".py",
   "mimetype": "text/x-python",
   "name": "python",
   "nbconvert_exporter": "python",
   "pygments_lexer": "ipython2",
   "version": "2.7.6"
  }
 },
 "nbformat": 4,
 "nbformat_minor": 5
}
