{
 "cells": [
  {
   "cell_type": "code",
   "execution_count": 9,
   "outputs": [],
   "source": [
    "import numpy as np\n",
    "import pandas as pd\n",
    "import torch\n",
    "import torch.nn as nn\n",
    "import matplotlib.pyplot as plt\n",
    "import torch.optim as optim\n",
    "from torch.utils.data import DataLoader, TensorDataset\n",
    "import torch.nn.functional as F\n",
    "from sklearn.model_selection import train_test_split\n",
    "from sklearn.preprocessing import StandardScaler\n",
    "from sklearn.preprocessing import LabelEncoder\n",
    "from sklearn.metrics import confusion_matrix\n",
    "from sklearn.metrics import classification_report\n",
    "import seaborn as sns"
   ],
   "metadata": {
    "collapsed": false,
    "ExecuteTime": {
     "end_time": "2023-12-09T08:35:55.136771Z",
     "start_time": "2023-12-09T08:35:55.122210800Z"
    }
   },
   "id": "16d118a6adf91666"
  },
  {
   "cell_type": "markdown",
   "source": [
    "Dataset creation"
   ],
   "metadata": {
    "collapsed": false
   },
   "id": "1d0fefbba1ff6c5e"
  },
  {
   "cell_type": "code",
   "execution_count": 2,
   "outputs": [],
   "source": [
    "df = pd.read_parquet(r\"C:\\Users\\adrie\\OneDrive\\Documents\\EPFL\\ML\\Project 2\\All_Relative_Results_Cleaned.parquet\")"
   ],
   "metadata": {
    "collapsed": false,
    "ExecuteTime": {
     "end_time": "2023-12-09T08:13:21.533536500Z",
     "start_time": "2023-12-09T08:13:09.959400600Z"
    }
   },
   "id": "c71089b97d4ad533"
  },
  {
   "cell_type": "code",
   "execution_count": 3,
   "outputs": [
    {
     "data": {
      "text/plain": "  Participant   Exercise      Set       Camera  time(s)  left_ankle_x  \\\n0         P04  Abduction  Correct  Frontal_Top    0.000      0.009328   \n1         P04  Abduction  Correct  Frontal_Top    0.033      0.009353   \n2         P04  Abduction  Correct  Frontal_Top    0.067      0.009722   \n\n   left_ankle_y  left_ankle_z  left_ear_x  left_ear_y  ...  right_pinky_z  \\\n0      0.779305      0.187880    0.020658   -0.693419  ...      -0.633111   \n1      0.779298      0.185050    0.021187   -0.693361  ...      -0.630835   \n2      0.779311      0.179212    0.021351   -0.693388  ...      -0.630923   \n\n   right_shoulder_x  right_shoulder_y  right_shoulder_z  right_thumb_x  \\\n0         -0.054347         -0.511760         -0.185118      -0.068159   \n1         -0.054293         -0.511703         -0.184861      -0.068130   \n2         -0.054289         -0.511696         -0.184849      -0.067241   \n\n   right_thumb_y  right_thumb_z  right_wrist_x  right_wrist_y  right_wrist_z  \n0      -0.602015      -0.598093      -0.066565      -0.600690      -0.592768  \n1      -0.602200      -0.596219      -0.066508      -0.600835      -0.590916  \n2      -0.601852      -0.596222      -0.065676      -0.600436      -0.590910  \n\n[3 rows x 104 columns]",
      "text/html": "<div>\n<style scoped>\n    .dataframe tbody tr th:only-of-type {\n        vertical-align: middle;\n    }\n\n    .dataframe tbody tr th {\n        vertical-align: top;\n    }\n\n    .dataframe thead th {\n        text-align: right;\n    }\n</style>\n<table border=\"1\" class=\"dataframe\">\n  <thead>\n    <tr style=\"text-align: right;\">\n      <th></th>\n      <th>Participant</th>\n      <th>Exercise</th>\n      <th>Set</th>\n      <th>Camera</th>\n      <th>time(s)</th>\n      <th>left_ankle_x</th>\n      <th>left_ankle_y</th>\n      <th>left_ankle_z</th>\n      <th>left_ear_x</th>\n      <th>left_ear_y</th>\n      <th>...</th>\n      <th>right_pinky_z</th>\n      <th>right_shoulder_x</th>\n      <th>right_shoulder_y</th>\n      <th>right_shoulder_z</th>\n      <th>right_thumb_x</th>\n      <th>right_thumb_y</th>\n      <th>right_thumb_z</th>\n      <th>right_wrist_x</th>\n      <th>right_wrist_y</th>\n      <th>right_wrist_z</th>\n    </tr>\n  </thead>\n  <tbody>\n    <tr>\n      <th>0</th>\n      <td>P04</td>\n      <td>Abduction</td>\n      <td>Correct</td>\n      <td>Frontal_Top</td>\n      <td>0.000</td>\n      <td>0.009328</td>\n      <td>0.779305</td>\n      <td>0.187880</td>\n      <td>0.020658</td>\n      <td>-0.693419</td>\n      <td>...</td>\n      <td>-0.633111</td>\n      <td>-0.054347</td>\n      <td>-0.511760</td>\n      <td>-0.185118</td>\n      <td>-0.068159</td>\n      <td>-0.602015</td>\n      <td>-0.598093</td>\n      <td>-0.066565</td>\n      <td>-0.600690</td>\n      <td>-0.592768</td>\n    </tr>\n    <tr>\n      <th>1</th>\n      <td>P04</td>\n      <td>Abduction</td>\n      <td>Correct</td>\n      <td>Frontal_Top</td>\n      <td>0.033</td>\n      <td>0.009353</td>\n      <td>0.779298</td>\n      <td>0.185050</td>\n      <td>0.021187</td>\n      <td>-0.693361</td>\n      <td>...</td>\n      <td>-0.630835</td>\n      <td>-0.054293</td>\n      <td>-0.511703</td>\n      <td>-0.184861</td>\n      <td>-0.068130</td>\n      <td>-0.602200</td>\n      <td>-0.596219</td>\n      <td>-0.066508</td>\n      <td>-0.600835</td>\n      <td>-0.590916</td>\n    </tr>\n    <tr>\n      <th>2</th>\n      <td>P04</td>\n      <td>Abduction</td>\n      <td>Correct</td>\n      <td>Frontal_Top</td>\n      <td>0.067</td>\n      <td>0.009722</td>\n      <td>0.779311</td>\n      <td>0.179212</td>\n      <td>0.021351</td>\n      <td>-0.693388</td>\n      <td>...</td>\n      <td>-0.630923</td>\n      <td>-0.054289</td>\n      <td>-0.511696</td>\n      <td>-0.184849</td>\n      <td>-0.067241</td>\n      <td>-0.601852</td>\n      <td>-0.596222</td>\n      <td>-0.065676</td>\n      <td>-0.600436</td>\n      <td>-0.590910</td>\n    </tr>\n  </tbody>\n</table>\n<p>3 rows × 104 columns</p>\n</div>"
     },
     "execution_count": 3,
     "metadata": {},
     "output_type": "execute_result"
    }
   ],
   "source": [
    "df.head(3)"
   ],
   "metadata": {
    "collapsed": false,
    "ExecuteTime": {
     "end_time": "2023-12-04T12:25:32.827127200Z",
     "start_time": "2023-12-04T12:25:32.679942500Z"
    }
   },
   "id": "cc19a36950a0cffd"
  },
  {
   "cell_type": "code",
   "execution_count": 4,
   "outputs": [
    {
     "data": {
      "text/plain": "array(['Frontal_Top', 'Frontal_Low', 'Side_Top'], dtype=object)"
     },
     "execution_count": 4,
     "metadata": {},
     "output_type": "execute_result"
    }
   ],
   "source": [
    "df['Camera'].unique()"
   ],
   "metadata": {
    "collapsed": false,
    "ExecuteTime": {
     "end_time": "2023-12-04T12:25:33.396732600Z",
     "start_time": "2023-12-04T12:25:32.832136700Z"
    }
   },
   "id": "bc194c5a869979f7"
  },
  {
   "cell_type": "code",
   "execution_count": 3,
   "outputs": [],
   "source": [
    "df_clean = df.dropna()\n",
    "index = df_clean.columns.get_loc('time(s)')\n",
    "df_right = df_clean.iloc[:, index+1:]\n",
    "X = df_right\n",
    "Y = df_clean['Exercise']"
   ],
   "metadata": {
    "collapsed": false,
    "ExecuteTime": {
     "end_time": "2023-12-09T08:13:27.560650300Z",
     "start_time": "2023-12-09T08:13:21.566534100Z"
    }
   },
   "id": "9cc34d0d163bc01e"
  },
  {
   "cell_type": "code",
   "execution_count": 4,
   "outputs": [],
   "source": [
    "label_encoder = LabelEncoder()\n",
    "Y_encoded = label_encoder.fit_transform(Y)"
   ],
   "metadata": {
    "collapsed": false,
    "ExecuteTime": {
     "end_time": "2023-12-09T08:13:29.480021300Z",
     "start_time": "2023-12-09T08:13:27.625651900Z"
    }
   },
   "id": "796fd63987459bb3"
  },
  {
   "cell_type": "code",
   "execution_count": 5,
   "outputs": [],
   "source": [
    "X_tensor = torch.tensor(X.values, dtype=torch.float32)\n",
    "y_tensor = torch.tensor(Y_encoded, dtype=torch.long)"
   ],
   "metadata": {
    "collapsed": false,
    "ExecuteTime": {
     "end_time": "2023-12-09T08:13:45.732124600Z",
     "start_time": "2023-12-09T08:13:29.493016900Z"
    }
   },
   "id": "73a2fb70bad31199"
  },
  {
   "cell_type": "code",
   "execution_count": 6,
   "outputs": [],
   "source": [
    "X_train, X_test, Y_train, Y_test = train_test_split(X_tensor, y_tensor, test_size=0.2)\n",
    "\n",
    "train_dataset = TensorDataset(X_train,Y_train)\n",
    "test_dataset = TensorDataset(X_test,Y_test)\n",
    "trainLoader = DataLoader(train_dataset, batch_size=32, shuffle=True)\n",
    "testLoader = DataLoader(test_dataset, batch_size=32 , shuffle=True)"
   ],
   "metadata": {
    "collapsed": false,
    "ExecuteTime": {
     "end_time": "2023-12-09T08:13:51.811567600Z",
     "start_time": "2023-12-09T08:13:44.761123800Z"
    }
   },
   "id": "1b4d7ab682db190"
  },
  {
   "cell_type": "markdown",
   "source": [
    "**Neural network architecture**"
   ],
   "metadata": {
    "collapsed": false
   },
   "id": "c09425cda2803e81"
  },
  {
   "cell_type": "code",
   "execution_count": 25,
   "outputs": [],
   "source": [
    "class NeuralNetwork(nn.Module):\n",
    "    def __init__(self):\n",
    "        super(NeuralNetwork, self).__init__()\n",
    "        self.layer1 = nn.Linear(X_train.shape[1], 64)\n",
    "        self.relu = nn.ReLU()\n",
    "        self.layer2 = nn.Linear(64,128)\n",
    "        self.layer3 = nn.Linear(128,256)\n",
    "        self.layer4 = nn.Linear(256, 7)\n",
    "\n",
    "    def forward(self, x):\n",
    "        x = self.layer1(x)\n",
    "        x = self.relu(x)\n",
    "        x = self.layer2(x)\n",
    "        x = self.relu(x)\n",
    "        x = self.layer3(x)\n",
    "        x = self.relu(x)\n",
    "        x = self.layer4(x)\n",
    "        return x\n",
    "\n",
    "model = NeuralNetwork()"
   ],
   "metadata": {
    "collapsed": false,
    "ExecuteTime": {
     "end_time": "2023-12-04T13:17:10.656487300Z",
     "start_time": "2023-12-04T13:17:10.618078700Z"
    }
   },
   "id": "d236027392b677ad"
  },
  {
   "cell_type": "markdown",
   "source": [
    "**Training configuration**"
   ],
   "metadata": {
    "collapsed": false
   },
   "id": "3778a1e980f01b97"
  },
  {
   "cell_type": "code",
   "execution_count": 26,
   "outputs": [],
   "source": [
    "criterion = nn.CrossEntropyLoss()\n",
    "optimizer = optim.Adam(model.parameters(), lr=0.001)"
   ],
   "metadata": {
    "collapsed": false,
    "ExecuteTime": {
     "end_time": "2023-12-04T13:17:18.961698800Z",
     "start_time": "2023-12-04T13:17:18.918524700Z"
    }
   },
   "id": "d82cacca40391276"
  },
  {
   "cell_type": "markdown",
   "source": [
    "**Model training**"
   ],
   "metadata": {
    "collapsed": false
   },
   "id": "9677ad226bfe628e"
  },
  {
   "cell_type": "code",
   "execution_count": 27,
   "outputs": [
    {
     "name": "stdout",
     "output_type": "stream",
     "text": [
      "Époque 1, Perte: 0.1742, Exactitude: 92.68%\n",
      "Époque 2, Perte: 0.1421, Exactitude: 93.93%\n",
      "Époque 3, Perte: 0.1322, Exactitude: 94.37%\n",
      "Époque 4, Perte: 0.1262, Exactitude: 94.66%\n",
      "Époque 5, Perte: 0.1227, Exactitude: 94.85%\n",
      "Époque 6, Perte: 0.1203, Exactitude: 94.97%\n",
      "Époque 7, Perte: 0.1190, Exactitude: 95.05%\n",
      "Époque 8, Perte: 0.1179, Exactitude: 95.12%\n",
      "Époque 9, Perte: 0.1170, Exactitude: 95.17%\n",
      "Époque 10, Perte: 0.1162, Exactitude: 95.23%\n"
     ]
    }
   ],
   "source": [
    "model.train()\n",
    "\n",
    "for epoch in range(10):  # 4 is the nbr of epochs\n",
    "    running_loss = 0.0\n",
    "    total_train = 0\n",
    "    correct_train = 0\n",
    "\n",
    "    for inputs, labels in trainLoader:\n",
    "        optimizer.zero_grad()\n",
    "        outputs = model(inputs)\n",
    "        loss = criterion(outputs, labels)\n",
    "        loss.backward()\n",
    "        optimizer.step()\n",
    "\n",
    "        running_loss += loss.item()\n",
    "        _, predicted = torch.max(outputs.data, 1)\n",
    "        total_train += labels.size(0)\n",
    "        correct_train += (predicted == labels).sum().item()\n",
    "\n",
    "    # Calculer la perte moyenne et l'exactitude pour l'époque\n",
    "    epoch_loss = running_loss / len(trainLoader)\n",
    "    epoch_accuracy = 100 * correct_train / total_train\n",
    "    print(f'Époque {epoch + 1}, Perte: {epoch_loss:.4f}, Exactitude: {epoch_accuracy:.2f}%')\n"
   ],
   "metadata": {
    "collapsed": false,
    "ExecuteTime": {
     "end_time": "2023-12-04T14:21:57.518944100Z",
     "start_time": "2023-12-04T13:17:30.945933200Z"
    }
   },
   "id": "1f69a171ab3eb11a"
  },
  {
   "cell_type": "markdown",
   "source": [
    "**Model testing**"
   ],
   "metadata": {
    "collapsed": false
   },
   "id": "57bde6a4eb73d9fb"
  },
  {
   "cell_type": "code",
   "execution_count": 28,
   "outputs": [
    {
     "name": "stdout",
     "output_type": "stream",
     "text": [
      "Exactitude sur l'ensemble de test: 94.8273097888324%\n"
     ]
    }
   ],
   "source": [
    "model.eval()  # Mettre le modèle en mode évaluation\n",
    "total_test = 0\n",
    "correct_test = 0\n",
    "\n",
    "y_true = []\n",
    "y_pred = []\n",
    "\n",
    "with torch.no_grad():\n",
    "    for inputs, labels in testLoader:\n",
    "        labels = labels.long()\n",
    "        outputs = model(inputs)\n",
    "        _, predicted = torch.max(outputs.data, 1)\n",
    "        y_true.extend(labels.tolist())\n",
    "        y_pred.extend(predicted.tolist())\n",
    "        total_test += labels.size(0)\n",
    "        correct_test += (predicted == labels).sum().item()\n",
    "\n",
    "test_accuracy = 100 * correct_test / total_test\n",
    "print(f'Exactitude sur l\\'ensemble de test: {test_accuracy}%')\n"
   ],
   "metadata": {
    "collapsed": false,
    "ExecuteTime": {
     "end_time": "2023-12-04T14:22:47.160297200Z",
     "start_time": "2023-12-04T14:22:09.968939900Z"
    }
   },
   "id": "cef6ff502c453bf4"
  },
  {
   "cell_type": "markdown",
   "source": [
    "**Confusion matrix visualization**"
   ],
   "metadata": {
    "collapsed": false
   },
   "id": "8fb67099c7d60b86"
  },
  {
   "cell_type": "code",
   "execution_count": 29,
   "outputs": [
    {
     "data": {
      "text/plain": "Text(52.722222222222214, 0.5, 'True labels')"
     },
     "execution_count": 29,
     "metadata": {},
     "output_type": "execute_result"
    },
    {
     "data": {
      "text/plain": "<Figure size 640x480 with 2 Axes>",
      "image/png": "[encoded data removed]"
     },
     "metadata": {},
     "output_type": "display_data"
    }
   ],
   "source": [
    "conf_matrix = confusion_matrix(y_true,y_pred)\n",
    "\n",
    "sns.heatmap(conf_matrix, annot=True, fmt = 'd')\n",
    "plt.xlabel('Predictions')\n",
    "plt.ylabel('True labels')"
   ],
   "metadata": {
    "collapsed": false,
    "ExecuteTime": {
     "end_time": "2023-12-04T14:22:48.958369400Z",
     "start_time": "2023-12-04T14:22:47.267847400Z"
    }
   },
   "id": "a4f7e39973b1f3c4"
  },
  {
   "cell_type": "markdown",
   "source": [
    "**Classification report**"
   ],
   "metadata": {
    "collapsed": false
   },
   "id": "db028a1ace45058f"
  },
  {
   "cell_type": "code",
   "execution_count": 30,
   "outputs": [
    {
     "name": "stdout",
     "output_type": "stream",
     "text": [
      "              precision    recall  f1-score   support\n",
      "\n",
      "           0       0.93      0.94      0.93     76042\n",
      "           1       0.98      0.92      0.95     72501\n",
      "           2       0.95      0.95      0.95     95233\n",
      "           3       1.00      1.00      1.00     42157\n",
      "           4       0.93      0.98      0.95     65893\n",
      "           5       0.95      0.90      0.93     37810\n",
      "           6       0.90      0.96      0.93     46984\n",
      "\n",
      "    accuracy                           0.95    436620\n",
      "   macro avg       0.95      0.95      0.95    436620\n",
      "weighted avg       0.95      0.95      0.95    436620\n"
     ]
    }
   ],
   "source": [
    "print(classification_report(y_true, y_pred))"
   ],
   "metadata": {
    "collapsed": false,
    "ExecuteTime": {
     "end_time": "2023-12-04T14:23:04.544886300Z",
     "start_time": "2023-12-04T14:23:03.033811600Z"
    }
   },
   "id": "4978ab5df46e36ac"
  },
  {
   "cell_type": "markdown",
   "source": [
    "**Convolutionnal Neural network**"
   ],
   "metadata": {
    "collapsed": false
   },
   "id": "addc1ac00aed76c7"
  },
  {
   "cell_type": "markdown",
   "source": [
    "Data preprocessing"
   ],
   "metadata": {
    "collapsed": false
   },
   "id": "de4d484d41a115aa"
  },
  {
   "cell_type": "code",
   "execution_count": 67,
   "outputs": [
    {
     "name": "stdout",
     "output_type": "stream",
     "text": [
      "(2183099, 33, 3, 1, 1)\n"
     ]
    }
   ],
   "source": [
    "nbr_of_points = (X.shape[1])//3\n",
    "X_reshape = X.values.reshape(-1,3,nbr_of_points)\n",
    "tensor_4D = np.transpose(X_reshape, (0, 2, 1))\n",
    "\n",
    "tensor_4D = np.expand_dims(tensor_4D, axis=3)\n",
    "tensor_4D_transposed = np.expand_dims(tensor_4D, axis=4)\n",
    "\n",
    "print(tensor_4D_transposed.shape)"
   ],
   "metadata": {
    "collapsed": false,
    "ExecuteTime": {
     "end_time": "2023-12-09T10:01:48.124674400Z",
     "start_time": "2023-12-09T10:01:48.116200100Z"
    }
   },
   "id": "ae609022b7be869d"
  },
  {
   "cell_type": "code",
   "execution_count": 80,
   "outputs": [],
   "source": [
    "class ConvNeuralNetwork(nn.Module):\n",
    "    def __init__(self):\n",
    "        super(ConvNeuralNetwork, self).__init__()\n",
    "        self.conv1 = nn.Conv3d(in_channels=33, out_channels=64, kernel_size=(3,1,1), stride=1, padding=0)\n",
    "        self.conv2 = nn.Conv3d(in_channels=64, out_channels=128, kernel_size=(1,1,1), stride=1, padding=0)\n",
    "        self.fc1 = nn.Linear(in_features=128, out_features=50)\n",
    "        self.fc2 = nn.Linear(in_features=50, out_features=7)\n",
    "\n",
    "    def forward(self, x):\n",
    "        x = F.relu(self.conv1(x))\n",
    "        x = F.relu(self.conv2(x))\n",
    "        x = x.view(x.size(0),-1)\n",
    "        x = F.relu(self.fc1(x))\n",
    "        x = self.fc2(x)\n",
    "        return x\n",
    "\n",
    "modelCNN = ConvNeuralNetwork()"
   ],
   "metadata": {
    "collapsed": false,
    "ExecuteTime": {
     "end_time": "2023-12-09T10:06:04.229717300Z",
     "start_time": "2023-12-09T10:06:04.216226500Z"
    }
   },
   "id": "eb2647f56b0e82a3"
  },
  {
   "cell_type": "markdown",
   "source": [
    "CNN config"
   ],
   "metadata": {
    "collapsed": false
   },
   "id": "8862b4808b4c4a03"
  },
  {
   "cell_type": "code",
   "execution_count": 84,
   "outputs": [],
   "source": [
    "criterion_cnn = nn.CrossEntropyLoss()\n",
    "optimizer_cnn = torch.optim.Adam(modelCNN.parameters(), lr = 0.001)"
   ],
   "metadata": {
    "collapsed": false,
    "ExecuteTime": {
     "end_time": "2023-12-09T10:15:08.057248600Z",
     "start_time": "2023-12-09T10:15:08.038236900Z"
    }
   },
   "id": "803fa978c4fe8943"
  },
  {
   "cell_type": "code",
   "execution_count": 82,
   "outputs": [],
   "source": [
    "scheduler_cnn = torch.optim.lr_scheduler.StepLR(optimizer_cnn, step_size=30, gamma=0.1)"
   ],
   "metadata": {
    "collapsed": false,
    "ExecuteTime": {
     "end_time": "2023-12-09T10:06:07.766534500Z",
     "start_time": "2023-12-09T10:06:07.737277900Z"
    }
   },
   "id": "69f6afcc92730a08"
  },
  {
   "cell_type": "markdown",
   "source": [
    "Training Cnn"
   ],
   "metadata": {
    "collapsed": false
   },
   "id": "cde2f2143412892b"
  },
  {
   "cell_type": "code",
   "execution_count": 70,
   "outputs": [
    {
     "name": "stdout",
     "output_type": "stream",
     "text": [
      "torch.Size([1746479, 33, 3, 1, 1])\n"
     ]
    }
   ],
   "source": [
    "X_tensor_cnn= torch.tensor(tensor_4D_transposed).float()\n",
    "Y_tensor_cnn = y_tensor\n",
    "X_train_cnn, X_test_cnn, Y_train_cnn, Y_test_cnn = train_test_split(X_tensor_cnn, Y_tensor_cnn, test_size=0.2)\n",
    "print(X_train_cnn.shape)\n",
    "dataset_train_cnn = TensorDataset(X_train_cnn, Y_train_cnn)\n",
    "trainLoader_cnn = DataLoader(dataset_train_cnn, batch_size=33, shuffle=True)\n",
    "dataset_test_cnn = TensorDataset(X_test_cnn, Y_test_cnn)\n",
    "testLoader_cnn = DataLoader(dataset_test_cnn, batch_size=32, shuffle=True)"
   ],
   "metadata": {
    "collapsed": false,
    "ExecuteTime": {
     "end_time": "2023-12-09T10:02:08.241519400Z",
     "start_time": "2023-12-09T10:02:00.742539200Z"
    }
   },
   "id": "4e149e138e325f36"
  },
  {
   "cell_type": "code",
   "execution_count": 87,
   "outputs": [
    {
     "ename": "KeyboardInterrupt",
     "evalue": "",
     "output_type": "error",
     "traceback": [
      "\u001B[1;31m---------------------------------------------------------------------------\u001B[0m",
      "\u001B[1;31mKeyboardInterrupt\u001B[0m                         Traceback (most recent call last)",
      "Cell \u001B[1;32mIn[87], line 12\u001B[0m\n\u001B[0;32m     10\u001B[0m     loss \u001B[38;5;241m=\u001B[39m criterion_cnn(outputs, labels)  \n\u001B[0;32m     11\u001B[0m     loss\u001B[38;5;241m.\u001B[39mbackward()                  \n\u001B[1;32m---> 12\u001B[0m     optimizer_cnn\u001B[38;5;241m.\u001B[39mstep()\n\u001B[0;32m     14\u001B[0m     running_loss \u001B[38;5;241m+\u001B[39m\u001B[38;5;241m=\u001B[39m loss\u001B[38;5;241m.\u001B[39mitem()\n\u001B[0;32m     16\u001B[0m \u001B[38;5;28;01mif\u001B[39;00m scheduler_cnn:\n",
      "File \u001B[1;32m~\\anaconda3\\envs\\ADA\\Lib\\site-packages\\torch\\optim\\optimizer.py:373\u001B[0m, in \u001B[0;36mOptimizer.profile_hook_step.<locals>.wrapper\u001B[1;34m(*args, **kwargs)\u001B[0m\n\u001B[0;32m    368\u001B[0m         \u001B[38;5;28;01melse\u001B[39;00m:\n\u001B[0;32m    369\u001B[0m             \u001B[38;5;28;01mraise\u001B[39;00m \u001B[38;5;167;01mRuntimeError\u001B[39;00m(\n\u001B[0;32m    370\u001B[0m                 \u001B[38;5;124mf\u001B[39m\u001B[38;5;124m\"\u001B[39m\u001B[38;5;132;01m{\u001B[39;00mfunc\u001B[38;5;132;01m}\u001B[39;00m\u001B[38;5;124m must return None or a tuple of (new_args, new_kwargs), but got \u001B[39m\u001B[38;5;132;01m{\u001B[39;00mresult\u001B[38;5;132;01m}\u001B[39;00m\u001B[38;5;124m.\u001B[39m\u001B[38;5;124m\"\u001B[39m\n\u001B[0;32m    371\u001B[0m             )\n\u001B[1;32m--> 373\u001B[0m out \u001B[38;5;241m=\u001B[39m func(\u001B[38;5;241m*\u001B[39margs, \u001B[38;5;241m*\u001B[39m\u001B[38;5;241m*\u001B[39mkwargs)\n\u001B[0;32m    374\u001B[0m \u001B[38;5;28mself\u001B[39m\u001B[38;5;241m.\u001B[39m_optimizer_step_code()\n\u001B[0;32m    376\u001B[0m \u001B[38;5;66;03m# call optimizer step post hooks\u001B[39;00m\n",
      "File \u001B[1;32m~\\anaconda3\\envs\\ADA\\Lib\\site-packages\\torch\\optim\\optimizer.py:76\u001B[0m, in \u001B[0;36m_use_grad_for_differentiable.<locals>._use_grad\u001B[1;34m(self, *args, **kwargs)\u001B[0m\n\u001B[0;32m     74\u001B[0m     torch\u001B[38;5;241m.\u001B[39mset_grad_enabled(\u001B[38;5;28mself\u001B[39m\u001B[38;5;241m.\u001B[39mdefaults[\u001B[38;5;124m'\u001B[39m\u001B[38;5;124mdifferentiable\u001B[39m\u001B[38;5;124m'\u001B[39m])\n\u001B[0;32m     75\u001B[0m     torch\u001B[38;5;241m.\u001B[39m_dynamo\u001B[38;5;241m.\u001B[39mgraph_break()\n\u001B[1;32m---> 76\u001B[0m     ret \u001B[38;5;241m=\u001B[39m func(\u001B[38;5;28mself\u001B[39m, \u001B[38;5;241m*\u001B[39margs, \u001B[38;5;241m*\u001B[39m\u001B[38;5;241m*\u001B[39mkwargs)\n\u001B[0;32m     77\u001B[0m \u001B[38;5;28;01mfinally\u001B[39;00m:\n\u001B[0;32m     78\u001B[0m     torch\u001B[38;5;241m.\u001B[39m_dynamo\u001B[38;5;241m.\u001B[39mgraph_break()\n",
      "File \u001B[1;32m~\\anaconda3\\envs\\ADA\\Lib\\site-packages\\torch\\optim\\adam.py:163\u001B[0m, in \u001B[0;36mAdam.step\u001B[1;34m(self, closure)\u001B[0m\n\u001B[0;32m    152\u001B[0m     beta1, beta2 \u001B[38;5;241m=\u001B[39m group[\u001B[38;5;124m'\u001B[39m\u001B[38;5;124mbetas\u001B[39m\u001B[38;5;124m'\u001B[39m]\n\u001B[0;32m    154\u001B[0m     \u001B[38;5;28mself\u001B[39m\u001B[38;5;241m.\u001B[39m_init_group(\n\u001B[0;32m    155\u001B[0m         group,\n\u001B[0;32m    156\u001B[0m         params_with_grad,\n\u001B[1;32m   (...)\u001B[0m\n\u001B[0;32m    160\u001B[0m         max_exp_avg_sqs,\n\u001B[0;32m    161\u001B[0m         state_steps)\n\u001B[1;32m--> 163\u001B[0m     adam(\n\u001B[0;32m    164\u001B[0m         params_with_grad,\n\u001B[0;32m    165\u001B[0m         grads,\n\u001B[0;32m    166\u001B[0m         exp_avgs,\n\u001B[0;32m    167\u001B[0m         exp_avg_sqs,\n\u001B[0;32m    168\u001B[0m         max_exp_avg_sqs,\n\u001B[0;32m    169\u001B[0m         state_steps,\n\u001B[0;32m    170\u001B[0m         amsgrad\u001B[38;5;241m=\u001B[39mgroup[\u001B[38;5;124m'\u001B[39m\u001B[38;5;124mamsgrad\u001B[39m\u001B[38;5;124m'\u001B[39m],\n\u001B[0;32m    171\u001B[0m         beta1\u001B[38;5;241m=\u001B[39mbeta1,\n\u001B[0;32m    172\u001B[0m         beta2\u001B[38;5;241m=\u001B[39mbeta2,\n\u001B[0;32m    173\u001B[0m         lr\u001B[38;5;241m=\u001B[39mgroup[\u001B[38;5;124m'\u001B[39m\u001B[38;5;124mlr\u001B[39m\u001B[38;5;124m'\u001B[39m],\n\u001B[0;32m    174\u001B[0m         weight_decay\u001B[38;5;241m=\u001B[39mgroup[\u001B[38;5;124m'\u001B[39m\u001B[38;5;124mweight_decay\u001B[39m\u001B[38;5;124m'\u001B[39m],\n\u001B[0;32m    175\u001B[0m         eps\u001B[38;5;241m=\u001B[39mgroup[\u001B[38;5;124m'\u001B[39m\u001B[38;5;124meps\u001B[39m\u001B[38;5;124m'\u001B[39m],\n\u001B[0;32m    176\u001B[0m         maximize\u001B[38;5;241m=\u001B[39mgroup[\u001B[38;5;124m'\u001B[39m\u001B[38;5;124mmaximize\u001B[39m\u001B[38;5;124m'\u001B[39m],\n\u001B[0;32m    177\u001B[0m         foreach\u001B[38;5;241m=\u001B[39mgroup[\u001B[38;5;124m'\u001B[39m\u001B[38;5;124mforeach\u001B[39m\u001B[38;5;124m'\u001B[39m],\n\u001B[0;32m    178\u001B[0m         capturable\u001B[38;5;241m=\u001B[39mgroup[\u001B[38;5;124m'\u001B[39m\u001B[38;5;124mcapturable\u001B[39m\u001B[38;5;124m'\u001B[39m],\n\u001B[0;32m    179\u001B[0m         differentiable\u001B[38;5;241m=\u001B[39mgroup[\u001B[38;5;124m'\u001B[39m\u001B[38;5;124mdifferentiable\u001B[39m\u001B[38;5;124m'\u001B[39m],\n\u001B[0;32m    180\u001B[0m         fused\u001B[38;5;241m=\u001B[39mgroup[\u001B[38;5;124m'\u001B[39m\u001B[38;5;124mfused\u001B[39m\u001B[38;5;124m'\u001B[39m],\n\u001B[0;32m    181\u001B[0m         grad_scale\u001B[38;5;241m=\u001B[39m\u001B[38;5;28mgetattr\u001B[39m(\u001B[38;5;28mself\u001B[39m, \u001B[38;5;124m\"\u001B[39m\u001B[38;5;124mgrad_scale\u001B[39m\u001B[38;5;124m\"\u001B[39m, \u001B[38;5;28;01mNone\u001B[39;00m),\n\u001B[0;32m    182\u001B[0m         found_inf\u001B[38;5;241m=\u001B[39m\u001B[38;5;28mgetattr\u001B[39m(\u001B[38;5;28mself\u001B[39m, \u001B[38;5;124m\"\u001B[39m\u001B[38;5;124mfound_inf\u001B[39m\u001B[38;5;124m\"\u001B[39m, \u001B[38;5;28;01mNone\u001B[39;00m),\n\u001B[0;32m    183\u001B[0m     )\n\u001B[0;32m    185\u001B[0m \u001B[38;5;28;01mreturn\u001B[39;00m loss\n",
      "File \u001B[1;32m~\\anaconda3\\envs\\ADA\\Lib\\site-packages\\torch\\optim\\adam.py:311\u001B[0m, in \u001B[0;36madam\u001B[1;34m(params, grads, exp_avgs, exp_avg_sqs, max_exp_avg_sqs, state_steps, foreach, capturable, differentiable, fused, grad_scale, found_inf, amsgrad, beta1, beta2, lr, weight_decay, eps, maximize)\u001B[0m\n\u001B[0;32m    308\u001B[0m \u001B[38;5;28;01melse\u001B[39;00m:\n\u001B[0;32m    309\u001B[0m     func \u001B[38;5;241m=\u001B[39m _single_tensor_adam\n\u001B[1;32m--> 311\u001B[0m func(params,\n\u001B[0;32m    312\u001B[0m      grads,\n\u001B[0;32m    313\u001B[0m      exp_avgs,\n\u001B[0;32m    314\u001B[0m      exp_avg_sqs,\n\u001B[0;32m    315\u001B[0m      max_exp_avg_sqs,\n\u001B[0;32m    316\u001B[0m      state_steps,\n\u001B[0;32m    317\u001B[0m      amsgrad\u001B[38;5;241m=\u001B[39mamsgrad,\n\u001B[0;32m    318\u001B[0m      beta1\u001B[38;5;241m=\u001B[39mbeta1,\n\u001B[0;32m    319\u001B[0m      beta2\u001B[38;5;241m=\u001B[39mbeta2,\n\u001B[0;32m    320\u001B[0m      lr\u001B[38;5;241m=\u001B[39mlr,\n\u001B[0;32m    321\u001B[0m      weight_decay\u001B[38;5;241m=\u001B[39mweight_decay,\n\u001B[0;32m    322\u001B[0m      eps\u001B[38;5;241m=\u001B[39meps,\n\u001B[0;32m    323\u001B[0m      maximize\u001B[38;5;241m=\u001B[39mmaximize,\n\u001B[0;32m    324\u001B[0m      capturable\u001B[38;5;241m=\u001B[39mcapturable,\n\u001B[0;32m    325\u001B[0m      differentiable\u001B[38;5;241m=\u001B[39mdifferentiable,\n\u001B[0;32m    326\u001B[0m      grad_scale\u001B[38;5;241m=\u001B[39mgrad_scale,\n\u001B[0;32m    327\u001B[0m      found_inf\u001B[38;5;241m=\u001B[39mfound_inf)\n",
      "File \u001B[1;32m~\\anaconda3\\envs\\ADA\\Lib\\site-packages\\torch\\optim\\adam.py:385\u001B[0m, in \u001B[0;36m_single_tensor_adam\u001B[1;34m(params, grads, exp_avgs, exp_avg_sqs, max_exp_avg_sqs, state_steps, grad_scale, found_inf, amsgrad, beta1, beta2, lr, weight_decay, eps, maximize, capturable, differentiable)\u001B[0m\n\u001B[0;32m    383\u001B[0m \u001B[38;5;66;03m# Decay the first and second moment running average coefficient\u001B[39;00m\n\u001B[0;32m    384\u001B[0m exp_avg\u001B[38;5;241m.\u001B[39mlerp_(grad, \u001B[38;5;241m1\u001B[39m \u001B[38;5;241m-\u001B[39m beta1)\n\u001B[1;32m--> 385\u001B[0m exp_avg_sq\u001B[38;5;241m.\u001B[39mmul_(beta2)\u001B[38;5;241m.\u001B[39maddcmul_(grad, grad\u001B[38;5;241m.\u001B[39mconj(), value\u001B[38;5;241m=\u001B[39m\u001B[38;5;241m1\u001B[39m \u001B[38;5;241m-\u001B[39m beta2)\n\u001B[0;32m    387\u001B[0m \u001B[38;5;28;01mif\u001B[39;00m capturable \u001B[38;5;129;01mor\u001B[39;00m differentiable:\n\u001B[0;32m    388\u001B[0m     step \u001B[38;5;241m=\u001B[39m step_t\n",
      "\u001B[1;31mKeyboardInterrupt\u001B[0m: "
     ]
    }
   ],
   "source": [
    "num_epochs = 4  # ou le nombre d'époques souhaité\n",
    "modelCNN.train()\n",
    "\n",
    "for epoch in range(num_epochs):\n",
    "    running_loss = 0.0\n",
    "\n",
    "    for inputs, labels in trainLoader_cnn:\n",
    "        optimizer_cnn.zero_grad()            \n",
    "        outputs = modelCNN(inputs)          \n",
    "        loss = criterion_cnn(outputs, labels)  \n",
    "        loss.backward()                  \n",
    "        optimizer_cnn.step()\n",
    "        \n",
    "        running_loss += loss.item()\n",
    "    \n",
    "    if scheduler_cnn:\n",
    "        scheduler_cnn.step() \n",
    "\n",
    "    print(f\"Époque {epoch + 1}/{num_epochs}, Perte : {running_loss / len(trainLoader_cnn)}\")\n"
   ],
   "metadata": {
    "collapsed": false,
    "ExecuteTime": {
     "end_time": "2023-12-09T10:44:01.208903Z",
     "start_time": "2023-12-09T10:37:58.525427800Z"
    }
   },
   "id": "41e1df69c80fc79c"
  },
  {
   "cell_type": "markdown",
   "source": [
    "Transformers"
   ],
   "metadata": {
    "collapsed": false
   },
   "id": "9050bfcc356bcb6b"
  },
  {
   "cell_type": "code",
   "execution_count": null,
   "outputs": [],
   "source": [],
   "metadata": {
    "collapsed": false
   },
   "id": "9dd95b47c561bf63"
  }
 ],
 "metadata": {
  "kernelspec": {
   "display_name": "Python 3",
   "language": "python",
   "name": "python3"
  },
  "language_info": {
   "codemirror_mode": {
    "name": "ipython",
    "version": 2
   },
   "file_extension": ".py",
   "mimetype": "text/x-python",
   "name": "python",
   "nbconvert_exporter": "python",
   "pygments_lexer": "ipython2",
   "version": "2.7.6"
  }
 },
 "nbformat": 4,
 "nbformat_minor": 5
}
