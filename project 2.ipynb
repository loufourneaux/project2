{
 "cells": [
  {
   "cell_type": "code",
   "execution_count": 1,
   "outputs": [],
   "source": [
    "import numpy as np\n",
    "import pandas as pd\n",
    "import torch\n",
    "import torch.nn as nn\n",
    "import matplotlib.pyplot as plt\n",
    "import torch.optim as optim\n",
    "from torch.utils.data import DataLoader, TensorDataset\n",
    "import torch.nn.functional as F\n",
    "from sklearn.model_selection import train_test_split\n",
    "from sklearn.preprocessing import StandardScaler\n",
    "from sklearn.preprocessing import LabelEncoder\n",
    "from sklearn.metrics import confusion_matrix\n",
    "from sklearn.metrics import classification_report\n",
    "import seaborn as sns"
   ],
   "metadata": {
    "collapsed": false,
    "ExecuteTime": {
     "end_time": "2023-12-10T07:40:07.082099100Z",
     "start_time": "2023-12-10T07:39:53.613309700Z"
    }
   },
   "id": "16d118a6adf91666"
  },
  {
   "cell_type": "markdown",
   "source": [
    "Dataset creation"
   ],
   "metadata": {
    "collapsed": false
   },
   "id": "1d0fefbba1ff6c5e"
  },
  {
   "cell_type": "code",
   "execution_count": 1,
   "outputs": [
    {
     "ename": "NameError",
     "evalue": "name 'pd' is not defined",
     "output_type": "error",
     "traceback": [
      "\u001B[1;31m---------------------------------------------------------------------------\u001B[0m",
      "\u001B[1;31mNameError\u001B[0m                                 Traceback (most recent call last)",
      "Cell \u001B[1;32mIn[1], line 1\u001B[0m\n\u001B[1;32m----> 1\u001B[0m df \u001B[38;5;241m=\u001B[39m pd\u001B[38;5;241m.\u001B[39mread_parquet(\u001B[38;5;124mr\u001B[39m\u001B[38;5;124m\"\u001B[39m\u001B[38;5;124mC:\u001B[39m\u001B[38;5;124m\\\u001B[39m\u001B[38;5;124mUsers\u001B[39m\u001B[38;5;124m\\\u001B[39m\u001B[38;5;124madrie\u001B[39m\u001B[38;5;124m\\\u001B[39m\u001B[38;5;124mOneDrive\u001B[39m\u001B[38;5;124m\\\u001B[39m\u001B[38;5;124mDocuments\u001B[39m\u001B[38;5;124m\\\u001B[39m\u001B[38;5;124mEPFL\u001B[39m\u001B[38;5;124m\\\u001B[39m\u001B[38;5;124mML\u001B[39m\u001B[38;5;124m\\\u001B[39m\u001B[38;5;124mProject 2\u001B[39m\u001B[38;5;124m\\\u001B[39m\u001B[38;5;124mAll_Relative_Results_Cleaned.parquet\u001B[39m\u001B[38;5;124m\"\u001B[39m)\n",
      "\u001B[1;31mNameError\u001B[0m: name 'pd' is not defined"
     ]
    }
   ],
   "source": [
    "df = pd.read_parquet(r\"C:\\Users\\adrie\\OneDrive\\Documents\\EPFL\\ML\\Project 2\\All_Relative_Results_Cleaned.parquet\")"
   ],
   "metadata": {
    "collapsed": false,
    "ExecuteTime": {
     "end_time": "2023-12-10T10:15:16.656292200Z",
     "start_time": "2023-12-10T10:15:09.184396900Z"
    }
   },
   "id": "c71089b97d4ad533"
  },
  {
   "cell_type": "code",
   "execution_count": 3,
   "outputs": [
    {
     "data": {
      "text/plain": "  Participant   Exercise      Set       Camera  time(s)  left_ankle_x  \\\n0         P04  Abduction  Correct  Frontal_Top    0.000      0.009328   \n1         P04  Abduction  Correct  Frontal_Top    0.033      0.009353   \n2         P04  Abduction  Correct  Frontal_Top    0.067      0.009722   \n\n   left_ankle_y  left_ankle_z  left_ear_x  left_ear_y  ...  right_pinky_z  \\\n0      0.779305      0.187880    0.020658   -0.693419  ...      -0.633111   \n1      0.779298      0.185050    0.021187   -0.693361  ...      -0.630835   \n2      0.779311      0.179212    0.021351   -0.693388  ...      -0.630923   \n\n   right_shoulder_x  right_shoulder_y  right_shoulder_z  right_thumb_x  \\\n0         -0.054347         -0.511760         -0.185118      -0.068159   \n1         -0.054293         -0.511703         -0.184861      -0.068130   \n2         -0.054289         -0.511696         -0.184849      -0.067241   \n\n   right_thumb_y  right_thumb_z  right_wrist_x  right_wrist_y  right_wrist_z  \n0      -0.602015      -0.598093      -0.066565      -0.600690      -0.592768  \n1      -0.602200      -0.596219      -0.066508      -0.600835      -0.590916  \n2      -0.601852      -0.596222      -0.065676      -0.600436      -0.590910  \n\n[3 rows x 104 columns]",
      "text/html": "<div>\n<style scoped>\n    .dataframe tbody tr th:only-of-type {\n        vertical-align: middle;\n    }\n\n    .dataframe tbody tr th {\n        vertical-align: top;\n    }\n\n    .dataframe thead th {\n        text-align: right;\n    }\n</style>\n<table border=\"1\" class=\"dataframe\">\n  <thead>\n    <tr style=\"text-align: right;\">\n      <th></th>\n      <th>Participant</th>\n      <th>Exercise</th>\n      <th>Set</th>\n      <th>Camera</th>\n      <th>time(s)</th>\n      <th>left_ankle_x</th>\n      <th>left_ankle_y</th>\n      <th>left_ankle_z</th>\n      <th>left_ear_x</th>\n      <th>left_ear_y</th>\n      <th>...</th>\n      <th>right_pinky_z</th>\n      <th>right_shoulder_x</th>\n      <th>right_shoulder_y</th>\n      <th>right_shoulder_z</th>\n      <th>right_thumb_x</th>\n      <th>right_thumb_y</th>\n      <th>right_thumb_z</th>\n      <th>right_wrist_x</th>\n      <th>right_wrist_y</th>\n      <th>right_wrist_z</th>\n    </tr>\n  </thead>\n  <tbody>\n    <tr>\n      <th>0</th>\n      <td>P04</td>\n      <td>Abduction</td>\n      <td>Correct</td>\n      <td>Frontal_Top</td>\n      <td>0.000</td>\n      <td>0.009328</td>\n      <td>0.779305</td>\n      <td>0.187880</td>\n      <td>0.020658</td>\n      <td>-0.693419</td>\n      <td>...</td>\n      <td>-0.633111</td>\n      <td>-0.054347</td>\n      <td>-0.511760</td>\n      <td>-0.185118</td>\n      <td>-0.068159</td>\n      <td>-0.602015</td>\n      <td>-0.598093</td>\n      <td>-0.066565</td>\n      <td>-0.600690</td>\n      <td>-0.592768</td>\n    </tr>\n    <tr>\n      <th>1</th>\n      <td>P04</td>\n      <td>Abduction</td>\n      <td>Correct</td>\n      <td>Frontal_Top</td>\n      <td>0.033</td>\n      <td>0.009353</td>\n      <td>0.779298</td>\n      <td>0.185050</td>\n      <td>0.021187</td>\n      <td>-0.693361</td>\n      <td>...</td>\n      <td>-0.630835</td>\n      <td>-0.054293</td>\n      <td>-0.511703</td>\n      <td>-0.184861</td>\n      <td>-0.068130</td>\n      <td>-0.602200</td>\n      <td>-0.596219</td>\n      <td>-0.066508</td>\n      <td>-0.600835</td>\n      <td>-0.590916</td>\n    </tr>\n    <tr>\n      <th>2</th>\n      <td>P04</td>\n      <td>Abduction</td>\n      <td>Correct</td>\n      <td>Frontal_Top</td>\n      <td>0.067</td>\n      <td>0.009722</td>\n      <td>0.779311</td>\n      <td>0.179212</td>\n      <td>0.021351</td>\n      <td>-0.693388</td>\n      <td>...</td>\n      <td>-0.630923</td>\n      <td>-0.054289</td>\n      <td>-0.511696</td>\n      <td>-0.184849</td>\n      <td>-0.067241</td>\n      <td>-0.601852</td>\n      <td>-0.596222</td>\n      <td>-0.065676</td>\n      <td>-0.600436</td>\n      <td>-0.590910</td>\n    </tr>\n  </tbody>\n</table>\n<p>3 rows × 104 columns</p>\n</div>"
     },
     "execution_count": 3,
     "metadata": {},
     "output_type": "execute_result"
    }
   ],
   "source": [
    "df.head(3)"
   ],
   "metadata": {
    "collapsed": false,
    "ExecuteTime": {
     "end_time": "2023-12-04T12:25:32.827127200Z",
     "start_time": "2023-12-04T12:25:32.679942500Z"
    }
   },
   "id": "cc19a36950a0cffd"
  },
  {
   "cell_type": "code",
   "execution_count": 4,
   "outputs": [
    {
     "data": {
      "text/plain": "array(['Frontal_Top', 'Frontal_Low', 'Side_Top'], dtype=object)"
     },
     "execution_count": 4,
     "metadata": {},
     "output_type": "execute_result"
    }
   ],
   "source": [
    "df['Camera'].unique()"
   ],
   "metadata": {
    "collapsed": false,
    "ExecuteTime": {
     "end_time": "2023-12-04T12:25:33.396732600Z",
     "start_time": "2023-12-04T12:25:32.832136700Z"
    }
   },
   "id": "bc194c5a869979f7"
  },
  {
   "cell_type": "code",
   "execution_count": 3,
   "outputs": [],
   "source": [
    "df_clean = df.dropna()\n",
    "index = df_clean.columns.get_loc('time(s)')\n",
    "df_right = df_clean.iloc[:, index+1:]\n",
    "X = df_right\n",
    "Y = df_clean['Exercise']"
   ],
   "metadata": {
    "collapsed": false,
    "ExecuteTime": {
     "end_time": "2023-12-10T07:40:48.758014900Z",
     "start_time": "2023-12-10T07:40:23.257044300Z"
    }
   },
   "id": "9cc34d0d163bc01e"
  },
  {
   "cell_type": "code",
   "execution_count": 4,
   "outputs": [],
   "source": [
    "label_encoder = LabelEncoder()\n",
    "Y_encoded = label_encoder.fit_transform(Y)"
   ],
   "metadata": {
    "collapsed": false,
    "ExecuteTime": {
     "end_time": "2023-12-10T07:40:49.292839900Z",
     "start_time": "2023-12-10T07:40:33.600173600Z"
    }
   },
   "id": "796fd63987459bb3"
  },
  {
   "cell_type": "code",
   "execution_count": 5,
   "outputs": [],
   "source": [
    "X_tensor = torch.tensor(X.values, dtype=torch.float32)\n",
    "y_tensor = torch.tensor(Y_encoded, dtype=torch.long)"
   ],
   "metadata": {
    "collapsed": false,
    "ExecuteTime": {
     "end_time": "2023-12-10T07:40:49.546051900Z",
     "start_time": "2023-12-10T07:40:35.304526900Z"
    }
   },
   "id": "73a2fb70bad31199"
  },
  {
   "cell_type": "code",
   "execution_count": 6,
   "outputs": [],
   "source": [
    "X_train, X_test, Y_train, Y_test = train_test_split(X_tensor, y_tensor, test_size=0.2)\n",
    "\n",
    "train_dataset = TensorDataset(X_train,Y_train)\n",
    "test_dataset = TensorDataset(X_test,Y_test)\n",
    "trainLoader = DataLoader(train_dataset, batch_size=32, shuffle=True)\n",
    "testLoader = DataLoader(test_dataset, batch_size=32 , shuffle=True)"
   ],
   "metadata": {
    "collapsed": false,
    "ExecuteTime": {
     "end_time": "2023-12-09T08:13:51.811567600Z",
     "start_time": "2023-12-09T08:13:44.761123800Z"
    }
   },
   "id": "1b4d7ab682db190"
  },
  {
   "cell_type": "markdown",
   "source": [
    "**Neural network architecture**"
   ],
   "metadata": {
    "collapsed": false
   },
   "id": "c09425cda2803e81"
  },
  {
   "cell_type": "code",
   "execution_count": 25,
   "outputs": [],
   "source": [
    "class NeuralNetwork(nn.Module):\n",
    "    def __init__(self):\n",
    "        super(NeuralNetwork, self).__init__()\n",
    "        self.layer1 = nn.Linear(X_train.shape[1], 64)\n",
    "        self.relu = nn.ReLU()\n",
    "        self.layer2 = nn.Linear(64,128)\n",
    "        self.layer3 = nn.Linear(128,256)\n",
    "        self.layer4 = nn.Linear(256, 7)\n",
    "\n",
    "    def forward(self, x):\n",
    "        x = self.layer1(x)\n",
    "        x = self.relu(x)\n",
    "        x = self.layer2(x)\n",
    "        x = self.relu(x)\n",
    "        x = self.layer3(x)\n",
    "        x = self.relu(x)\n",
    "        x = self.layer4(x)\n",
    "        return x\n",
    "\n",
    "model = NeuralNetwork()"
   ],
   "metadata": {
    "collapsed": false,
    "ExecuteTime": {
     "end_time": "2023-12-04T13:17:10.656487300Z",
     "start_time": "2023-12-04T13:17:10.618078700Z"
    }
   },
   "id": "d236027392b677ad"
  },
  {
   "cell_type": "markdown",
   "source": [
    "**Training configuration**"
   ],
   "metadata": {
    "collapsed": false
   },
   "id": "3778a1e980f01b97"
  },
  {
   "cell_type": "code",
   "execution_count": 26,
   "outputs": [],
   "source": [
    "criterion = nn.CrossEntropyLoss()\n",
    "optimizer = optim.Adam(model.parameters(), lr=0.001)"
   ],
   "metadata": {
    "collapsed": false,
    "ExecuteTime": {
     "end_time": "2023-12-04T13:17:18.961698800Z",
     "start_time": "2023-12-04T13:17:18.918524700Z"
    }
   },
   "id": "d82cacca40391276"
  },
  {
   "cell_type": "markdown",
   "source": [
    "**Model training**"
   ],
   "metadata": {
    "collapsed": false
   },
   "id": "9677ad226bfe628e"
  },
  {
   "cell_type": "code",
   "execution_count": 27,
   "outputs": [
    {
     "name": "stdout",
     "output_type": "stream",
     "text": [
      "Époque 1, Perte: 0.1742, Exactitude: 92.68%\n",
      "Époque 2, Perte: 0.1421, Exactitude: 93.93%\n",
      "Époque 3, Perte: 0.1322, Exactitude: 94.37%\n",
      "Époque 4, Perte: 0.1262, Exactitude: 94.66%\n",
      "Époque 5, Perte: 0.1227, Exactitude: 94.85%\n",
      "Époque 6, Perte: 0.1203, Exactitude: 94.97%\n",
      "Époque 7, Perte: 0.1190, Exactitude: 95.05%\n",
      "Époque 8, Perte: 0.1179, Exactitude: 95.12%\n",
      "Époque 9, Perte: 0.1170, Exactitude: 95.17%\n",
      "Époque 10, Perte: 0.1162, Exactitude: 95.23%\n"
     ]
    }
   ],
   "source": [
    "model.train()\n",
    "\n",
    "for epoch in range(10):  # 4 is the nbr of epochs\n",
    "    running_loss = 0.0\n",
    "    total_train = 0\n",
    "    correct_train = 0\n",
    "\n",
    "    for inputs, labels in trainLoader:\n",
    "        optimizer.zero_grad()\n",
    "        outputs = model(inputs)\n",
    "        loss = criterion(outputs, labels)\n",
    "        loss.backward()\n",
    "        optimizer.step()\n",
    "\n",
    "        running_loss += loss.item()\n",
    "        _, predicted = torch.max(outputs.data, 1)\n",
    "        total_train += labels.size(0)\n",
    "        correct_train += (predicted == labels).sum().item()\n",
    "\n",
    "    # Calculer la perte moyenne et l'exactitude pour l'époque\n",
    "    epoch_loss = running_loss / len(trainLoader)\n",
    "    epoch_accuracy = 100 * correct_train / total_train\n",
    "    print(f'Époque {epoch + 1}, Perte: {epoch_loss:.4f}, Exactitude: {epoch_accuracy:.2f}%')\n"
   ],
   "metadata": {
    "collapsed": false,
    "ExecuteTime": {
     "end_time": "2023-12-04T14:21:57.518944100Z",
     "start_time": "2023-12-04T13:17:30.945933200Z"
    }
   },
   "id": "1f69a171ab3eb11a"
  },
  {
   "cell_type": "markdown",
   "source": [
    "**Model testing**"
   ],
   "metadata": {
    "collapsed": false
   },
   "id": "57bde6a4eb73d9fb"
  },
  {
   "cell_type": "code",
   "execution_count": 28,
   "outputs": [
    {
     "name": "stdout",
     "output_type": "stream",
     "text": [
      "Exactitude sur l'ensemble de test: 94.8273097888324%\n"
     ]
    }
   ],
   "source": [
    "model.eval()  # Mettre le modèle en mode évaluation\n",
    "total_test = 0\n",
    "correct_test = 0\n",
    "\n",
    "y_true = []\n",
    "y_pred = []\n",
    "\n",
    "with torch.no_grad():\n",
    "    for inputs, labels in testLoader:\n",
    "        labels = labels.long()\n",
    "        outputs = model(inputs)\n",
    "        _, predicted = torch.max(outputs.data, 1)\n",
    "        y_true.extend(labels.tolist())\n",
    "        y_pred.extend(predicted.tolist())\n",
    "        total_test += labels.size(0)\n",
    "        correct_test += (predicted == labels).sum().item()\n",
    "\n",
    "test_accuracy = 100 * correct_test / total_test\n",
    "print(f'Exactitude sur l\\'ensemble de test: {test_accuracy}%')\n"
   ],
   "metadata": {
    "collapsed": false,
    "ExecuteTime": {
     "end_time": "2023-12-04T14:22:47.160297200Z",
     "start_time": "2023-12-04T14:22:09.968939900Z"
    }
   },
   "id": "cef6ff502c453bf4"
  },
  {
   "cell_type": "markdown",
   "source": [
    "**Confusion matrix visualization**"
   ],
   "metadata": {
    "collapsed": false
   },
   "id": "8fb67099c7d60b86"
  },
  {
   "cell_type": "code",
   "execution_count": 29,
   "outputs": [
    {
     "data": {
      "text/plain": "Text(52.722222222222214, 0.5, 'True labels')"
     },
     "execution_count": 29,
     "metadata": {},
     "output_type": "execute_result"
    },
    {
     "data": {
      "text/plain": "<Figure size 640x480 with 2 Axes>",
      "image/png": "[encoded data removed]"
     },
     "metadata": {},
     "output_type": "display_data"
    }
   ],
   "source": [
    "conf_matrix = confusion_matrix(y_true,y_pred)\n",
    "\n",
    "sns.heatmap(conf_matrix, annot=True, fmt = 'd')\n",
    "plt.xlabel('Predictions')\n",
    "plt.ylabel('True labels')"
   ],
   "metadata": {
    "collapsed": false,
    "ExecuteTime": {
     "end_time": "2023-12-04T14:22:48.958369400Z",
     "start_time": "2023-12-04T14:22:47.267847400Z"
    }
   },
   "id": "a4f7e39973b1f3c4"
  },
  {
   "cell_type": "markdown",
   "source": [
    "**Classification report**"
   ],
   "metadata": {
    "collapsed": false
   },
   "id": "db028a1ace45058f"
  },
  {
   "cell_type": "code",
   "execution_count": 30,
   "outputs": [
    {
     "name": "stdout",
     "output_type": "stream",
     "text": [
      "              precision    recall  f1-score   support\n",
      "\n",
      "           0       0.93      0.94      0.93     76042\n",
      "           1       0.98      0.92      0.95     72501\n",
      "           2       0.95      0.95      0.95     95233\n",
      "           3       1.00      1.00      1.00     42157\n",
      "           4       0.93      0.98      0.95     65893\n",
      "           5       0.95      0.90      0.93     37810\n",
      "           6       0.90      0.96      0.93     46984\n",
      "\n",
      "    accuracy                           0.95    436620\n",
      "   macro avg       0.95      0.95      0.95    436620\n",
      "weighted avg       0.95      0.95      0.95    436620\n"
     ]
    }
   ],
   "source": [
    "print(classification_report(y_true, y_pred))"
   ],
   "metadata": {
    "collapsed": false,
    "ExecuteTime": {
     "end_time": "2023-12-04T14:23:04.544886300Z",
     "start_time": "2023-12-04T14:23:03.033811600Z"
    }
   },
   "id": "4978ab5df46e36ac"
  },
  {
   "cell_type": "markdown",
   "source": [
    "**Convolutionnal Neural network**"
   ],
   "metadata": {
    "collapsed": false
   },
   "id": "addc1ac00aed76c7"
  },
  {
   "cell_type": "markdown",
   "source": [
    "Data preprocessing"
   ],
   "metadata": {
    "collapsed": false
   },
   "id": "de4d484d41a115aa"
  },
  {
   "cell_type": "code",
   "execution_count": 69,
   "outputs": [],
   "source": [
    "class ConvNeuralNetwork(nn.Module):\n",
    "    def __init__(self):\n",
    "        super(ConvNeuralNetwork, self).__init__()\n",
    "        self.conv1 = nn.Conv3d(in_channels=3, out_channels=64, kernel_size=(3,3,3), stride=1, padding=1)\n",
    "        self.conv2 = nn.Conv3d(in_channels=64, out_channels=128, kernel_size=(3,3,3), stride=1, padding=1)\n",
    "        self.fc1 = nn.Linear(in_features=12672, out_features=50)\n",
    "        self.fc2 = nn.Linear(in_features=50, out_features=7)\n",
    "\n",
    "    def forward(self, x):\n",
    "        x = F.relu(self.conv1(x))\n",
    "        x = F.relu(self.conv2(x))\n",
    "        x = x.view(x.size(0),-1)\n",
    "        x = F.relu(self.fc1(x))\n",
    "        x = self.fc2(x)\n",
    "        return x\n",
    "\n",
    "modelCNN = ConvNeuralNetwork()"
   ],
   "metadata": {
    "collapsed": false,
    "ExecuteTime": {
     "end_time": "2023-12-10T08:38:32.149899400Z",
     "start_time": "2023-12-10T08:38:32.106480300Z"
    }
   },
   "id": "eb2647f56b0e82a3"
  },
  {
   "cell_type": "markdown",
   "source": [
    "CNN config"
   ],
   "metadata": {
    "collapsed": false
   },
   "id": "8862b4808b4c4a03"
  },
  {
   "cell_type": "code",
   "execution_count": 70,
   "outputs": [],
   "source": [
    "criterion_cnn = nn.CrossEntropyLoss()\n",
    "optimizer_cnn = torch.optim.Adam(modelCNN.parameters(), lr = 0.001)"
   ],
   "metadata": {
    "collapsed": false,
    "ExecuteTime": {
     "end_time": "2023-12-10T08:38:42.885309500Z",
     "start_time": "2023-12-10T08:38:42.808287100Z"
    }
   },
   "id": "803fa978c4fe8943"
  },
  {
   "cell_type": "code",
   "execution_count": 71,
   "outputs": [],
   "source": [
    "scheduler_cnn = torch.optim.lr_scheduler.StepLR(optimizer_cnn, step_size=30, gamma=0.1)"
   ],
   "metadata": {
    "collapsed": false,
    "ExecuteTime": {
     "end_time": "2023-12-10T08:38:42.913623900Z",
     "start_time": "2023-12-10T08:38:42.897472400Z"
    }
   },
   "id": "69f6afcc92730a08"
  },
  {
   "cell_type": "markdown",
   "source": [
    "Training Cnn"
   ],
   "metadata": {
    "collapsed": false
   },
   "id": "cde2f2143412892b"
  },
  {
   "cell_type": "code",
   "execution_count": 9,
   "outputs": [],
   "source": [
    "\n",
    "cols_x = [col for col in X.columns if col.endswith('x')]\n",
    "cols_y = [col for col in X.columns if col.endswith('y')]\n",
    "cols_z = [col for col in X.columns if col.endswith('z')]\n",
    "tensor_5D = torch.zeros((len(X), 3, 33, 1, 1), dtype=torch.float32)\n"
   ],
   "metadata": {
    "collapsed": false,
    "ExecuteTime": {
     "end_time": "2023-12-10T07:40:57.601336Z",
     "start_time": "2023-12-10T07:40:56.274944100Z"
    }
   },
   "id": "b2b257c6c329261a"
  },
  {
   "cell_type": "code",
   "execution_count": 10,
   "outputs": [
    {
     "name": "stdout",
     "output_type": "stream",
     "text": [
      "torch.Size([2183099, 33, 3, 1, 1])\n",
      "tensor([ 0.0207, -0.6934,  0.0230])\n",
      "Original: 0.020658314 -0.6934193 0.023042714\n"
     ]
    }
   ],
   "source": [
    "nbr_of_points = (X.shape[1])//3\n",
    "X_reshape = X.values.reshape(-1,nbr_of_points,3)\n",
    "tensor_4D_transposed = np.expand_dims(np.expand_dims(np.transpose(X_reshape, (0, 2, 1)), axis=3), axis=4)\n",
    "tensor_5D = torch.from_numpy(tensor_4D_transposed)\n",
    "tensor_5D = tensor_5D.permute(0, 2, 1, 3, 4)\n",
    "print(tensor_5D.shape)\n",
    "original_x = X[cols_x[1]].iloc[0]\n",
    "original_y = X[cols_y[1]].iloc[0]\n",
    "original_z = X[cols_z[1]].iloc[0]\n",
    "\n",
    "print( tensor_5D[0, 1,:, 0, 0])\n",
    "print(\"Original:\", original_x, original_y, original_z)"
   ],
   "metadata": {
    "collapsed": false,
    "ExecuteTime": {
     "end_time": "2023-12-10T07:40:57.898969400Z",
     "start_time": "2023-12-10T07:40:57.399703800Z"
    }
   },
   "id": "a9fd0ad99b58ccf2"
  },
  {
   "cell_type": "code",
   "execution_count": 30,
   "outputs": [],
   "source": [
    "data_x = X[cols_x].values\n",
    "data_y = X[cols_y].values\n",
    "data_z = X[cols_z].values\n",
    "\n",
    "# Calculer les moyennes pour chaque axe\n",
    "mean_x = np.mean(data_x, axis=0)\n",
    "mean_y = np.mean(data_y, axis=0)\n",
    "mean_z = np.mean(data_z, axis=0)\n",
    "\n",
    "# Créer un tableau pour les coordonnées moyennes\n",
    "mean_coords = np.stack([mean_x, mean_y, mean_z], axis=1)"
   ],
   "metadata": {
    "collapsed": false,
    "ExecuteTime": {
     "end_time": "2023-12-10T07:54:20.032673200Z",
     "start_time": "2023-12-10T07:53:55.912487300Z"
    }
   },
   "id": "cc023b6ec3caf05b"
  },
  {
   "cell_type": "code",
   "execution_count": 31,
   "outputs": [
    {
     "data": {
      "text/plain": "array([[ 0.11346523,  0.4119869 ,  0.0381773 ],\n       [-0.04068164, -0.36560065, -0.05145434],\n       [ 0.04440907, -0.16414286, -0.03948606],\n       [-0.05975137, -0.36227626, -0.10778917],\n       [-0.05998181, -0.36193183, -0.10858286],\n       [-0.05988431, -0.36255544, -0.10781313],\n       [ 0.1345776 ,  0.49094617, -0.01570216],\n       [ 0.1190028 ,  0.4418995 ,  0.04028726],\n       [ 0.05345186, -0.0078382 ,  0.02147362],\n       [ 0.08015905, -0.07823021, -0.12879892],\n       [ 0.09298274,  0.18101151, -0.0250066 ],\n       [-0.04557892, -0.3256651 , -0.09079942],\n       [ 0.08703931, -0.07359562, -0.11395174],\n       [ 0.01820849, -0.27888867, -0.00777004],\n       [ 0.07121432, -0.09436671, -0.10587235],\n       [ 0.07258424, -0.09961442, -0.09924887],\n       [-0.05695432, -0.3360866 , -0.11335718],\n       [ 0.02068351,  0.36618477,  0.02024013],\n       [-0.10237569, -0.35407802, -0.08113733],\n       [-0.17088334, -0.14838396, -0.09782581],\n       [-0.0724598 , -0.35835588, -0.11338446],\n       [-0.0726544 , -0.35778484, -0.1125438 ],\n       [-0.07278371, -0.35919487, -0.11263852],\n       [ 0.0271511 ,  0.43954197, -0.01536131],\n       [ 0.02330178,  0.39129904,  0.02769551],\n       [-0.0536216 ,  0.00751063, -0.02012964],\n       [-0.16350508, -0.08745808, -0.18419084],\n       [-0.00659725,  0.18447737, -0.0739402 ],\n       [-0.06354832, -0.32080075, -0.09853923],\n       [-0.17621441, -0.07614662, -0.18303777],\n       [-0.12693052, -0.25924045, -0.06789146],\n       [-0.1713625 , -0.09302968, -0.16493845],\n       [-0.18082887, -0.09504721, -0.16093552]], dtype=float32)"
     },
     "execution_count": 31,
     "metadata": {},
     "output_type": "execute_result"
    }
   ],
   "source": [
    "mean_coords"
   ],
   "metadata": {
    "collapsed": false,
    "ExecuteTime": {
     "end_time": "2023-12-10T07:54:20.403034Z",
     "start_time": "2023-12-10T07:54:20.017676600Z"
    }
   },
   "id": "5b273a5d6ce4379b"
  },
  {
   "cell_type": "markdown",
   "source": [],
   "metadata": {
    "collapsed": false
   },
   "id": "3804d9d5c0b3fc2f"
  },
  {
   "cell_type": "code",
   "execution_count": 38,
   "outputs": [
    {
     "name": "stdout",
     "output_type": "stream",
     "text": [
      "(33, 3)\n"
     ]
    }
   ],
   "source": [
    "from sklearn.decomposition import PCA\n",
    "\n",
    "# Utiliser PCA pour réduire à trois dimensions\n",
    "pca = PCA(n_components=3)\n",
    "reduced_coords = pca.fit_transform(mean_coords)\n",
    "\n",
    "# Normaliser les coordonnées réduites pour qu'elles correspondent à votre grille 3D\n",
    "# Par exemple, si votre grille est de taille 3x3x11\n",
    "normalized_coords = (reduced_coords - reduced_coords.min(0)) / reduced_coords.ptp(0)\n",
    "print(normalized_coords.shape)\n",
    "grid_coords = np.round(normalized_coords * np.array([2, 2, 10])).astype(int)\n"
   ],
   "metadata": {
    "collapsed": false,
    "ExecuteTime": {
     "end_time": "2023-12-10T07:56:28.191064300Z",
     "start_time": "2023-12-10T07:56:27.273537Z"
    }
   },
   "id": "5916fbd4ffbcc8b3"
  },
  {
   "cell_type": "code",
   "execution_count": 39,
   "outputs": [
    {
     "name": "stdout",
     "output_type": "stream",
     "text": [
      "Coordonnées avec des doublons : [[0 1 3]\n",
      " [0 1 4]\n",
      " [1 0 8]\n",
      " [1 2 5]\n",
      " [2 1 1]]\n"
     ]
    }
   ],
   "source": [
    "unique_coords, counts = np.unique(grid_coords, axis=0, return_counts=True)\n",
    "\n",
    "# Identifier les coordonnées où plus d'une feature a été mappée\n",
    "duplicate_coords = unique_coords[counts > 1]\n",
    "print(\"Coordonnées avec des doublons :\", duplicate_coords)"
   ],
   "metadata": {
    "collapsed": false,
    "ExecuteTime": {
     "end_time": "2023-12-10T07:57:10.058073500Z",
     "start_time": "2023-12-10T07:57:10.015192600Z"
    }
   },
   "id": "3da66124c78e6f84"
  },
  {
   "cell_type": "code",
   "execution_count": 34,
   "outputs": [
    {
     "data": {
      "text/plain": "(5, 3)"
     },
     "execution_count": 34,
     "metadata": {},
     "output_type": "execute_result"
    }
   ],
   "source": [
    "duplicate_coords.shape"
   ],
   "metadata": {
    "collapsed": false,
    "ExecuteTime": {
     "end_time": "2023-12-10T07:55:25.053109200Z",
     "start_time": "2023-12-10T07:55:25.041109100Z"
    }
   },
   "id": "bcaea53f340cb848"
  },
  {
   "cell_type": "code",
   "execution_count": 40,
   "outputs": [
    {
     "name": "stdout",
     "output_type": "stream",
     "text": [
      "Features mappées à [0 1 3] : [11 28]\n",
      "Features mappées à [0 1 4] : [ 3  4  5 16 20 21 22]\n",
      "Features mappées à [1 0 8] : [14 15]\n",
      "Features mappées à [1 2 5] : [31 32]\n",
      "Features mappées à [2 1 1] : [17 24]\n"
     ]
    }
   ],
   "source": [
    "for coord in duplicate_coords:\n",
    "    # Trouver les indices des features qui ont été mappées à ces coordonnées\n",
    "    features_at_coord = np.where((grid_coords == coord).all(axis=1))[0]\n",
    "    print(f\"Features mappées à {coord} : {features_at_coord}\")\n"
   ],
   "metadata": {
    "collapsed": false,
    "ExecuteTime": {
     "end_time": "2023-12-10T07:57:25.564982100Z",
     "start_time": "2023-12-10T07:57:25.161585500Z"
    }
   },
   "id": "e7c62f3b2677c076"
  },
  {
   "cell_type": "code",
   "execution_count": 41,
   "outputs": [
    {
     "name": "stdout",
     "output_type": "stream",
     "text": [
      "Coordonnées (0, 1, 4) ont les features [3, 4, 5, 16, 20, 21, 22]\n",
      "Coordonnées (0, 1, 3) ont les features [11, 28]\n",
      "Coordonnées (1, 0, 8) ont les features [14, 15]\n",
      "Coordonnées (2, 1, 1) ont les features [17, 24]\n",
      "Coordonnées (1, 2, 5) ont les features [31, 32]\n"
     ]
    }
   ],
   "source": [
    "feature_to_grid = {}\n",
    "for feature_idx, coord in enumerate(grid_coords):\n",
    "    coord_tuple = tuple(coord)\n",
    "    if coord_tuple not in feature_to_grid:\n",
    "        feature_to_grid[coord_tuple] = []\n",
    "    feature_to_grid[coord_tuple].append(feature_idx)\n",
    "\n",
    "# Identifier les coordonnées avec des doublons\n",
    "for coord, features in feature_to_grid.items():\n",
    "    if len(features) > 1:\n",
    "        print(f\"Coordonnées {coord} ont les features {features}\")\n"
   ],
   "metadata": {
    "collapsed": false,
    "ExecuteTime": {
     "end_time": "2023-12-10T07:57:38.947308500Z",
     "start_time": "2023-12-10T07:57:38.902894200Z"
    }
   },
   "id": "92e448a9ded55c5d"
  },
  {
   "cell_type": "code",
   "execution_count": 53,
   "outputs": [
    {
     "data": {
      "text/plain": "array([[ 0.11346523,  0.4119869 ,  0.0381773 ],\n       [-0.04068164, -0.36560065, -0.05145434],\n       [ 0.04440907, -0.16414286, -0.03948606],\n       [-0.05975137, -0.36227626, -0.10778917],\n       [-0.05998181, -0.36193183, -0.10858286],\n       [-0.05988431, -0.36255544, -0.10781313],\n       [ 0.1345776 ,  0.49094617, -0.01570216],\n       [ 0.1190028 ,  0.4418995 ,  0.04028726],\n       [ 0.05345186, -0.0078382 ,  0.02147362],\n       [ 0.08015905, -0.07823021, -0.12879892],\n       [ 0.09298274,  0.18101151, -0.0250066 ],\n       [-0.04557892, -0.3256651 , -0.09079942],\n       [ 0.08703931, -0.07359562, -0.11395174],\n       [ 0.01820849, -0.27888867, -0.00777004],\n       [ 0.07121432, -0.09436671, -0.10587235],\n       [ 0.07258424, -0.09961442, -0.09924887],\n       [-0.05695432, -0.3360866 , -0.11335718],\n       [ 0.02068351,  0.36618477,  0.02024013],\n       [-0.10237569, -0.35407802, -0.08113733],\n       [-0.17088334, -0.14838396, -0.09782581],\n       [-0.0724598 , -0.35835588, -0.11338446],\n       [-0.0726544 , -0.35778484, -0.1125438 ],\n       [-0.07278371, -0.35919487, -0.11263852],\n       [ 0.0271511 ,  0.43954197, -0.01536131],\n       [ 0.02330178,  0.39129904,  0.02769551],\n       [-0.0536216 ,  0.00751063, -0.02012964],\n       [-0.16350508, -0.08745808, -0.18419084],\n       [-0.00659725,  0.18447737, -0.0739402 ],\n       [-0.06354832, -0.32080075, -0.09853923],\n       [-0.17621441, -0.07614662, -0.18303777],\n       [-0.12693052, -0.25924045, -0.06789146],\n       [-0.1713625 , -0.09302968, -0.16493845],\n       [-0.18082887, -0.09504721, -0.16093552]], dtype=float32)"
     },
     "execution_count": 53,
     "metadata": {},
     "output_type": "execute_result"
    }
   ],
   "source": [
    "mean_coords"
   ],
   "metadata": {
    "collapsed": false,
    "ExecuteTime": {
     "end_time": "2023-12-10T08:12:47.103864800Z",
     "start_time": "2023-12-10T08:12:47.063191400Z"
    }
   },
   "id": "62ef164122872175"
  },
  {
   "cell_type": "code",
   "execution_count": 52,
   "outputs": [
    {
     "data": {
      "text/plain": "left_ankle_x          0.113465\nleft_ear_x           -0.040682\nleft_elbow_x          0.044409\nleft_eye_center_x    -0.059751\nleft_eye_inner_x     -0.059982\nleft_eye_outer_x     -0.059884\nleft_foot_x           0.134578\nleft_heel_x           0.119003\nleft_hip_x            0.053452\nleft_index_x          0.080159\nleft_knee_x           0.092983\nleft_mouth_x         -0.045579\nleft_pinky_x          0.087039\nleft_shoulder_x       0.018208\nleft_thumb_x          0.071214\nleft_wrist_x          0.072584\nnose_x               -0.056954\nright_ankle_x         0.020684\nright_ear_x          -0.102376\nright_elbow_x        -0.170883\nright_eye_center_x   -0.072460\nright_eye_inner_x    -0.072654\nright_eye_outer_x    -0.072784\nright_foot_x          0.027151\nright_heel_x          0.023302\nright_hip_x          -0.053622\nright_index_x        -0.163505\nright_knee_x         -0.006597\nright_mouth_x        -0.063548\nright_pinky_x        -0.176214\nright_shoulder_x     -0.126931\nright_thumb_x        -0.171363\nright_wrist_x        -0.180829\ndtype: float32"
     },
     "execution_count": 52,
     "metadata": {},
     "output_type": "execute_result"
    }
   ],
   "source": [
    "X[cols_x].mean(axis = 0)"
   ],
   "metadata": {
    "collapsed": false,
    "ExecuteTime": {
     "end_time": "2023-12-10T08:12:39.679988500Z",
     "start_time": "2023-12-10T08:12:37.059283200Z"
    }
   },
   "id": "e0b394331abb88f2"
  },
  {
   "cell_type": "code",
   "execution_count": 49,
   "outputs": [
    {
     "data": {
      "text/plain": "<Figure size 640x480 with 1 Axes>",
      "image/png": "[encoded data removed]"
     },
     "metadata": {},
     "output_type": "display_data"
    }
   ],
   "source": [
    "fig = plt.figure()\n",
    "ax = fig.add_subplot(projection='3d')\n",
    "ax.scatter(mean_coords[:,0], mean_coords[:,1], mean_coords[:,2])\n",
    "plt.show()"
   ],
   "metadata": {
    "collapsed": false,
    "ExecuteTime": {
     "end_time": "2023-12-10T08:07:06.786406800Z",
     "start_time": "2023-12-10T08:07:05.850869Z"
    }
   },
   "id": "e80ee6620ef6d5fa"
  },
  {
   "cell_type": "code",
   "execution_count": 54,
   "outputs": [],
   "source": [
    "depth, height, width = 3, 3, 11\n",
    "\n",
    "# Nombre de canaux (supposons 3 pour x, y, z)\n",
    "num_channels = 3\n",
    "\n",
    "# Nombre d'échantillons\n",
    "num_samples = 2183099\n",
    "\n",
    "# Initialiser un tenseur vide\n",
    "grid_tensor = torch.zeros((num_samples, num_channels, depth, height, width))"
   ],
   "metadata": {
    "collapsed": false,
    "ExecuteTime": {
     "end_time": "2023-12-10T08:24:34.684359900Z",
     "start_time": "2023-12-10T08:24:31.435596700Z"
    }
   },
   "id": "9f71b414998d3db0"
  },
  {
   "cell_type": "code",
   "execution_count": 55,
   "outputs": [],
   "source": [
    "# Parcourir chaque feature et placer ses valeurs dans le tenseur\n",
    "for feature_idx in range(33):  # Supposons que vous avez 33 features\n",
    "    # Coordonnées normalisées et arrondies pour la feature actuelle\n",
    "    d, h, w = grid_coords[feature_idx]\n",
    "\n",
    "    # Assurer que les indices sont dans les limites de la grille\n",
    "    d, h, w = np.clip([d, h, w], 0, [depth - 1, height - 1, width - 1])\n",
    "\n",
    "    # Placer les valeurs de la feature dans le tenseur\n",
    "    # Ici, cols_x, cols_y, cols_z sont les noms des colonnes dans X pour chaque coordonnée\n",
    "    grid_tensor[:, 0, d, h, w] = torch.tensor(X[cols_x[feature_idx]].values)\n",
    "    grid_tensor[:, 1, d, h, w] = torch.tensor(X[cols_y[feature_idx]].values)\n",
    "    grid_tensor[:, 2, d, h, w] = torch.tensor(X[cols_z[feature_idx]].values)\n"
   ],
   "metadata": {
    "collapsed": false,
    "ExecuteTime": {
     "end_time": "2023-12-10T08:25:57.013603400Z",
     "start_time": "2023-12-10T08:24:46.912279Z"
    }
   },
   "id": "7d54d87b1d4102ef"
  },
  {
   "cell_type": "code",
   "execution_count": 56,
   "outputs": [
    {
     "name": "stdout",
     "output_type": "stream",
     "text": [
      "Feature 0: Coordonnées dans la grille - Profondeur: 2, Hauteur: 0, Largeur: 2\n",
      "Feature 1: Coordonnées dans la grille - Profondeur: 0, Hauteur: 0, Largeur: 1\n",
      "Feature 2: Coordonnées dans la grille - Profondeur: 1, Hauteur: 0, Largeur: 3\n",
      "Feature 3: Coordonnées dans la grille - Profondeur: 0, Hauteur: 1, Largeur: 4\n",
      "Feature 4: Coordonnées dans la grille - Profondeur: 0, Hauteur: 1, Largeur: 4\n",
      "tensor([0., 0., 0.])\n"
     ]
    }
   ],
   "source": [
    "for feature_idx in range(5):  # Vérifier les 5 premières features\n",
    "    d, h, w = grid_coords[feature_idx]\n",
    "    print(f\"Feature {feature_idx}: Coordonnées dans la grille - Profondeur: {d}, Hauteur: {h}, Largeur: {w}\")\n",
    "\n",
    "sample_idx = 0  # Index d'un échantillon\n",
    "d, h, w = 1, 1, 4  # Choisissez une position spécifique dans la grille\n",
    "print(grid_tensor[sample_idx, :, d, h, w])  # Affiche les valeurs x, y, z à cette position\n"
   ],
   "metadata": {
    "collapsed": false,
    "ExecuteTime": {
     "end_time": "2023-12-10T08:26:26.903308300Z",
     "start_time": "2023-12-10T08:26:26.675746600Z"
    }
   },
   "id": "17d18e143a9043e8"
  },
  {
   "cell_type": "code",
   "execution_count": 85,
   "outputs": [
    {
     "name": "stdout",
     "output_type": "stream",
     "text": [
      "(2183099, 3)\n"
     ]
    }
   ],
   "source": [
    "print(grid_coords.shape)"
   ],
   "metadata": {
    "collapsed": false,
    "ExecuteTime": {
     "end_time": "2023-12-09T18:04:07.791064600Z",
     "start_time": "2023-12-09T18:04:07.734496Z"
    }
   },
   "id": "33bd5c3b69b59fc2"
  },
  {
   "cell_type": "code",
   "execution_count": 58,
   "outputs": [
    {
     "name": "stdout",
     "output_type": "stream",
     "text": [
      "Coordonnées normalisées et arrondies de la première feature : Profondeur: 2, Hauteur: 0, Largeur: 2\n"
     ]
    }
   ],
   "source": [
    "# Coordonnées normalisées et arrondies pour la première feature\n",
    "d, h, w = grid_coords[0]\n",
    "print(f\"Coordonnées normalisées et arrondies de la première feature : Profondeur: {d}, Hauteur: {h}, Largeur: {w}\")\n"
   ],
   "metadata": {
    "collapsed": false,
    "ExecuteTime": {
     "end_time": "2023-12-10T08:26:41.499743600Z",
     "start_time": "2023-12-10T08:26:41.488253300Z"
    }
   },
   "id": "f861807f02965567"
  },
  {
   "cell_type": "code",
   "execution_count": 60,
   "outputs": [
    {
     "name": "stdout",
     "output_type": "stream",
     "text": [
      "Valeurs de la première feature dans le tenseur : tensor([[0.0093, 0.7793, 0.1879],\n",
      "        [0.0094, 0.7793, 0.1851],\n",
      "        [0.0097, 0.7793, 0.1792],\n",
      "        ...,\n",
      "        [0.1054, 0.7652, 0.0840],\n",
      "        [0.1064, 0.7653, 0.0840],\n",
      "        [0.1070, 0.7653, 0.0835]])\n",
      "torch.Size([2183099, 3])\n"
     ]
    }
   ],
   "source": [
    "# Assurez-vous que les indices sont dans les limites de la grille\n",
    "d, h, w = np.clip([d, h, w], 0, [depth - 1, height - 1, width - 1])\n",
    "\n",
    "# Récupérer les valeurs de la première feature dans le tenseur\n",
    "feature_values = grid_tensor[:, :, d, h, w]\n",
    "print(f\"Valeurs de la première feature dans le tenseur : {feature_values}\")\n",
    "print(feature_values.shape)"
   ],
   "metadata": {
    "collapsed": false,
    "ExecuteTime": {
     "end_time": "2023-12-10T08:28:29.855623300Z",
     "start_time": "2023-12-10T08:28:29.745620200Z"
    }
   },
   "id": "20bad2841b379cce"
  },
  {
   "cell_type": "code",
   "execution_count": 61,
   "outputs": [
    {
     "name": "stdout",
     "output_type": "stream",
     "text": [
      "Valeurs originales de la première feature dans X :    left_ankle_x  left_ankle_y  left_ankle_z\n",
      "0      0.009328      0.779305      0.187880\n",
      "1      0.009353      0.779298      0.185050\n",
      "2      0.009722      0.779311      0.179212\n",
      "3      0.011696      0.778027      0.166566\n",
      "4      0.011671      0.778045      0.166878\n"
     ]
    }
   ],
   "source": [
    "# Valeurs originales de la première feature dans X\n",
    "original_values = X.iloc[:, :3]  # Supposant que les 3 premières colonnes sont x, y, z de la première feature\n",
    "print(f\"Valeurs originales de la première feature dans X : {original_values.head()}\")\n"
   ],
   "metadata": {
    "collapsed": false,
    "ExecuteTime": {
     "end_time": "2023-12-10T08:28:39.061449300Z",
     "start_time": "2023-12-10T08:28:38.999839800Z"
    }
   },
   "id": "f95f4ac6d01de5ef"
  },
  {
   "cell_type": "code",
   "execution_count": 62,
   "outputs": [
    {
     "data": {
      "text/plain": "torch.Size([2183099, 3, 3, 3, 11])"
     },
     "execution_count": 62,
     "metadata": {},
     "output_type": "execute_result"
    }
   ],
   "source": [
    "grid_tensor.shape "
   ],
   "metadata": {
    "collapsed": false,
    "ExecuteTime": {
     "end_time": "2023-12-10T08:30:05.849104500Z",
     "start_time": "2023-12-10T08:30:05.832117400Z"
    }
   },
   "id": "87dc0166c2cfc6fc"
  },
  {
   "cell_type": "code",
   "execution_count": 63,
   "outputs": [
    {
     "name": "stdout",
     "output_type": "stream",
     "text": [
      "torch.Size([1746479, 3, 3, 3, 11])\n"
     ]
    }
   ],
   "source": [
    "Y_tensor_cnn = y_tensor\n",
    "X_train_cnn, X_test_cnn, Y_train_cnn, Y_test_cnn = train_test_split(grid_tensor, Y_tensor_cnn, test_size=0.2)\n",
    "\n",
    "print(X_train_cnn.shape)\n",
    "dataset_train_cnn = TensorDataset(X_train_cnn, Y_train_cnn)\n",
    "trainLoader_cnn = DataLoader(dataset_train_cnn, batch_size=33, shuffle=True)\n",
    "dataset_test_cnn = TensorDataset(X_test_cnn, Y_test_cnn)\n",
    "testLoader_cnn = DataLoader(dataset_test_cnn, batch_size=32, shuffle=True)"
   ],
   "metadata": {
    "collapsed": false,
    "ExecuteTime": {
     "end_time": "2023-12-10T08:33:17.609215300Z",
     "start_time": "2023-12-10T08:30:19.316013400Z"
    }
   },
   "id": "4e149e138e325f36"
  },
  {
   "cell_type": "code",
   "execution_count": null,
   "outputs": [],
   "source": [
    "num_epochs = 4  # ou le nombre d'époques souhaité\n",
    "modelCNN.train()\n",
    "\n",
    "for epoch in range(num_epochs):\n",
    "    running_loss = 0.0\n",
    "    total_train = 0\n",
    "    correct_train = 0\n",
    "    for inputs, labels in trainLoader_cnn:\n",
    "        optimizer_cnn.zero_grad()            \n",
    "        outputs = modelCNN(inputs)          \n",
    "        loss = criterion_cnn(outputs, labels)  \n",
    "        loss.backward()                    \n",
    "        optimizer_cnn.step()\n",
    "        _, predicted = torch.max(outputs.data, 1)\n",
    "        running_loss += loss.item()\n",
    "        total_train += labels.size(0)\n",
    "        correct_train += (predicted == labels).sum().item()\n",
    "        if scheduler_cnn:\n",
    "            scheduler_cnn.step()\n",
    "    epoch_accuracy = 100 * correct_train / total_train\n",
    "    print(f\"Epuch {epoch + 1}/{num_epochs}, Loss : {running_loss / len(trainLoader_cnn)},  Accuracy: {epoch_accuracy:.2f}%'\")\n"
   ],
   "metadata": {
    "collapsed": false,
    "ExecuteTime": {
     "start_time": "2023-12-10T08:38:51.111632400Z"
    }
   },
   "id": "41e1df69c80fc79c"
  },
  {
   "cell_type": "code",
   "execution_count": 6,
   "outputs": [],
   "source": [
    "def map_to_grid(x, y, z, grid_size, min_vals, max_vals):\n",
    "    x_norm = (x - min_vals[0]) / (max_vals[0] - min_vals[0])\n",
    "    y_norm = (y - min_vals[1]) / (max_vals[1] - min_vals[1])\n",
    "    z_norm = (z - min_vals[2]) / (max_vals[2] - min_vals[2])\n",
    "\n",
    "    x_idx = np.clip((x_norm * grid_size).astype(int), 0, grid_size - 1)\n",
    "    y_idx = np.clip((y_norm * grid_size).astype(int), 0, grid_size - 1)\n",
    "    z_idx = np.clip((z_norm * grid_size).astype(int), 0, grid_size - 1)\n",
    "\n",
    "\n",
    "    return x_idx, y_idx, z_idx\n"
   ],
   "metadata": {
    "collapsed": false,
    "ExecuteTime": {
     "end_time": "2023-12-09T15:48:35.113903200Z",
     "start_time": "2023-12-09T15:48:31.170362100Z"
    }
   },
   "id": "b245447cf86a762"
  },
  {
   "cell_type": "code",
   "execution_count": 8,
   "outputs": [
    {
     "name": "stdout",
     "output_type": "stream",
     "text": [
      "(2183099, 33)\n"
     ]
    }
   ],
   "source": [
    "print(x_idx.shape)\n"
   ],
   "metadata": {
    "collapsed": false,
    "ExecuteTime": {
     "end_time": "2023-12-09T15:49:14.080241400Z",
     "start_time": "2023-12-09T15:49:13.973966Z"
    }
   },
   "id": "26b8a74ebaf6fddc"
  },
  {
   "cell_type": "code",
   "execution_count": 10,
   "outputs": [
    {
     "name": "stdout",
     "output_type": "stream",
     "text": [
      "2183099\n"
     ]
    },
    {
     "ename": "RuntimeError",
     "evalue": "[enforce fail at alloc_cpu.cpp:80] data. DefaultCPUAllocator: not enough memory: you tried to allocate 26197188000000 bytes.",
     "output_type": "error",
     "traceback": [
      "\u001B[1;31m---------------------------------------------------------------------------\u001B[0m",
      "\u001B[1;31mRuntimeError\u001B[0m                              Traceback (most recent call last)",
      "Cell \u001B[1;32mIn[10], line 6\u001B[0m\n\u001B[0;32m      4\u001B[0m num_inputs \u001B[38;5;241m=\u001B[39m X\u001B[38;5;241m.\u001B[39mshape[\u001B[38;5;241m0\u001B[39m]\n\u001B[0;32m      5\u001B[0m \u001B[38;5;28mprint\u001B[39m(num_inputs)\n\u001B[1;32m----> 6\u001B[0m grid_tensor \u001B[38;5;241m=\u001B[39m torch\u001B[38;5;241m.\u001B[39mzeros((num_inputs, depth, height, width, num_features), dtype \u001B[38;5;241m=\u001B[39m torch\u001B[38;5;241m.\u001B[39mfloat32)\n",
      "\u001B[1;31mRuntimeError\u001B[0m: [enforce fail at alloc_cpu.cpp:80] data. DefaultCPUAllocator: not enough memory: you tried to allocate 26197188000000 bytes."
     ]
    }
   ],
   "source": [
    "depth, height, width = 100, 100, 100\n",
    "\n",
    "num_features = 3\n",
    "num_inputs = X.shape[0]\n",
    "print(num_inputs)\n",
    "grid_tensor = torch.zeros((num_inputs, depth, height, width, num_features), dtype = torch.float32)"
   ],
   "metadata": {
    "collapsed": false,
    "ExecuteTime": {
     "end_time": "2023-12-09T15:51:59.812042600Z",
     "start_time": "2023-12-09T15:51:59.167053600Z"
    }
   },
   "id": "a835f3cc38d0261a"
  },
  {
   "cell_type": "code",
   "execution_count": null,
   "outputs": [],
   "source": [
    "print(grid_tensor.shape)\n",
    "\n",
    "for i in range(2183099):  # Pour chaque enregistrement\n",
    "    for j in range(33):   # Pour chaque feature\n",
    "        d, h, w = x_idx[i, j], y_idx[i, j], z_idx[i, j]\n",
    "        # Assurez-vous que les indices sont dans les limites de la grille\n",
    "        d, h, w = np.clip([d, h, w], 0, [depth - 1, height - 1, width - 1])\n",
    "        # Extraire les valeurs x, y, z pour la feature\n",
    "        val_x = X[cols_x].iloc[i, j]\n",
    "        val_y = X[cols_y].iloc[i, j]\n",
    "        val_z = X[cols_z].iloc[i, j]\n",
    "        # Placer les valeurs dans le tenseur\n",
    "        grid_tensor[i, d, h, w, :] = torch.tensor([val_x, val_y, val_z])"
   ],
   "metadata": {
    "collapsed": false,
    "ExecuteTime": {
     "start_time": "2023-12-09T15:49:18.143545600Z"
    }
   },
   "id": "4fa050f60871df0"
  },
  {
   "cell_type": "code",
   "execution_count": 13,
   "outputs": [
    {
     "ename": "NameError",
     "evalue": "name 'Dataset' is not defined",
     "output_type": "error",
     "traceback": [
      "\u001B[1;31m---------------------------------------------------------------------------\u001B[0m",
      "\u001B[1;31mNameError\u001B[0m                                 Traceback (most recent call last)",
      "Cell \u001B[1;32mIn[13], line 1\u001B[0m\n\u001B[1;32m----> 1\u001B[0m \u001B[38;5;28;01mclass\u001B[39;00m \u001B[38;5;21;01mCustomDataset\u001B[39;00m(Dataset):\n\u001B[0;32m      2\u001B[0m     \u001B[38;5;28;01mdef\u001B[39;00m \u001B[38;5;21m__init__\u001B[39m(\u001B[38;5;28mself\u001B[39m, grid_tensor, labels):\n\u001B[0;32m      3\u001B[0m         \u001B[38;5;28mself\u001B[39m\u001B[38;5;241m.\u001B[39mgrid_tensor \u001B[38;5;241m=\u001B[39m grid_tensor\n",
      "\u001B[1;31mNameError\u001B[0m: name 'Dataset' is not defined"
     ]
    }
   ],
   "source": [
    "class CustomDataset(Dataset):\n",
    "    def __init__(self, grid_tensor, labels):\n",
    "        self.grid_tensor = grid_tensor\n",
    "        self.labels = labels\n",
    "\n",
    "    def __len__(self):\n",
    "        return len(self.grid_tensor)\n",
    "\n",
    "    def __getitem__(self, idx):\n",
    "        return self.grid_tensor[idx], self.labels[idx]\n",
    "\n",
    "# Créer une instance du dataset\n",
    "dataset = CustomDataset(grid_tensor, labels)\n",
    "\n",
    "# Créer un DataLoader\n",
    "data_loader = DataLoader(dataset, batch_size=32, shuffle=True)"
   ],
   "metadata": {
    "collapsed": false,
    "ExecuteTime": {
     "end_time": "2023-12-09T15:26:02.502726900Z",
     "start_time": "2023-12-09T15:26:02.447962600Z"
    }
   },
   "id": "2fe1654ed255811"
  }
 ],
 "metadata": {
  "kernelspec": {
   "display_name": "Python 3",
   "language": "python",
   "name": "python3"
  },
  "language_info": {
   "codemirror_mode": {
    "name": "ipython",
    "version": 2
   },
   "file_extension": ".py",
   "mimetype": "text/x-python",
   "name": "python",
   "nbconvert_exporter": "python",
   "pygments_lexer": "ipython2",
   "version": "2.7.6"
  }
 },
 "nbformat": 4,
 "nbformat_minor": 5
}
