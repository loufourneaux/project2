{
 "cells": [
  {
   "cell_type": "code",
   "execution_count": 1,
   "id": "initial_id",
   "metadata": {
    "collapsed": true,
    "ExecuteTime": {
     "end_time": "2023-11-23T15:31:19.956916200Z",
     "start_time": "2023-11-23T15:31:12.041031400Z"
    }
   },
   "outputs": [],
   "source": [
    "import pandas as pd\n",
    "import torch\n",
    "import torch.nn as nn\n",
    "import matplotlib as plt\n",
    "import torch.optim as optim"
   ]
  },
  {
   "cell_type": "code",
   "execution_count": 2,
   "outputs": [],
   "source": [
    "df = pd.read_parquet(r\"C:\\Users\\adrie\\OneDrive\\Documents\\EPFL\\ML\\Project 2\\All_Relative_Results_Cleaned.parquet\")"
   ],
   "metadata": {
    "collapsed": false,
    "ExecuteTime": {
     "end_time": "2023-11-23T15:32:15.987557200Z",
     "start_time": "2023-11-23T15:32:07.001102500Z"
    }
   },
   "id": "336a31361fbd6a16"
  },
  {
   "cell_type": "code",
   "execution_count": 3,
   "outputs": [
    {
     "data": {
      "text/plain": "  Participant   Exercise      Set       Camera  time(s)  left_ankle_x  \\\n0         P04  Abduction  Correct  Frontal_Top    0.000      0.009328   \n1         P04  Abduction  Correct  Frontal_Top    0.033      0.009353   \n2         P04  Abduction  Correct  Frontal_Top    0.067      0.009722   \n\n   left_ankle_y  left_ankle_z  left_ear_x  left_ear_y  ...  right_pinky_z  \\\n0      0.779305      0.187880    0.020658   -0.693419  ...      -0.633111   \n1      0.779298      0.185050    0.021187   -0.693361  ...      -0.630835   \n2      0.779311      0.179212    0.021351   -0.693388  ...      -0.630923   \n\n   right_shoulder_x  right_shoulder_y  right_shoulder_z  right_thumb_x  \\\n0         -0.054347         -0.511760         -0.185118      -0.068159   \n1         -0.054293         -0.511703         -0.184861      -0.068130   \n2         -0.054289         -0.511696         -0.184849      -0.067241   \n\n   right_thumb_y  right_thumb_z  right_wrist_x  right_wrist_y  right_wrist_z  \n0      -0.602015      -0.598093      -0.066565      -0.600690      -0.592768  \n1      -0.602200      -0.596219      -0.066508      -0.600835      -0.590916  \n2      -0.601852      -0.596222      -0.065676      -0.600436      -0.590910  \n\n[3 rows x 104 columns]",
      "text/html": "<div>\n<style scoped>\n    .dataframe tbody tr th:only-of-type {\n        vertical-align: middle;\n    }\n\n    .dataframe tbody tr th {\n        vertical-align: top;\n    }\n\n    .dataframe thead th {\n        text-align: right;\n    }\n</style>\n<table border=\"1\" class=\"dataframe\">\n  <thead>\n    <tr style=\"text-align: right;\">\n      <th></th>\n      <th>Participant</th>\n      <th>Exercise</th>\n      <th>Set</th>\n      <th>Camera</th>\n      <th>time(s)</th>\n      <th>left_ankle_x</th>\n      <th>left_ankle_y</th>\n      <th>left_ankle_z</th>\n      <th>left_ear_x</th>\n      <th>left_ear_y</th>\n      <th>...</th>\n      <th>right_pinky_z</th>\n      <th>right_shoulder_x</th>\n      <th>right_shoulder_y</th>\n      <th>right_shoulder_z</th>\n      <th>right_thumb_x</th>\n      <th>right_thumb_y</th>\n      <th>right_thumb_z</th>\n      <th>right_wrist_x</th>\n      <th>right_wrist_y</th>\n      <th>right_wrist_z</th>\n    </tr>\n  </thead>\n  <tbody>\n    <tr>\n      <th>0</th>\n      <td>P04</td>\n      <td>Abduction</td>\n      <td>Correct</td>\n      <td>Frontal_Top</td>\n      <td>0.000</td>\n      <td>0.009328</td>\n      <td>0.779305</td>\n      <td>0.187880</td>\n      <td>0.020658</td>\n      <td>-0.693419</td>\n      <td>...</td>\n      <td>-0.633111</td>\n      <td>-0.054347</td>\n      <td>-0.511760</td>\n      <td>-0.185118</td>\n      <td>-0.068159</td>\n      <td>-0.602015</td>\n      <td>-0.598093</td>\n      <td>-0.066565</td>\n      <td>-0.600690</td>\n      <td>-0.592768</td>\n    </tr>\n    <tr>\n      <th>1</th>\n      <td>P04</td>\n      <td>Abduction</td>\n      <td>Correct</td>\n      <td>Frontal_Top</td>\n      <td>0.033</td>\n      <td>0.009353</td>\n      <td>0.779298</td>\n      <td>0.185050</td>\n      <td>0.021187</td>\n      <td>-0.693361</td>\n      <td>...</td>\n      <td>-0.630835</td>\n      <td>-0.054293</td>\n      <td>-0.511703</td>\n      <td>-0.184861</td>\n      <td>-0.068130</td>\n      <td>-0.602200</td>\n      <td>-0.596219</td>\n      <td>-0.066508</td>\n      <td>-0.600835</td>\n      <td>-0.590916</td>\n    </tr>\n    <tr>\n      <th>2</th>\n      <td>P04</td>\n      <td>Abduction</td>\n      <td>Correct</td>\n      <td>Frontal_Top</td>\n      <td>0.067</td>\n      <td>0.009722</td>\n      <td>0.779311</td>\n      <td>0.179212</td>\n      <td>0.021351</td>\n      <td>-0.693388</td>\n      <td>...</td>\n      <td>-0.630923</td>\n      <td>-0.054289</td>\n      <td>-0.511696</td>\n      <td>-0.184849</td>\n      <td>-0.067241</td>\n      <td>-0.601852</td>\n      <td>-0.596222</td>\n      <td>-0.065676</td>\n      <td>-0.600436</td>\n      <td>-0.590910</td>\n    </tr>\n  </tbody>\n</table>\n<p>3 rows × 104 columns</p>\n</div>"
     },
     "execution_count": 3,
     "metadata": {},
     "output_type": "execute_result"
    }
   ],
   "source": [
    "df.head(3)"
   ],
   "metadata": {
    "collapsed": false,
    "ExecuteTime": {
     "end_time": "2023-11-23T15:32:16.156406500Z",
     "start_time": "2023-11-23T15:32:15.999102600Z"
    }
   },
   "id": "2388ae0ba27dd122"
  },
  {
   "cell_type": "code",
   "execution_count": 4,
   "outputs": [
    {
     "data": {
      "text/plain": "array(['Frontal_Top', 'Frontal_Low', 'Side_Top'], dtype=object)"
     },
     "execution_count": 4,
     "metadata": {},
     "output_type": "execute_result"
    }
   ],
   "source": [
    "df['Camera'].unique()"
   ],
   "metadata": {
    "collapsed": false,
    "ExecuteTime": {
     "end_time": "2023-11-23T15:32:16.697928600Z",
     "start_time": "2023-11-23T15:32:16.154395400Z"
    }
   },
   "id": "8c618119343710f0"
  },
  {
   "cell_type": "code",
   "execution_count": 38,
   "outputs": [],
   "source": [
    "df_clean = df.dropna()\n",
    "index = df_clean.columns.get_loc('time(s)')\n",
    "df_right = df_clean.iloc[:, index+1:]\n",
    "X = df_right\n",
    "Y = df_clean['Exercise']"
   ],
   "metadata": {
    "collapsed": false,
    "ExecuteTime": {
     "end_time": "2023-11-23T15:45:25.228454Z",
     "start_time": "2023-11-23T15:45:11.059279500Z"
    }
   },
   "id": "f416e21975401f34"
  },
  {
   "cell_type": "code",
   "execution_count": 35,
   "outputs": [
    {
     "data": {
      "text/plain": "(2183099, 99)"
     },
     "execution_count": 35,
     "metadata": {},
     "output_type": "execute_result"
    }
   ],
   "source": [
    "X.shape"
   ],
   "metadata": {
    "collapsed": false,
    "ExecuteTime": {
     "end_time": "2023-11-23T15:44:04.296316400Z",
     "start_time": "2023-11-23T15:44:04.201434100Z"
    }
   },
   "id": "651a209d5a13624a"
  },
  {
   "cell_type": "code",
   "execution_count": 41,
   "outputs": [
    {
     "data": {
      "text/plain": "(2183099,)"
     },
     "execution_count": 41,
     "metadata": {},
     "output_type": "execute_result"
    }
   ],
   "source": [
    "Y.shape"
   ],
   "metadata": {
    "collapsed": false,
    "ExecuteTime": {
     "end_time": "2023-11-23T15:46:03.758724Z",
     "start_time": "2023-11-23T15:46:03.722866700Z"
    }
   },
   "id": "e68727b549bb44cc"
  },
  {
   "cell_type": "markdown",
   "source": [
    "**Model functions**"
   ],
   "metadata": {
    "collapsed": false
   },
   "id": "f391828d1fd49988"
  },
  {
   "cell_type": "code",
   "execution_count": 6,
   "outputs": [],
   "source": [
    "def get_model_weights(L, K, input_features, device):\n",
    "    weights = []\n",
    "    biases = []\n",
    "    for idx in range(L):\n",
    "        # Pour la première couche, utilisez le nombre de caractéristiques en entrée\n",
    "        K_in = input_features if idx == 0 else K\n",
    "        # Pour la dernière couche, définissez la sortie (par exemple 1 pour la régression)\n",
    "        K_out = 1 if idx == L - 1 else K\n",
    "\n",
    "        weight = torch.randn((K_in, K_out), device=device) * (2 / K_in) ** 0.5\n",
    "        weight.requires_grad = True\n",
    "        weights.append(weight)\n",
    "        biases.append(torch.zeros(K_out, requires_grad=True, device=device))\n",
    "\n",
    "    return weights, biases"
   ],
   "metadata": {
    "collapsed": false,
    "ExecuteTime": {
     "end_time": "2023-11-23T15:32:26.866893Z",
     "start_time": "2023-11-23T15:32:26.830848Z"
    }
   },
   "id": "5a2a4cbdad5cc0de"
  },
  {
   "cell_type": "code",
   "execution_count": 7,
   "outputs": [],
   "source": [
    "def predict(X, weights, biases):\n",
    "    assert len(weights) == len(biases)\n",
    "    # ***************************************************\n",
    "    for layer_idx in range(len(weights)):\n",
    "        X = X @ weights[layer_idx] + biases[layer_idx]\n",
    "        if layer_idx < len(weights) - 1:\n",
    "            X = torch.clamp(X, min=0.0)\n",
    "            # X = X * (X > 0) # Alternative implementation\n",
    "    return X"
   ],
   "metadata": {
    "collapsed": false,
    "ExecuteTime": {
     "end_time": "2023-11-23T15:32:28.865756300Z",
     "start_time": "2023-11-23T15:32:28.852016400Z"
    }
   },
   "id": "e14da1624df56ffc"
  },
  {
   "cell_type": "code",
   "execution_count": 8,
   "outputs": [],
   "source": [
    "def train_network(num_steps, weights, biases, X, Y_true, lr=1e-3, verbose=True):\n",
    "    parameters = weights + biases\n",
    "    optimizer = torch.optim.Adam(weights + biases, lr)\n",
    "    losses = []\n",
    "    for step in range(num_steps):\n",
    "        Y = predict(X, weights, biases)\n",
    "        loss = torch.mean((Y.flatten() - Y_true.flatten()) ** 2)\n",
    "        loss.backward()\n",
    "        # ***************************************************\n",
    "        losses.append(loss.item())\n",
    "        if verbose and step % 100 == 0:\n",
    "            print(f\"step={step} - loss={loss.item():0.4f}\")\n",
    "        optimizer.step()\n",
    "        optimizer.zero_grad()\n",
    "\n",
    "    if verbose:\n",
    "        plt.plot(losses)\n",
    "        plt.xlabel(\"Step\")\n",
    "        plt.ylabel(\"Loss\")\n",
    "        plt.show()"
   ],
   "metadata": {
    "collapsed": false,
    "ExecuteTime": {
     "end_time": "2023-11-23T15:32:30.902794700Z",
     "start_time": "2023-11-23T15:32:30.887676300Z"
    }
   },
   "id": "1ef238cd950923f7"
  },
  {
   "cell_type": "markdown",
   "source": [
    "**Model visualization** "
   ],
   "metadata": {
    "collapsed": false
   },
   "id": "26cb0bdff65b67c4"
  },
  {
   "cell_type": "code",
   "execution_count": 9,
   "outputs": [],
   "source": [
    "def plot_heatmap(X, Y, N_sqrt, mark_level=None):\n",
    "    x1_grid = X[:, 0].reshape((N_sqrt, N_sqrt))\n",
    "    x2_grid = X[:, 1].reshape((N_sqrt, N_sqrt))\n",
    "    plt.pcolormesh(x1_grid, x2_grid, Y.reshape_as(x1_grid), cmap=\"bwr\", vmin=-1, vmax=1)\n",
    "    plt.axis([x1_grid.min(), x1_grid.max(), x2_grid.min(), x2_grid.max()])\n",
    "    plt.colorbar()\n",
    "    if mark_level is None:\n",
    "        mark_level = float(Y.mean())\n",
    "    if isinstance(mark_level, (int, float)):\n",
    "        plt.contour(\n",
    "            x1_grid,\n",
    "            x2_grid,\n",
    "            Y.reshape_as(x1_grid),\n",
    "            levels=[mark_level],\n",
    "            colors=\"k\",\n",
    "            linewidths=1,\n",
    "        )\n",
    "    plt.xlabel(\"$x_1$\")\n",
    "    plt.ylabel(\"$x_2$\")\n",
    "\n",
    "\n",
    "def plot_cross_section(X, Y, value=0, **kwargs):\n",
    "    x2 = X[:, 1]\n",
    "    value_rounded = x2[torch.argmin(torch.abs(x2 - value))]\n",
    "    mask = torch.isclose(X[:, 1], value_rounded)\n",
    "    x1 = X[mask, 0]\n",
    "    y = Y[mask]\n",
    "    plt.plot(x1, y, **kwargs)"
   ],
   "metadata": {
    "collapsed": false,
    "ExecuteTime": {
     "end_time": "2023-11-23T15:32:33.733309400Z",
     "start_time": "2023-11-23T15:32:33.716940300Z"
    }
   },
   "id": "43cd63b12d79cc85"
  },
  {
   "cell_type": "markdown",
   "source": [
    "*First try*"
   ],
   "metadata": {
    "collapsed": false
   },
   "id": "b042bb177b44e82a"
  },
  {
   "cell_type": "code",
   "execution_count": 42,
   "outputs": [],
   "source": [
    "from sklearn.preprocessing import LabelEncoder\n",
    "\n",
    "label_encoder = LabelEncoder()\n",
    "Y_encoded = label_encoder.fit_transform(Y)"
   ],
   "metadata": {
    "collapsed": false,
    "ExecuteTime": {
     "end_time": "2023-11-23T15:46:10.410049300Z",
     "start_time": "2023-11-23T15:46:09.280713Z"
    }
   },
   "id": "4e33bd6d26e17b7e"
  },
  {
   "cell_type": "code",
   "execution_count": 43,
   "outputs": [],
   "source": [
    "X_tensor = torch.tensor(X.values, dtype=torch.float32)\n",
    "y_tensor = torch.tensor(Y_encoded, dtype=torch.float32)"
   ],
   "metadata": {
    "collapsed": false,
    "ExecuteTime": {
     "end_time": "2023-11-23T15:46:15.804347500Z",
     "start_time": "2023-11-23T15:46:12.278115700Z"
    }
   },
   "id": "2d139b4ae14aa46"
  },
  {
   "cell_type": "code",
   "execution_count": 44,
   "outputs": [
    {
     "data": {
      "text/plain": "tensor([[False, False, False,  ..., False, False, False],\n        [False, False, False,  ..., False, False, False],\n        [False, False, False,  ..., False, False, False],\n        ...,\n        [False, False, False,  ..., False, False, False],\n        [False, False, False,  ..., False, False, False],\n        [False, False, False,  ..., False, False, False]])"
     },
     "execution_count": 44,
     "metadata": {},
     "output_type": "execute_result"
    }
   ],
   "source": [
    "torch.isnan(X_tensor)"
   ],
   "metadata": {
    "collapsed": false,
    "ExecuteTime": {
     "end_time": "2023-11-23T15:46:17.644672800Z",
     "start_time": "2023-11-23T15:46:15.799347Z"
    }
   },
   "id": "e376f8d8d7c0a867"
  },
  {
   "cell_type": "code",
   "execution_count": 45,
   "outputs": [],
   "source": [
    "from sklearn.model_selection import train_test_split\n",
    "\n",
    "# Supposons que X_tensor et Y_tensor sont vos données complètes\n",
    "X_train, X_test, Y_train, Y_test = train_test_split(X_tensor, y_tensor, test_size=0.2)  # 20% des données pour le test\n"
   ],
   "metadata": {
    "collapsed": false,
    "ExecuteTime": {
     "end_time": "2023-11-23T15:46:21.881940300Z",
     "start_time": "2023-11-23T15:46:17.711712100Z"
    }
   },
   "id": "4997a9abe032b1a1"
  },
  {
   "cell_type": "code",
   "execution_count": 46,
   "outputs": [],
   "source": [
    "from torch.utils.data import TensorDataset, DataLoader\n",
    "\n",
    "# Créer des jeux de données pour l'entraînement et le test\n",
    "train_dataset = TensorDataset(X_train, Y_train)\n",
    "test_dataset = TensorDataset(X_test, Y_test)\n",
    "\n",
    "# Créer des DataLoader pour l'entraînement et le test\n",
    "train_loader = DataLoader(train_dataset, batch_size=32, shuffle=True)\n",
    "test_loader = DataLoader(test_dataset, batch_size=32, shuffle=False)\n"
   ],
   "metadata": {
    "collapsed": false,
    "ExecuteTime": {
     "end_time": "2023-11-23T15:46:35.392816400Z",
     "start_time": "2023-11-23T15:46:35.290769600Z"
    }
   },
   "id": "e95487da2921cb4f"
  },
  {
   "cell_type": "code",
   "execution_count": 47,
   "outputs": [
    {
     "data": {
      "text/plain": "tensor(False)"
     },
     "execution_count": 47,
     "metadata": {},
     "output_type": "execute_result"
    }
   ],
   "source": [
    "torch.isnan(X_train).any()"
   ],
   "metadata": {
    "collapsed": false,
    "ExecuteTime": {
     "end_time": "2023-11-23T15:46:36.011402300Z",
     "start_time": "2023-11-23T15:46:35.351266200Z"
    }
   },
   "id": "f1c1faa710e2d2b3"
  },
  {
   "cell_type": "code",
   "execution_count": 48,
   "outputs": [
    {
     "name": "stdout",
     "output_type": "stream",
     "text": [
      "step=0 - loss=12.8862\n",
      "step=100 - loss=1.0795\n"
     ]
    },
    {
     "ename": "KeyboardInterrupt",
     "evalue": "",
     "output_type": "error",
     "traceback": [
      "\u001B[1;31m---------------------------------------------------------------------------\u001B[0m",
      "\u001B[1;31mKeyboardInterrupt\u001B[0m                         Traceback (most recent call last)",
      "Cell \u001B[1;32mIn[48], line 23\u001B[0m\n\u001B[0;32m     18\u001B[0m \u001B[38;5;28;01massert\u001B[39;00m \u001B[38;5;28mall\u001B[39m(\n\u001B[0;32m     19\u001B[0m     [p\u001B[38;5;241m.\u001B[39mis_leaf \u001B[38;5;28;01mfor\u001B[39;00m p \u001B[38;5;129;01min\u001B[39;00m weights \u001B[38;5;241m+\u001B[39m biases]\n\u001B[0;32m     20\u001B[0m ), \u001B[38;5;124m\"\u001B[39m\u001B[38;5;124mAll model parameters must be leaf tensors\u001B[39m\u001B[38;5;124m\"\u001B[39m\n\u001B[0;32m     22\u001B[0m \u001B[38;5;66;03m# Train the model\u001B[39;00m\n\u001B[1;32m---> 23\u001B[0m train_network(steps, weights, biases, X_train, Y_train, lr)\n\u001B[0;32m     25\u001B[0m \u001B[38;5;66;03m# Compute the final model predictions\u001B[39;00m\n\u001B[0;32m     26\u001B[0m \u001B[38;5;66;03m# Typically this would be on some sort of validation or test data\u001B[39;00m\n\u001B[0;32m     27\u001B[0m \u001B[38;5;28;01mwith\u001B[39;00m torch\u001B[38;5;241m.\u001B[39mno_grad():\n",
      "Cell \u001B[1;32mIn[8], line 8\u001B[0m, in \u001B[0;36mtrain_network\u001B[1;34m(num_steps, weights, biases, X, Y_true, lr, verbose)\u001B[0m\n\u001B[0;32m      6\u001B[0m Y \u001B[38;5;241m=\u001B[39m predict(X, weights, biases)\n\u001B[0;32m      7\u001B[0m loss \u001B[38;5;241m=\u001B[39m torch\u001B[38;5;241m.\u001B[39mmean((Y\u001B[38;5;241m.\u001B[39mflatten() \u001B[38;5;241m-\u001B[39m Y_true\u001B[38;5;241m.\u001B[39mflatten()) \u001B[38;5;241m*\u001B[39m\u001B[38;5;241m*\u001B[39m \u001B[38;5;241m2\u001B[39m)\n\u001B[1;32m----> 8\u001B[0m loss\u001B[38;5;241m.\u001B[39mbackward()\n\u001B[0;32m      9\u001B[0m \u001B[38;5;66;03m# ***************************************************\u001B[39;00m\n\u001B[0;32m     10\u001B[0m losses\u001B[38;5;241m.\u001B[39mappend(loss\u001B[38;5;241m.\u001B[39mitem())\n",
      "File \u001B[1;32m~\\anaconda3\\envs\\ADA\\Lib\\site-packages\\torch\\_tensor.py:492\u001B[0m, in \u001B[0;36mTensor.backward\u001B[1;34m(self, gradient, retain_graph, create_graph, inputs)\u001B[0m\n\u001B[0;32m    482\u001B[0m \u001B[38;5;28;01mif\u001B[39;00m has_torch_function_unary(\u001B[38;5;28mself\u001B[39m):\n\u001B[0;32m    483\u001B[0m     \u001B[38;5;28;01mreturn\u001B[39;00m handle_torch_function(\n\u001B[0;32m    484\u001B[0m         Tensor\u001B[38;5;241m.\u001B[39mbackward,\n\u001B[0;32m    485\u001B[0m         (\u001B[38;5;28mself\u001B[39m,),\n\u001B[1;32m   (...)\u001B[0m\n\u001B[0;32m    490\u001B[0m         inputs\u001B[38;5;241m=\u001B[39minputs,\n\u001B[0;32m    491\u001B[0m     )\n\u001B[1;32m--> 492\u001B[0m torch\u001B[38;5;241m.\u001B[39mautograd\u001B[38;5;241m.\u001B[39mbackward(\n\u001B[0;32m    493\u001B[0m     \u001B[38;5;28mself\u001B[39m, gradient, retain_graph, create_graph, inputs\u001B[38;5;241m=\u001B[39minputs\n\u001B[0;32m    494\u001B[0m )\n",
      "File \u001B[1;32m~\\anaconda3\\envs\\ADA\\Lib\\site-packages\\torch\\autograd\\__init__.py:251\u001B[0m, in \u001B[0;36mbackward\u001B[1;34m(tensors, grad_tensors, retain_graph, create_graph, grad_variables, inputs)\u001B[0m\n\u001B[0;32m    246\u001B[0m     retain_graph \u001B[38;5;241m=\u001B[39m create_graph\n\u001B[0;32m    248\u001B[0m \u001B[38;5;66;03m# The reason we repeat the same comment below is that\u001B[39;00m\n\u001B[0;32m    249\u001B[0m \u001B[38;5;66;03m# some Python versions print out the first line of a multi-line function\u001B[39;00m\n\u001B[0;32m    250\u001B[0m \u001B[38;5;66;03m# calls in the traceback and some print out the last line\u001B[39;00m\n\u001B[1;32m--> 251\u001B[0m Variable\u001B[38;5;241m.\u001B[39m_execution_engine\u001B[38;5;241m.\u001B[39mrun_backward(  \u001B[38;5;66;03m# Calls into the C++ engine to run the backward pass\u001B[39;00m\n\u001B[0;32m    252\u001B[0m     tensors,\n\u001B[0;32m    253\u001B[0m     grad_tensors_,\n\u001B[0;32m    254\u001B[0m     retain_graph,\n\u001B[0;32m    255\u001B[0m     create_graph,\n\u001B[0;32m    256\u001B[0m     inputs,\n\u001B[0;32m    257\u001B[0m     allow_unreachable\u001B[38;5;241m=\u001B[39m\u001B[38;5;28;01mTrue\u001B[39;00m,\n\u001B[0;32m    258\u001B[0m     accumulate_grad\u001B[38;5;241m=\u001B[39m\u001B[38;5;28;01mTrue\u001B[39;00m,\n\u001B[0;32m    259\u001B[0m )\n",
      "\u001B[1;31mKeyboardInterrupt\u001B[0m: "
     ]
    }
   ],
   "source": [
    "N_sqrt = 100\n",
    "D = 4\n",
    "H = 32\n",
    "nbr_input_features = 99\n",
    "# Alternative might require more steps, a wider network or other learning rates\n",
    "\n",
    "# You can set this to 'cuda' if you have a GPU available.\n",
    "# In this case the dataset and model is so small that we only expect a minimal speed difference.\n",
    "device = torch.device(\"cpu\")\n",
    "steps = 1000\n",
    "lr = 1e-3\n",
    "\n",
    "# Create model\n",
    "weights, biases = get_model_weights(D, H,nbr_input_features, device)\n",
    "assert all(\n",
    "    [p.requires_grad for p in weights + biases]\n",
    "), \"All model parameters should have requires_grad=True\"\n",
    "assert all(\n",
    "    [p.is_leaf for p in weights + biases]\n",
    "), \"All model parameters must be leaf tensors\"\n",
    "\n",
    "# Train the model\n",
    "train_network(steps, weights, biases, X_train, Y_train, lr)\n",
    "\n",
    "# Compute the final model predictions\n",
    "# Typically this would be on some sort of validation or test data\n",
    "with torch.no_grad():\n",
    "    Y_model = predict(X_train, weights, biases)"
   ],
   "metadata": {
    "collapsed": false,
    "ExecuteTime": {
     "end_time": "2023-11-23T15:57:21.669646700Z",
     "start_time": "2023-11-23T15:46:39.524171Z"
    }
   },
   "id": "532e31a2cbac5e3b"
  },
  {
   "cell_type": "markdown",
   "source": [
    "**Model prep**"
   ],
   "metadata": {
    "collapsed": false
   },
   "id": "521163263aff1ba1"
  },
  {
   "cell_type": "code",
   "execution_count": 70,
   "outputs": [
    {
     "data": {
      "text/plain": "array([0, 0, 0, ..., 6, 6, 6])"
     },
     "execution_count": 70,
     "metadata": {},
     "output_type": "execute_result"
    }
   ],
   "source": [
    "Y_encoded   "
   ],
   "metadata": {
    "collapsed": false,
    "ExecuteTime": {
     "end_time": "2023-11-23T14:28:22.284928200Z",
     "start_time": "2023-11-23T14:28:22.273907400Z"
    }
   },
   "id": "ff95e4bce034d5a3"
  },
  {
   "cell_type": "code",
   "execution_count": 64,
   "outputs": [
    {
     "data": {
      "text/plain": "tensor([[ 9.3330e+00, -6.6489e-01,  2.1861e-01,  ...,  9.4369e-01,\n          1.2564e-01, -1.9798e-01],\n        [ 1.9667e+01,  3.5258e-01,  4.8346e-02,  ..., -1.5303e-02,\n          1.0006e-01, -3.0847e-01],\n        [ 3.0200e+01,  2.0821e-01,  1.5905e-01,  ..., -2.5079e-01,\n          8.9252e-02, -7.0971e-01],\n        ...,\n        [ 1.2900e+01, -5.5064e-03,  7.7270e-01,  ..., -1.7922e-01,\n          1.1402e-02, -2.8603e-01],\n        [ 3.1367e+01, -7.2049e-01,  1.3203e-01,  ...,  9.9081e-01,\n          3.4162e-02, -1.7648e-01],\n        [ 2.3000e+00,  1.5152e-01,  4.6636e-01,  ..., -2.8823e-01,\n          8.4477e-02, -6.6218e-02]])"
     },
     "execution_count": 64,
     "metadata": {},
     "output_type": "execute_result"
    }
   ],
   "source": [
    "X_train"
   ],
   "metadata": {
    "collapsed": false,
    "ExecuteTime": {
     "end_time": "2023-11-23T13:37:58.470564800Z",
     "start_time": "2023-11-23T13:37:58.240452200Z"
    }
   },
   "id": "1470122e3846d6db"
  },
  {
   "cell_type": "code",
   "execution_count": 30,
   "outputs": [],
   "source": [
    "\n",
    "class NeuralNetwork(nn.Module):\n",
    "    def __init__(self):\n",
    "        super(NeuralNetwork, self).__init__()\n",
    "        self.layer1 = nn.Linear(X.shape[1], 64)  # X.shape[1] est le nombre de caractéristiques\n",
    "        self.relu = nn.ReLU()\n",
    "        self.layer2 = nn.Linear(64, 7)  # Supposons 7 classes pour Y\n",
    "        self.softmax = nn.Softmax(dim=1)\n",
    "\n",
    "    def forward(self, x):\n",
    "        x = self.layer1(x)\n",
    "        x = self.relu(x)\n",
    "        x = self.layer2(x)\n",
    "        x = self.softmax(x)\n",
    "        return x\n",
    "\n",
    "model = NeuralNetwork()\n"
   ],
   "metadata": {
    "collapsed": false,
    "ExecuteTime": {
     "start_time": "2023-11-22T16:19:36.149110900Z"
    }
   },
   "id": "63c618efa026e16b"
  },
  {
   "cell_type": "code",
   "execution_count": 31,
   "outputs": [],
   "source": [
    "criterion = nn.CrossEntropyLoss()\n",
    "optimizer = torch.optim.Adam(model.parameters(), lr=0.001)\n"
   ],
   "metadata": {
    "collapsed": false,
    "ExecuteTime": {
     "start_time": "2023-11-22T16:19:46.741500600Z"
    }
   },
   "id": "f8c69125cbbb0afe"
  },
  {
   "cell_type": "code",
   "execution_count": 67,
   "outputs": [
    {
     "data": {
      "text/plain": "<torch.utils.data.dataloader.DataLoader at 0x1a16df5f3d0>"
     },
     "execution_count": 67,
     "metadata": {},
     "output_type": "execute_result"
    }
   ],
   "source": [
    "train_loader"
   ],
   "metadata": {
    "collapsed": false,
    "ExecuteTime": {
     "end_time": "2023-11-23T13:40:07.578751200Z",
     "start_time": "2023-11-23T13:40:07.536018700Z"
    }
   },
   "id": "171f0c13ffecaa55"
  },
  {
   "cell_type": "code",
   "execution_count": 66,
   "outputs": [
    {
     "ename": "RuntimeError",
     "evalue": "mat1 and mat2 must have the same dtype, but got Long and Float",
     "output_type": "error",
     "traceback": [
      "\u001B[1;31m---------------------------------------------------------------------------\u001B[0m",
      "\u001B[1;31mRuntimeError\u001B[0m                              Traceback (most recent call last)",
      "Cell \u001B[1;32mIn[66], line 14\u001B[0m\n\u001B[0;32m     12\u001B[0m \u001B[38;5;28;01mfor\u001B[39;00m epoch \u001B[38;5;129;01min\u001B[39;00m \u001B[38;5;28mrange\u001B[39m(num_epochs):\n\u001B[0;32m     13\u001B[0m     \u001B[38;5;28;01mfor\u001B[39;00m inputs, labels \u001B[38;5;129;01min\u001B[39;00m train_loader:\n\u001B[1;32m---> 14\u001B[0m         outputs \u001B[38;5;241m=\u001B[39m model(inputs)\n\u001B[0;32m     15\u001B[0m         loss \u001B[38;5;241m=\u001B[39m criterion(outputs, labels)\n\u001B[0;32m     17\u001B[0m         optimizer\u001B[38;5;241m.\u001B[39mzero_grad()\n",
      "File \u001B[1;32m~\\anaconda3\\envs\\ADA\\Lib\\site-packages\\torch\\nn\\modules\\module.py:1518\u001B[0m, in \u001B[0;36mModule._wrapped_call_impl\u001B[1;34m(self, *args, **kwargs)\u001B[0m\n\u001B[0;32m   1516\u001B[0m     \u001B[38;5;28;01mreturn\u001B[39;00m \u001B[38;5;28mself\u001B[39m\u001B[38;5;241m.\u001B[39m_compiled_call_impl(\u001B[38;5;241m*\u001B[39margs, \u001B[38;5;241m*\u001B[39m\u001B[38;5;241m*\u001B[39mkwargs)  \u001B[38;5;66;03m# type: ignore[misc]\u001B[39;00m\n\u001B[0;32m   1517\u001B[0m \u001B[38;5;28;01melse\u001B[39;00m:\n\u001B[1;32m-> 1518\u001B[0m     \u001B[38;5;28;01mreturn\u001B[39;00m \u001B[38;5;28mself\u001B[39m\u001B[38;5;241m.\u001B[39m_call_impl(\u001B[38;5;241m*\u001B[39margs, \u001B[38;5;241m*\u001B[39m\u001B[38;5;241m*\u001B[39mkwargs)\n",
      "File \u001B[1;32m~\\anaconda3\\envs\\ADA\\Lib\\site-packages\\torch\\nn\\modules\\module.py:1527\u001B[0m, in \u001B[0;36mModule._call_impl\u001B[1;34m(self, *args, **kwargs)\u001B[0m\n\u001B[0;32m   1522\u001B[0m \u001B[38;5;66;03m# If we don't have any hooks, we want to skip the rest of the logic in\u001B[39;00m\n\u001B[0;32m   1523\u001B[0m \u001B[38;5;66;03m# this function, and just call forward.\u001B[39;00m\n\u001B[0;32m   1524\u001B[0m \u001B[38;5;28;01mif\u001B[39;00m \u001B[38;5;129;01mnot\u001B[39;00m (\u001B[38;5;28mself\u001B[39m\u001B[38;5;241m.\u001B[39m_backward_hooks \u001B[38;5;129;01mor\u001B[39;00m \u001B[38;5;28mself\u001B[39m\u001B[38;5;241m.\u001B[39m_backward_pre_hooks \u001B[38;5;129;01mor\u001B[39;00m \u001B[38;5;28mself\u001B[39m\u001B[38;5;241m.\u001B[39m_forward_hooks \u001B[38;5;129;01mor\u001B[39;00m \u001B[38;5;28mself\u001B[39m\u001B[38;5;241m.\u001B[39m_forward_pre_hooks\n\u001B[0;32m   1525\u001B[0m         \u001B[38;5;129;01mor\u001B[39;00m _global_backward_pre_hooks \u001B[38;5;129;01mor\u001B[39;00m _global_backward_hooks\n\u001B[0;32m   1526\u001B[0m         \u001B[38;5;129;01mor\u001B[39;00m _global_forward_hooks \u001B[38;5;129;01mor\u001B[39;00m _global_forward_pre_hooks):\n\u001B[1;32m-> 1527\u001B[0m     \u001B[38;5;28;01mreturn\u001B[39;00m forward_call(\u001B[38;5;241m*\u001B[39margs, \u001B[38;5;241m*\u001B[39m\u001B[38;5;241m*\u001B[39mkwargs)\n\u001B[0;32m   1529\u001B[0m \u001B[38;5;28;01mtry\u001B[39;00m:\n\u001B[0;32m   1530\u001B[0m     result \u001B[38;5;241m=\u001B[39m \u001B[38;5;28;01mNone\u001B[39;00m\n",
      "Cell \u001B[1;32mIn[30], line 10\u001B[0m, in \u001B[0;36mNeuralNetwork.forward\u001B[1;34m(self, x)\u001B[0m\n\u001B[0;32m      9\u001B[0m \u001B[38;5;28;01mdef\u001B[39;00m \u001B[38;5;21mforward\u001B[39m(\u001B[38;5;28mself\u001B[39m, x):\n\u001B[1;32m---> 10\u001B[0m     x \u001B[38;5;241m=\u001B[39m \u001B[38;5;28mself\u001B[39m\u001B[38;5;241m.\u001B[39mlayer1(x)\n\u001B[0;32m     11\u001B[0m     x \u001B[38;5;241m=\u001B[39m \u001B[38;5;28mself\u001B[39m\u001B[38;5;241m.\u001B[39mrelu(x)\n\u001B[0;32m     12\u001B[0m     x \u001B[38;5;241m=\u001B[39m \u001B[38;5;28mself\u001B[39m\u001B[38;5;241m.\u001B[39mlayer2(x)\n",
      "File \u001B[1;32m~\\anaconda3\\envs\\ADA\\Lib\\site-packages\\torch\\nn\\modules\\module.py:1518\u001B[0m, in \u001B[0;36mModule._wrapped_call_impl\u001B[1;34m(self, *args, **kwargs)\u001B[0m\n\u001B[0;32m   1516\u001B[0m     \u001B[38;5;28;01mreturn\u001B[39;00m \u001B[38;5;28mself\u001B[39m\u001B[38;5;241m.\u001B[39m_compiled_call_impl(\u001B[38;5;241m*\u001B[39margs, \u001B[38;5;241m*\u001B[39m\u001B[38;5;241m*\u001B[39mkwargs)  \u001B[38;5;66;03m# type: ignore[misc]\u001B[39;00m\n\u001B[0;32m   1517\u001B[0m \u001B[38;5;28;01melse\u001B[39;00m:\n\u001B[1;32m-> 1518\u001B[0m     \u001B[38;5;28;01mreturn\u001B[39;00m \u001B[38;5;28mself\u001B[39m\u001B[38;5;241m.\u001B[39m_call_impl(\u001B[38;5;241m*\u001B[39margs, \u001B[38;5;241m*\u001B[39m\u001B[38;5;241m*\u001B[39mkwargs)\n",
      "File \u001B[1;32m~\\anaconda3\\envs\\ADA\\Lib\\site-packages\\torch\\nn\\modules\\module.py:1527\u001B[0m, in \u001B[0;36mModule._call_impl\u001B[1;34m(self, *args, **kwargs)\u001B[0m\n\u001B[0;32m   1522\u001B[0m \u001B[38;5;66;03m# If we don't have any hooks, we want to skip the rest of the logic in\u001B[39;00m\n\u001B[0;32m   1523\u001B[0m \u001B[38;5;66;03m# this function, and just call forward.\u001B[39;00m\n\u001B[0;32m   1524\u001B[0m \u001B[38;5;28;01mif\u001B[39;00m \u001B[38;5;129;01mnot\u001B[39;00m (\u001B[38;5;28mself\u001B[39m\u001B[38;5;241m.\u001B[39m_backward_hooks \u001B[38;5;129;01mor\u001B[39;00m \u001B[38;5;28mself\u001B[39m\u001B[38;5;241m.\u001B[39m_backward_pre_hooks \u001B[38;5;129;01mor\u001B[39;00m \u001B[38;5;28mself\u001B[39m\u001B[38;5;241m.\u001B[39m_forward_hooks \u001B[38;5;129;01mor\u001B[39;00m \u001B[38;5;28mself\u001B[39m\u001B[38;5;241m.\u001B[39m_forward_pre_hooks\n\u001B[0;32m   1525\u001B[0m         \u001B[38;5;129;01mor\u001B[39;00m _global_backward_pre_hooks \u001B[38;5;129;01mor\u001B[39;00m _global_backward_hooks\n\u001B[0;32m   1526\u001B[0m         \u001B[38;5;129;01mor\u001B[39;00m _global_forward_hooks \u001B[38;5;129;01mor\u001B[39;00m _global_forward_pre_hooks):\n\u001B[1;32m-> 1527\u001B[0m     \u001B[38;5;28;01mreturn\u001B[39;00m forward_call(\u001B[38;5;241m*\u001B[39margs, \u001B[38;5;241m*\u001B[39m\u001B[38;5;241m*\u001B[39mkwargs)\n\u001B[0;32m   1529\u001B[0m \u001B[38;5;28;01mtry\u001B[39;00m:\n\u001B[0;32m   1530\u001B[0m     result \u001B[38;5;241m=\u001B[39m \u001B[38;5;28;01mNone\u001B[39;00m\n",
      "File \u001B[1;32m~\\anaconda3\\envs\\ADA\\Lib\\site-packages\\torch\\nn\\modules\\linear.py:114\u001B[0m, in \u001B[0;36mLinear.forward\u001B[1;34m(self, input)\u001B[0m\n\u001B[0;32m    113\u001B[0m \u001B[38;5;28;01mdef\u001B[39;00m \u001B[38;5;21mforward\u001B[39m(\u001B[38;5;28mself\u001B[39m, \u001B[38;5;28minput\u001B[39m: Tensor) \u001B[38;5;241m-\u001B[39m\u001B[38;5;241m>\u001B[39m Tensor:\n\u001B[1;32m--> 114\u001B[0m     \u001B[38;5;28;01mreturn\u001B[39;00m F\u001B[38;5;241m.\u001B[39mlinear(\u001B[38;5;28minput\u001B[39m, \u001B[38;5;28mself\u001B[39m\u001B[38;5;241m.\u001B[39mweight, \u001B[38;5;28mself\u001B[39m\u001B[38;5;241m.\u001B[39mbias)\n",
      "\u001B[1;31mRuntimeError\u001B[0m: mat1 and mat2 must have the same dtype, but got Long and Float"
     ]
    }
   ],
   "source": [
    "# Assurez-vous que Y_tensor est de type long\n",
    "num_epochs = 5\n",
    "Y_train = Y_train.long()\n",
    "X_train = X_train.long()\n",
    "# Puis créez vos jeux de données et vos DataLoaders\n",
    "train_dataset = TensorDataset(X_train, Y_train)\n",
    "train_loader = DataLoader(train_dataset, batch_size=32, shuffle=True)\n",
    "\n",
    "# ... (reste de votre code pour la définition du modèle, etc.)\n",
    "\n",
    "# Entraînement\n",
    "for epoch in range(num_epochs):\n",
    "    for inputs, labels in train_loader:\n",
    "        outputs = model(inputs)\n",
    "        loss = criterion(outputs, labels)\n",
    "\n",
    "        optimizer.zero_grad()\n",
    "        loss.backward()\n",
    "        optimizer.step()\n"
   ],
   "metadata": {
    "collapsed": false,
    "ExecuteTime": {
     "end_time": "2023-11-23T13:39:40.321716400Z",
     "start_time": "2023-11-23T13:39:30.618170200Z"
    }
   },
   "id": "9a17286cc08fb91f"
  },
  {
   "cell_type": "code",
   "execution_count": null,
   "outputs": [],
   "source": [
    "# Assurez-vous de désactiver le calcul du gradient pour l'évaluation\n",
    "with torch.no_grad():\n",
    "    correct = 0\n",
    "    total = 0\n",
    "    for inputs, labels in test_loader:  # Supposant que vous avez un test_loader\n",
    "        outputs = model(inputs)\n",
    "        _, predicted = torch.max(outputs.data, 1)\n",
    "        total += labels.size(0)\n",
    "        correct += (predicted == labels).sum().item()\n",
    "\n",
    "    print(f'Accuracy: {100 * correct / total}%')\n"
   ],
   "metadata": {
    "collapsed": false
   },
   "id": "890acdcf43595a59"
  }
 ],
 "metadata": {
  "kernelspec": {
   "display_name": "Python 3",
   "language": "python",
   "name": "python3"
  },
  "language_info": {
   "codemirror_mode": {
    "name": "ipython",
    "version": 2
   },
   "file_extension": ".py",
   "mimetype": "text/x-python",
   "name": "python",
   "nbconvert_exporter": "python",
   "pygments_lexer": "ipython2",
   "version": "2.7.6"
  }
 },
 "nbformat": 4,
 "nbformat_minor": 5
}
