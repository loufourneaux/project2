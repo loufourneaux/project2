{
 "cells": [
  {
   "cell_type": "code",
   "execution_count": 1,
   "outputs": [],
   "source": [
    "import numpy as np\n",
    "import pandas as pd\n",
    "import torch\n",
    "import torch.nn as nn\n",
    "import matplotlib.pyplot as plt\n",
    "import torch.optim as optim\n",
    "from torch.utils.data import DataLoader, TensorDataset\n",
    "import torch.nn.functional as F\n",
    "from sklearn.model_selection import train_test_split\n",
    "from sklearn.preprocessing import StandardScaler\n",
    "from sklearn.preprocessing import LabelEncoder\n",
    "from sklearn.metrics import confusion_matrix\n",
    "from sklearn.metrics import classification_report\n",
    "import seaborn as sns"
   ],
   "metadata": {
    "collapsed": false,
    "ExecuteTime": {
     "end_time": "2023-12-09T15:47:57.588151100Z",
     "start_time": "2023-12-09T15:47:49.641978500Z"
    }
   },
   "id": "16d118a6adf91666"
  },
  {
   "cell_type": "markdown",
   "source": [
    "Dataset creation"
   ],
   "metadata": {
    "collapsed": false
   },
   "id": "1d0fefbba1ff6c5e"
  },
  {
   "cell_type": "code",
   "execution_count": 2,
   "outputs": [],
   "source": [
    "df = pd.read_parquet(r\"C:\\Users\\adrie\\OneDrive\\Documents\\EPFL\\ML\\Project 2\\All_Relative_Results_Cleaned.parquet\")"
   ],
   "metadata": {
    "collapsed": false,
    "ExecuteTime": {
     "end_time": "2023-12-09T15:48:08.288468500Z",
     "start_time": "2023-12-09T15:47:57.595153600Z"
    }
   },
   "id": "c71089b97d4ad533"
  },
  {
   "cell_type": "code",
   "execution_count": 3,
   "outputs": [
    {
     "data": {
      "text/plain": "  Participant   Exercise      Set       Camera  time(s)  left_ankle_x  \\\n0         P04  Abduction  Correct  Frontal_Top    0.000      0.009328   \n1         P04  Abduction  Correct  Frontal_Top    0.033      0.009353   \n2         P04  Abduction  Correct  Frontal_Top    0.067      0.009722   \n\n   left_ankle_y  left_ankle_z  left_ear_x  left_ear_y  ...  right_pinky_z  \\\n0      0.779305      0.187880    0.020658   -0.693419  ...      -0.633111   \n1      0.779298      0.185050    0.021187   -0.693361  ...      -0.630835   \n2      0.779311      0.179212    0.021351   -0.693388  ...      -0.630923   \n\n   right_shoulder_x  right_shoulder_y  right_shoulder_z  right_thumb_x  \\\n0         -0.054347         -0.511760         -0.185118      -0.068159   \n1         -0.054293         -0.511703         -0.184861      -0.068130   \n2         -0.054289         -0.511696         -0.184849      -0.067241   \n\n   right_thumb_y  right_thumb_z  right_wrist_x  right_wrist_y  right_wrist_z  \n0      -0.602015      -0.598093      -0.066565      -0.600690      -0.592768  \n1      -0.602200      -0.596219      -0.066508      -0.600835      -0.590916  \n2      -0.601852      -0.596222      -0.065676      -0.600436      -0.590910  \n\n[3 rows x 104 columns]",
      "text/html": "<div>\n<style scoped>\n    .dataframe tbody tr th:only-of-type {\n        vertical-align: middle;\n    }\n\n    .dataframe tbody tr th {\n        vertical-align: top;\n    }\n\n    .dataframe thead th {\n        text-align: right;\n    }\n</style>\n<table border=\"1\" class=\"dataframe\">\n  <thead>\n    <tr style=\"text-align: right;\">\n      <th></th>\n      <th>Participant</th>\n      <th>Exercise</th>\n      <th>Set</th>\n      <th>Camera</th>\n      <th>time(s)</th>\n      <th>left_ankle_x</th>\n      <th>left_ankle_y</th>\n      <th>left_ankle_z</th>\n      <th>left_ear_x</th>\n      <th>left_ear_y</th>\n      <th>...</th>\n      <th>right_pinky_z</th>\n      <th>right_shoulder_x</th>\n      <th>right_shoulder_y</th>\n      <th>right_shoulder_z</th>\n      <th>right_thumb_x</th>\n      <th>right_thumb_y</th>\n      <th>right_thumb_z</th>\n      <th>right_wrist_x</th>\n      <th>right_wrist_y</th>\n      <th>right_wrist_z</th>\n    </tr>\n  </thead>\n  <tbody>\n    <tr>\n      <th>0</th>\n      <td>P04</td>\n      <td>Abduction</td>\n      <td>Correct</td>\n      <td>Frontal_Top</td>\n      <td>0.000</td>\n      <td>0.009328</td>\n      <td>0.779305</td>\n      <td>0.187880</td>\n      <td>0.020658</td>\n      <td>-0.693419</td>\n      <td>...</td>\n      <td>-0.633111</td>\n      <td>-0.054347</td>\n      <td>-0.511760</td>\n      <td>-0.185118</td>\n      <td>-0.068159</td>\n      <td>-0.602015</td>\n      <td>-0.598093</td>\n      <td>-0.066565</td>\n      <td>-0.600690</td>\n      <td>-0.592768</td>\n    </tr>\n    <tr>\n      <th>1</th>\n      <td>P04</td>\n      <td>Abduction</td>\n      <td>Correct</td>\n      <td>Frontal_Top</td>\n      <td>0.033</td>\n      <td>0.009353</td>\n      <td>0.779298</td>\n      <td>0.185050</td>\n      <td>0.021187</td>\n      <td>-0.693361</td>\n      <td>...</td>\n      <td>-0.630835</td>\n      <td>-0.054293</td>\n      <td>-0.511703</td>\n      <td>-0.184861</td>\n      <td>-0.068130</td>\n      <td>-0.602200</td>\n      <td>-0.596219</td>\n      <td>-0.066508</td>\n      <td>-0.600835</td>\n      <td>-0.590916</td>\n    </tr>\n    <tr>\n      <th>2</th>\n      <td>P04</td>\n      <td>Abduction</td>\n      <td>Correct</td>\n      <td>Frontal_Top</td>\n      <td>0.067</td>\n      <td>0.009722</td>\n      <td>0.779311</td>\n      <td>0.179212</td>\n      <td>0.021351</td>\n      <td>-0.693388</td>\n      <td>...</td>\n      <td>-0.630923</td>\n      <td>-0.054289</td>\n      <td>-0.511696</td>\n      <td>-0.184849</td>\n      <td>-0.067241</td>\n      <td>-0.601852</td>\n      <td>-0.596222</td>\n      <td>-0.065676</td>\n      <td>-0.600436</td>\n      <td>-0.590910</td>\n    </tr>\n  </tbody>\n</table>\n<p>3 rows × 104 columns</p>\n</div>"
     },
     "execution_count": 3,
     "metadata": {},
     "output_type": "execute_result"
    }
   ],
   "source": [
    "df.head(3)"
   ],
   "metadata": {
    "collapsed": false,
    "ExecuteTime": {
     "end_time": "2023-12-04T12:25:32.827127200Z",
     "start_time": "2023-12-04T12:25:32.679942500Z"
    }
   },
   "id": "cc19a36950a0cffd"
  },
  {
   "cell_type": "code",
   "execution_count": 4,
   "outputs": [
    {
     "data": {
      "text/plain": "array(['Frontal_Top', 'Frontal_Low', 'Side_Top'], dtype=object)"
     },
     "execution_count": 4,
     "metadata": {},
     "output_type": "execute_result"
    }
   ],
   "source": [
    "df['Camera'].unique()"
   ],
   "metadata": {
    "collapsed": false,
    "ExecuteTime": {
     "end_time": "2023-12-04T12:25:33.396732600Z",
     "start_time": "2023-12-04T12:25:32.832136700Z"
    }
   },
   "id": "bc194c5a869979f7"
  },
  {
   "cell_type": "code",
   "execution_count": 3,
   "outputs": [],
   "source": [
    "df_clean = df.dropna()\n",
    "index = df_clean.columns.get_loc('time(s)')\n",
    "df_right = df_clean.iloc[:, index+1:]\n",
    "X = df_right\n",
    "Y = df_clean['Exercise']"
   ],
   "metadata": {
    "collapsed": false,
    "ExecuteTime": {
     "end_time": "2023-12-09T15:48:16.092140Z",
     "start_time": "2023-12-09T15:48:08.324426400Z"
    }
   },
   "id": "9cc34d0d163bc01e"
  },
  {
   "cell_type": "code",
   "execution_count": 4,
   "outputs": [],
   "source": [
    "label_encoder = LabelEncoder()\n",
    "Y_encoded = label_encoder.fit_transform(Y)"
   ],
   "metadata": {
    "collapsed": false,
    "ExecuteTime": {
     "end_time": "2023-12-09T15:48:17.463713700Z",
     "start_time": "2023-12-09T15:48:15.974610400Z"
    }
   },
   "id": "796fd63987459bb3"
  },
  {
   "cell_type": "code",
   "execution_count": 5,
   "outputs": [],
   "source": [
    "X_tensor = torch.tensor(X.values, dtype=torch.float32)\n",
    "y_tensor = torch.tensor(Y_encoded, dtype=torch.long)"
   ],
   "metadata": {
    "collapsed": false,
    "ExecuteTime": {
     "end_time": "2023-12-09T15:48:35.037343900Z",
     "start_time": "2023-12-09T15:48:17.446714500Z"
    }
   },
   "id": "73a2fb70bad31199"
  },
  {
   "cell_type": "code",
   "execution_count": 6,
   "outputs": [],
   "source": [
    "X_train, X_test, Y_train, Y_test = train_test_split(X_tensor, y_tensor, test_size=0.2)\n",
    "\n",
    "train_dataset = TensorDataset(X_train,Y_train)\n",
    "test_dataset = TensorDataset(X_test,Y_test)\n",
    "trainLoader = DataLoader(train_dataset, batch_size=32, shuffle=True)\n",
    "testLoader = DataLoader(test_dataset, batch_size=32 , shuffle=True)"
   ],
   "metadata": {
    "collapsed": false,
    "ExecuteTime": {
     "end_time": "2023-12-09T08:13:51.811567600Z",
     "start_time": "2023-12-09T08:13:44.761123800Z"
    }
   },
   "id": "1b4d7ab682db190"
  },
  {
   "cell_type": "markdown",
   "source": [
    "**Neural network architecture**"
   ],
   "metadata": {
    "collapsed": false
   },
   "id": "c09425cda2803e81"
  },
  {
   "cell_type": "code",
   "execution_count": 25,
   "outputs": [],
   "source": [
    "class NeuralNetwork(nn.Module):\n",
    "    def __init__(self):\n",
    "        super(NeuralNetwork, self).__init__()\n",
    "        self.layer1 = nn.Linear(X_train.shape[1], 64)\n",
    "        self.relu = nn.ReLU()\n",
    "        self.layer2 = nn.Linear(64,128)\n",
    "        self.layer3 = nn.Linear(128,256)\n",
    "        self.layer4 = nn.Linear(256, 7)\n",
    "\n",
    "    def forward(self, x):\n",
    "        x = self.layer1(x)\n",
    "        x = self.relu(x)\n",
    "        x = self.layer2(x)\n",
    "        x = self.relu(x)\n",
    "        x = self.layer3(x)\n",
    "        x = self.relu(x)\n",
    "        x = self.layer4(x)\n",
    "        return x\n",
    "\n",
    "model = NeuralNetwork()"
   ],
   "metadata": {
    "collapsed": false,
    "ExecuteTime": {
     "end_time": "2023-12-04T13:17:10.656487300Z",
     "start_time": "2023-12-04T13:17:10.618078700Z"
    }
   },
   "id": "d236027392b677ad"
  },
  {
   "cell_type": "markdown",
   "source": [
    "**Training configuration**"
   ],
   "metadata": {
    "collapsed": false
   },
   "id": "3778a1e980f01b97"
  },
  {
   "cell_type": "code",
   "execution_count": 26,
   "outputs": [],
   "source": [
    "criterion = nn.CrossEntropyLoss()\n",
    "optimizer = optim.Adam(model.parameters(), lr=0.001)"
   ],
   "metadata": {
    "collapsed": false,
    "ExecuteTime": {
     "end_time": "2023-12-04T13:17:18.961698800Z",
     "start_time": "2023-12-04T13:17:18.918524700Z"
    }
   },
   "id": "d82cacca40391276"
  },
  {
   "cell_type": "markdown",
   "source": [
    "**Model training**"
   ],
   "metadata": {
    "collapsed": false
   },
   "id": "9677ad226bfe628e"
  },
  {
   "cell_type": "code",
   "execution_count": 27,
   "outputs": [
    {
     "name": "stdout",
     "output_type": "stream",
     "text": [
      "Époque 1, Perte: 0.1742, Exactitude: 92.68%\n",
      "Époque 2, Perte: 0.1421, Exactitude: 93.93%\n",
      "Époque 3, Perte: 0.1322, Exactitude: 94.37%\n",
      "Époque 4, Perte: 0.1262, Exactitude: 94.66%\n",
      "Époque 5, Perte: 0.1227, Exactitude: 94.85%\n",
      "Époque 6, Perte: 0.1203, Exactitude: 94.97%\n",
      "Époque 7, Perte: 0.1190, Exactitude: 95.05%\n",
      "Époque 8, Perte: 0.1179, Exactitude: 95.12%\n",
      "Époque 9, Perte: 0.1170, Exactitude: 95.17%\n",
      "Époque 10, Perte: 0.1162, Exactitude: 95.23%\n"
     ]
    }
   ],
   "source": [
    "model.train()\n",
    "\n",
    "for epoch in range(10):  # 4 is the nbr of epochs\n",
    "    running_loss = 0.0\n",
    "    total_train = 0\n",
    "    correct_train = 0\n",
    "\n",
    "    for inputs, labels in trainLoader:\n",
    "        optimizer.zero_grad()\n",
    "        outputs = model(inputs)\n",
    "        loss = criterion(outputs, labels)\n",
    "        loss.backward()\n",
    "        optimizer.step()\n",
    "\n",
    "        running_loss += loss.item()\n",
    "        _, predicted = torch.max(outputs.data, 1)\n",
    "        total_train += labels.size(0)\n",
    "        correct_train += (predicted == labels).sum().item()\n",
    "\n",
    "    # Calculer la perte moyenne et l'exactitude pour l'époque\n",
    "    epoch_loss = running_loss / len(trainLoader)\n",
    "    epoch_accuracy = 100 * correct_train / total_train\n",
    "    print(f'Époque {epoch + 1}, Perte: {epoch_loss:.4f}, Exactitude: {epoch_accuracy:.2f}%')\n"
   ],
   "metadata": {
    "collapsed": false,
    "ExecuteTime": {
     "end_time": "2023-12-04T14:21:57.518944100Z",
     "start_time": "2023-12-04T13:17:30.945933200Z"
    }
   },
   "id": "1f69a171ab3eb11a"
  },
  {
   "cell_type": "markdown",
   "source": [
    "**Model testing**"
   ],
   "metadata": {
    "collapsed": false
   },
   "id": "57bde6a4eb73d9fb"
  },
  {
   "cell_type": "code",
   "execution_count": 28,
   "outputs": [
    {
     "name": "stdout",
     "output_type": "stream",
     "text": [
      "Exactitude sur l'ensemble de test: 94.8273097888324%\n"
     ]
    }
   ],
   "source": [
    "model.eval()  # Mettre le modèle en mode évaluation\n",
    "total_test = 0\n",
    "correct_test = 0\n",
    "\n",
    "y_true = []\n",
    "y_pred = []\n",
    "\n",
    "with torch.no_grad():\n",
    "    for inputs, labels in testLoader:\n",
    "        labels = labels.long()\n",
    "        outputs = model(inputs)\n",
    "        _, predicted = torch.max(outputs.data, 1)\n",
    "        y_true.extend(labels.tolist())\n",
    "        y_pred.extend(predicted.tolist())\n",
    "        total_test += labels.size(0)\n",
    "        correct_test += (predicted == labels).sum().item()\n",
    "\n",
    "test_accuracy = 100 * correct_test / total_test\n",
    "print(f'Exactitude sur l\\'ensemble de test: {test_accuracy}%')\n"
   ],
   "metadata": {
    "collapsed": false,
    "ExecuteTime": {
     "end_time": "2023-12-04T14:22:47.160297200Z",
     "start_time": "2023-12-04T14:22:09.968939900Z"
    }
   },
   "id": "cef6ff502c453bf4"
  },
  {
   "cell_type": "markdown",
   "source": [
    "**Confusion matrix visualization**"
   ],
   "metadata": {
    "collapsed": false
   },
   "id": "8fb67099c7d60b86"
  },
  {
   "cell_type": "code",
   "execution_count": 29,
   "outputs": [
    {
     "data": {
      "text/plain": "Text(52.722222222222214, 0.5, 'True labels')"
     },
     "execution_count": 29,
     "metadata": {},
     "output_type": "execute_result"
    },
    {
     "data": {
      "text/plain": "<Figure size 640x480 with 2 Axes>",
      "image/png": "[encoded data removed]"
     },
     "metadata": {},
     "output_type": "display_data"
    }
   ],
   "source": [
    "conf_matrix = confusion_matrix(y_true,y_pred)\n",
    "\n",
    "sns.heatmap(conf_matrix, annot=True, fmt = 'd')\n",
    "plt.xlabel('Predictions')\n",
    "plt.ylabel('True labels')"
   ],
   "metadata": {
    "collapsed": false,
    "ExecuteTime": {
     "end_time": "2023-12-04T14:22:48.958369400Z",
     "start_time": "2023-12-04T14:22:47.267847400Z"
    }
   },
   "id": "a4f7e39973b1f3c4"
  },
  {
   "cell_type": "markdown",
   "source": [
    "**Classification report**"
   ],
   "metadata": {
    "collapsed": false
   },
   "id": "db028a1ace45058f"
  },
  {
   "cell_type": "code",
   "execution_count": 30,
   "outputs": [
    {
     "name": "stdout",
     "output_type": "stream",
     "text": [
      "              precision    recall  f1-score   support\n",
      "\n",
      "           0       0.93      0.94      0.93     76042\n",
      "           1       0.98      0.92      0.95     72501\n",
      "           2       0.95      0.95      0.95     95233\n",
      "           3       1.00      1.00      1.00     42157\n",
      "           4       0.93      0.98      0.95     65893\n",
      "           5       0.95      0.90      0.93     37810\n",
      "           6       0.90      0.96      0.93     46984\n",
      "\n",
      "    accuracy                           0.95    436620\n",
      "   macro avg       0.95      0.95      0.95    436620\n",
      "weighted avg       0.95      0.95      0.95    436620\n"
     ]
    }
   ],
   "source": [
    "print(classification_report(y_true, y_pred))"
   ],
   "metadata": {
    "collapsed": false,
    "ExecuteTime": {
     "end_time": "2023-12-04T14:23:04.544886300Z",
     "start_time": "2023-12-04T14:23:03.033811600Z"
    }
   },
   "id": "4978ab5df46e36ac"
  },
  {
   "cell_type": "markdown",
   "source": [
    "**Convolutionnal Neural network**"
   ],
   "metadata": {
    "collapsed": false
   },
   "id": "addc1ac00aed76c7"
  },
  {
   "cell_type": "markdown",
   "source": [
    "Data preprocessing"
   ],
   "metadata": {
    "collapsed": false
   },
   "id": "de4d484d41a115aa"
  },
  {
   "cell_type": "code",
   "execution_count": 41,
   "outputs": [],
   "source": [
    "class ConvNeuralNetwork(nn.Module):\n",
    "    def __init__(self):\n",
    "        super(ConvNeuralNetwork, self).__init__()\n",
    "        self.conv1 = nn.Conv3d(in_channels=3, out_channels=64, kernel_size=(3,1,1), stride=1, padding=0)\n",
    "        self.conv2 = nn.Conv3d(in_channels=64, out_channels=128, kernel_size=(1,1,1), stride=1, padding=0)\n",
    "        self.fc1 = nn.Linear(in_features=3968, out_features=50)\n",
    "        self.fc2 = nn.Linear(in_features=50, out_features=7)\n",
    "\n",
    "    def forward(self, x):\n",
    "        x = F.relu(self.conv1(x))\n",
    "        x = F.relu(self.conv2(x))\n",
    "        x = x.view(x.size(0),-1)\n",
    "        x = F.relu(self.fc1(x))\n",
    "        x = self.fc2(x)\n",
    "        return x\n",
    "\n",
    "modelCNN = ConvNeuralNetwork()"
   ],
   "metadata": {
    "collapsed": false,
    "ExecuteTime": {
     "end_time": "2023-12-09T17:08:18.072083700Z",
     "start_time": "2023-12-09T17:08:17.647525200Z"
    }
   },
   "id": "eb2647f56b0e82a3"
  },
  {
   "cell_type": "markdown",
   "source": [
    "CNN config"
   ],
   "metadata": {
    "collapsed": false
   },
   "id": "8862b4808b4c4a03"
  },
  {
   "cell_type": "code",
   "execution_count": 42,
   "outputs": [],
   "source": [
    "criterion_cnn = nn.CrossEntropyLoss()\n",
    "optimizer_cnn = torch.optim.Adam(modelCNN.parameters(), lr = 0.001)"
   ],
   "metadata": {
    "collapsed": false,
    "ExecuteTime": {
     "end_time": "2023-12-09T17:08:33.465907300Z",
     "start_time": "2023-12-09T17:08:31.579030300Z"
    }
   },
   "id": "803fa978c4fe8943"
  },
  {
   "cell_type": "code",
   "execution_count": 43,
   "outputs": [],
   "source": [
    "scheduler_cnn = torch.optim.lr_scheduler.StepLR(optimizer_cnn, step_size=30, gamma=0.1)"
   ],
   "metadata": {
    "collapsed": false,
    "ExecuteTime": {
     "end_time": "2023-12-09T17:08:33.528895300Z",
     "start_time": "2023-12-09T17:08:31.580017700Z"
    }
   },
   "id": "69f6afcc92730a08"
  },
  {
   "cell_type": "markdown",
   "source": [
    "Training Cnn"
   ],
   "metadata": {
    "collapsed": false
   },
   "id": "cde2f2143412892b"
  },
  {
   "cell_type": "code",
   "execution_count": 54,
   "outputs": [],
   "source": [
    "\n",
    "cols_x = [col for col in X.columns if col.endswith('x')]\n",
    "cols_y = [col for col in X.columns if col.endswith('y')]\n",
    "cols_z = [col for col in X.columns if col.endswith('z')]\n",
    "tensor_5D = torch.zeros((len(X), 3, 33, 1, 1), dtype=torch.float32)\n"
   ],
   "metadata": {
    "collapsed": false,
    "ExecuteTime": {
     "end_time": "2023-12-09T17:40:52.985962800Z",
     "start_time": "2023-12-09T17:40:51.237054100Z"
    }
   },
   "id": "b2b257c6c329261a"
  },
  {
   "cell_type": "code",
   "execution_count": 32,
   "outputs": [
    {
     "name": "stdout",
     "output_type": "stream",
     "text": [
      "torch.Size([2183099, 33, 3, 1, 1])\n",
      "tensor([ 0.0207, -0.6934,  0.0230])\n",
      "Original: 0.020658314 -0.6934193 0.023042714\n"
     ]
    }
   ],
   "source": [
    "nbr_of_points = (X.shape[1])//3\n",
    "X_reshape = X.values.reshape(-1,nbr_of_points,3)\n",
    "tensor_4D_transposed = np.expand_dims(np.expand_dims(np.transpose(X_reshape, (0, 2, 1)), axis=3), axis=4)\n",
    "tensor_5D = torch.from_numpy(tensor_4D_transposed)\n",
    "tensor_5D = tensor_5D.permute(0, 2, 1, 3, 4)\n",
    "print(tensor_5D.shape)\n",
    "original_x = X[cols_x[1]].iloc[0]\n",
    "original_y = X[cols_y[1]].iloc[0]\n",
    "original_z = X[cols_z[1]].iloc[0]\n",
    "\n",
    "print( tensor_5D[0, 1,:, 0, 0])\n",
    "print(\"Original:\", original_x, original_y, original_z)"
   ],
   "metadata": {
    "collapsed": false,
    "ExecuteTime": {
     "end_time": "2023-12-09T16:46:37.869300400Z",
     "start_time": "2023-12-09T16:46:37.594533500Z"
    }
   },
   "id": "a9fd0ad99b58ccf2"
  },
  {
   "cell_type": "code",
   "execution_count": 67,
   "outputs": [],
   "source": [
    "mean_coords = pd.DataFrame()\n",
    "mean_coords['x_mean'] = X[cols_x].mean(axis = 1)\n",
    "mean_coords['y_mean'] = X[cols_y].mean(axis = 1)\n",
    "mean_coords['z_mean'] = X[cols_z].mean(axis = 1)"
   ],
   "metadata": {
    "collapsed": false,
    "ExecuteTime": {
     "end_time": "2023-12-09T17:45:21.690742800Z",
     "start_time": "2023-12-09T17:45:07.525477500Z"
    }
   },
   "id": "cc023b6ec3caf05b"
  },
  {
   "cell_type": "code",
   "execution_count": 88,
   "outputs": [
    {
     "name": "stdout",
     "output_type": "stream",
     "text": [
      "(2183099, 3)\n"
     ]
    }
   ],
   "source": [
    "from sklearn.decomposition import PCA\n",
    "\n",
    "# Utiliser PCA pour réduire à trois dimensions\n",
    "pca = PCA(n_components=3)\n",
    "reduced_coords = pca.fit_transform(mean_coords)\n",
    "\n",
    "# Normaliser les coordonnées réduites pour qu'elles correspondent à votre grille 3D\n",
    "# Par exemple, si votre grille est de taille 3x3x11\n",
    "normalized_coords = (reduced_coords - reduced_coords.min(0)) / reduced_coords.ptp(0)\n",
    "print(normalized_coords.shape)\n",
    "grid_coords = np.round(normalized_coords * np.array([2, 2, 10])).astype(int)\n"
   ],
   "metadata": {
    "collapsed": false,
    "ExecuteTime": {
     "end_time": "2023-12-09T18:08:24.929101200Z",
     "start_time": "2023-12-09T18:08:24.394859700Z"
    }
   },
   "id": "5916fbd4ffbcc8b3"
  },
  {
   "cell_type": "code",
   "execution_count": 89,
   "outputs": [
    {
     "name": "stdout",
     "output_type": "stream",
     "text": [
      "Coordonnées avec des doublons : [[ 0  0  4]\n",
      " [ 0  0  5]\n",
      " [ 0  0  6]\n",
      " [ 0  0  7]\n",
      " [ 0  1  1]\n",
      " [ 0  1  2]\n",
      " [ 0  1  3]\n",
      " [ 0  1  4]\n",
      " [ 0  1  5]\n",
      " [ 0  1  6]\n",
      " [ 0  1  7]\n",
      " [ 0  1  8]\n",
      " [ 0  2  3]\n",
      " [ 0  2  4]\n",
      " [ 0  2  5]\n",
      " [ 0  2  6]\n",
      " [ 1  0  1]\n",
      " [ 1  0  2]\n",
      " [ 1  0  3]\n",
      " [ 1  0  4]\n",
      " [ 1  0  5]\n",
      " [ 1  0  6]\n",
      " [ 1  0  7]\n",
      " [ 1  1  0]\n",
      " [ 1  1  1]\n",
      " [ 1  1  2]\n",
      " [ 1  1  3]\n",
      " [ 1  1  4]\n",
      " [ 1  1  5]\n",
      " [ 1  1  6]\n",
      " [ 1  1  7]\n",
      " [ 1  1  8]\n",
      " [ 1  1  9]\n",
      " [ 1  1 10]\n",
      " [ 1  2  1]\n",
      " [ 1  2  2]\n",
      " [ 1  2  3]\n",
      " [ 1  2  4]\n",
      " [ 1  2  5]\n",
      " [ 1  2  6]\n",
      " [ 1  2  7]\n",
      " [ 1  2  8]\n",
      " [ 2  0  2]\n",
      " [ 2  0  3]\n",
      " [ 2  0  4]\n",
      " [ 2  0  5]\n",
      " [ 2  0  6]\n",
      " [ 2  1  1]\n",
      " [ 2  1  2]\n",
      " [ 2  1  3]\n",
      " [ 2  1  4]\n",
      " [ 2  1  5]\n",
      " [ 2  1  6]\n",
      " [ 2  1  7]\n",
      " [ 2  1  8]\n",
      " [ 2  2  2]\n",
      " [ 2  2  3]\n",
      " [ 2  2  4]\n",
      " [ 2  2  5]\n",
      " [ 2  2  6]\n",
      " [ 2  2  7]\n",
      " [ 2  2  8]]\n"
     ]
    }
   ],
   "source": [
    "unique_coords, counts = np.unique(grid_coords, axis=0, return_counts=True)\n",
    "\n",
    "# Identifier les coordonnées où plus d'une feature a été mappée\n",
    "duplicate_coords = unique_coords[counts > 1]\n",
    "print(\"Coordonnées avec des doublons :\", duplicate_coords)"
   ],
   "metadata": {
    "collapsed": false,
    "ExecuteTime": {
     "end_time": "2023-12-09T18:08:45.017004800Z",
     "start_time": "2023-12-09T18:08:32.679508Z"
    }
   },
   "id": "3da66124c78e6f84"
  },
  {
   "cell_type": "code",
   "execution_count": 91,
   "outputs": [
    {
     "data": {
      "text/plain": "(62, 3)"
     },
     "execution_count": 91,
     "metadata": {},
     "output_type": "execute_result"
    }
   ],
   "source": [
    "duplicate_coords.shape"
   ],
   "metadata": {
    "collapsed": false,
    "ExecuteTime": {
     "end_time": "2023-12-09T18:09:25.968316700Z",
     "start_time": "2023-12-09T18:09:25.922940900Z"
    }
   },
   "id": "bcaea53f340cb848"
  },
  {
   "cell_type": "code",
   "execution_count": 90,
   "outputs": [
    {
     "name": "stdout",
     "output_type": "stream",
     "text": [
      "Features mappées à [0 0 4] : [  46564   46569   46570   47044   47046   47064   47065   47067   47068\n",
      "   47070   49063   49064   49065   49067   49068   50891   50892   50893\n",
      "   50894  121936  121937 1213785 1219517 1219518 1219519 1385861 1385865\n",
      " 1385866 1385867 1385868 1385869 1385870 1385871 1385872 1385873 1385874\n",
      " 1385875 1385876 1385877 1385878 1385879 1385880 1385881 1385882 1385883\n",
      " 1385884 1385885 1385886 1385887 1385889 1385890 1385891 1385892 1385893\n",
      " 1393744 1393752 1393756 1393759 1393764 1393767 1440900 1494463 1631875\n",
      " 1634340 1634341 1637605 1984628 1984629 1984630 1984631 1984632 1984633\n",
      " 1984634]\n",
      "Features mappées à [0 0 5] : [  47034   47035   47036   47037   47038   47039   47040   47041   47042\n",
      "   47043   47045   47054   47055   47058   47059   49059   49060   49061\n",
      "   49062   50890   50897 1623709 1631874 1631876 1631877 1632704 1637607\n",
      " 1637618 1637619]\n",
      "Features mappées à [0 0 6] : [ 341046 1542539 1635977 1635978 1637610 1637611 1637617]\n",
      "Features mappées à [0 0 7] : [1635976 1637612 1637613 1637614 1637615 1637616]\n",
      "Features mappées à [0 1 1] : [  96500  438377  511253  511254  511255  511364  511531  511534  511535\n",
      "  511536  511665  511781  511799  584053  584428  584430  584484  584485\n",
      "  584744  584815  584862  591176  591177  591178  591190  592061  592066\n",
      "  592067  592068  592069  772465  781889  781890  781891  781893  781894\n",
      "  781895  781896  781897  781899  781900  781901  781902  781920  781923\n",
      "  781925  781927  781928  781934  781935  781936  781937  781938  781939\n",
      "  781940  781941  781948  782015  782016  782017  782018  782019  782020\n",
      "  782021  782022  782023  782024  782025  782026  782027  782031  782032\n",
      "  782034  782036  782037  782038  782039  782041  782042  782043  782044\n",
      "  782045  782047  782049  782052  782053  782054  782055  782056  782057\n",
      "  782058  782059  782060  782061  782063  782064  782065  782066  782067\n",
      "  782068  782069  782070  782071  782072  782073  782076  782079  782081\n",
      "  782082  782147  782148  782149  782150  782151  782152  782153  782154\n",
      "  782155  782156  782157  782158  782159  782160  782161  782162  782163\n",
      "  782164  782165  782166  782176  782177  782179  782180  782181  782182\n",
      "  782183  782184  782185  782186  782187  782188  782191  782285  782286\n",
      "  782287  782289  782290  782291  782294  782295  782296  782297  782298\n",
      "  782299  782300  782301  782302  782303  782304  782305  782306  782308\n",
      "  782309  782310  782311  782398  782399  782401  782403  782404  782405\n",
      "  782406  782407  782408  782409  782410  782411  782412  782413  782414\n",
      "  782415  782416  782417  782418  782420  782421  782422  782423  782424\n",
      "  782425  782426  863965  863966  864423  864424  864425  870604  870605\n",
      "  975366 1071185 1071222 1071223 1071224 1071225 1071226 1071227 1071228\n",
      " 1071325 1071328 1071329 1071330 1071435 1071436 1071499 1071525 1071526\n",
      " 1071527 1071528 1160190 1258609 1258610 1258663 1258668 1258757 1258758\n",
      " 1258759 1258760 1258761 1258762 1258763 1342220 1342221 1342222 1342223\n",
      " 1342433 1342445 1342447 1342448 1342449 1342450 1516265 1516266 1516267\n",
      " 1516268 1516269 1516501 1516658 1603223 1603351 1603356 1603365 1603370\n",
      " 1603460 1603461 1603462 1603553 1603554 1603555 1603559 1603560 1603561\n",
      " 1679884 1690935 1690936 1776632 1776633 1776634 1782298 1782299 2016041\n",
      " 2022648 2022655 2103495 2103496 2103497 2103498 2103508 2103531 2103532\n",
      " 2103535 2103628 2103631 2103632 2103643 2103652 2103753 2103756 2103780\n",
      " 2103781 2103782 2103878 2103889 2104010 2104029 2109095 2109097 2109105\n",
      " 2109230 2109233 2109243 2109244 2109245 2109495]\n",
      "Features mappées à [0 1 2] : [   5582   14609   14610 ... 2109498 2109501 2109642]\n",
      "Features mappées à [0 1 3] : [   3747    3748    3752 ... 2174220 2174221 2174222]\n",
      "Features mappées à [0 1 4] : [   3555    3556    3557 ... 2181601 2181602 2182397]\n",
      "Features mappées à [0 1 5] : [   4162    4163    4165 ... 2181614 2181615 2182396]\n",
      "Features mappées à [0 1 6] : [   4621    4623    4625 ... 2165782 2165783 2172850]\n",
      "Features mappées à [0 1 7] : [   4249    4622    4836 ... 2165768 2165769 2165770]\n",
      "Features mappées à [0 1 8] : [ 149778  149779  149780  149781  149782  149783  149784  149785  149786\n",
      "  149787  149788  149789  149790  149791  149792  150140  150141  192433\n",
      "  346932  346933  347676  593989  594247  694680  694681  778249  778253\n",
      " 1071196 1071197 1071204 1071205 1071207 1258728 1258729 1408896 1408897\n",
      " 1408898 1408899 1408900 1408901 1408902 1408903 1408904 1409084 1409085\n",
      " 1409086 1409087 1409088 1409089 1409090 1409091 1409092 1409093 1409094\n",
      " 1409095 1409099 1409101 1409102 1409103 1409104 1409105 1409106 1409177\n",
      " 1409178 1409179 1409180 1409181 1409182 1409183 1409184 1409185 1409186\n",
      " 1409187 1409188 1409189 1409190 1409191 1409192 1409193 1409194 1409195\n",
      " 1409196 1409197 1409198 1431654 1637621 1685720 1771167 1771168 1771169]\n",
      "Features mappées à [0 2 3] : [  14245   14246   14247 ... 2174132 2174202 2174204]\n",
      "Features mappées à [0 2 4] : [  10753   14251   14252 ... 2174121 2174122 2174123]\n",
      "Features mappées à [0 2 5] : [ 153089  153090  153091  153179  153193  153194  153195  153196  153282\n",
      "  153283  153284  153285  153286  153289  153290  153291  153292  153293\n",
      "  153295  153296  153297  153300  153383  153391  153393  153487  153502\n",
      "  153503  153504  221221  221222  221223  221224  221225  221226  221227\n",
      "  221228  221229  221230  321433  321435  413517  413519  413529  413560\n",
      "  413637  413638  413639  413672  413673  413865  413866  413867  413870\n",
      "  490439  490440  490441  490442  490443  490556  490557  490662  490663\n",
      "  490670  490671  490774  490775  490776  490777  490778  490779  490780\n",
      "  490781  490883  490884  490885  490886  490887  490888  490889  493319\n",
      "  493320  493321  493322  493419  493420  564715  663497  663498  946113\n",
      "  946114  946115  946116  946200  946201  946202  946203  946210  946211\n",
      "  946212  946213  946214  946215  946216  946217  946218  946219  946220\n",
      "  946221  946222  946223  946224  946234  946235  946322  946323  946324\n",
      "  946325  946326  946327  946328  946329  946330  946331  946332  946333\n",
      "  946334  946335  946336  946337  946338  946339  946340  946341  946342\n",
      "  946343  946344  946345  946346  946347  946348  946349  946350  946354\n",
      "  946355  946356  946357  946358  946359  946360  946361  946362  946363\n",
      "  946364  970319 1043135 1046267 1046268 1046269 1046270 1046271 1046272\n",
      " 1046273 1046274 1046275 1046276 1049065 1049317 1072554 1126635 1126636\n",
      " 1126637 1126638 1126639 1126640 1126641 1126642 1126643 1126644 1126645\n",
      " 1126646 1126647 1126648 1126649 1126650 1126651 1126652 1126772 1126773\n",
      " 1126774 1126775 1126776 1126777 1126778 1126779 1126780 1126781 1126782\n",
      " 1126783 1126784 1126785 1126786 1126787 1126788 1126789 1126880 1126881\n",
      " 1126882 1126883 1126884 1126885 1126886 1126887 1126888 1126889 1126890\n",
      " 1126891 1126892 1126893 1126976 1126977 1126978 1126979 1126980 1126981\n",
      " 1126982 1126983 1126984 1126985 1126986 1126987 1127071 1127072 1127073\n",
      " 1127074 1127075 1127076 1127077 1127078 1127079 1127080 1127081 1127082\n",
      " 1127083 1127084 1127085 1127086 1131383 1131384 1131385 1131386 1131395\n",
      " 1131479 1131480 1131481 1131482 1131486 1131647 1131746 1131747 1131748\n",
      " 1131749 1155642 1155647 1161873 1161874 1161875 1161877 1161880 1161881\n",
      " 1161882 1161883 1161886 1161887 1161888 1161889 1161890 1161891 1161892\n",
      " 1161893 1161894 1161895 1162099 1162100 1162101 1162102 1162103 1162104\n",
      " 1162105 1162106 1162370 1162653 1162658 1162659 1332096 1428563 1431843\n",
      " 1431948 1489428 1489429 1489432 1489510 1489511 1489512 1489513 1489581\n",
      " 1489583 1489584 1489598 1489599 1489603 1662772 1662773 1662774 1662775\n",
      " 1662854 1662855 1662856 1662857 1662858 1662859 1662860 1662861 1662862\n",
      " 1662938 1662939 1662940 1662941 1662942 1663017 1663018 1753408 1753409\n",
      " 1753570 1753572 1753573 1753596 1753597 1753665 1753688 1753689 1753690\n",
      " 1753779 1753780 1753781 1753782 1755908 1756068 1756069 1756070 1756071\n",
      " 1853809 1925889 1925890 1925891 1925898 1925899 1925900 1925902 2001102\n",
      " 2001103 2001104 2001105 2001106 2001107 2001108 2001209 2001287 2001288\n",
      " 2001289 2001290 2001293 2001294 2001295 2001296 2001297 2001298 2001299\n",
      " 2001300 2001309 2001311 2001312 2001313 2001314 2001315 2001316 2001387\n",
      " 2001388 2001389 2001489 2001516 2001517 2023916 2023917 2023918]\n",
      "Features mappées à [0 2 6] : [1161884 1161885 1431949 2016465 2016540 2016541 2016542 2016562 2016637\n",
      " 2016816 2016817 2016818 2016820]\n",
      "Features mappées à [1 0 1] : [1095331 1098714]\n",
      "Features mappées à [1 0 2] : [ 117306  271535  271536  271537  280235  280861  281101  281102  281103\n",
      "  281105  445756  445758  445759  445760  445761  445764  445765  594335\n",
      "  611624  611625  632530  632531  697491  697492  697493  706492  706493\n",
      "  706495  706496  706497  706498  706642  706643  706644  706645  706646\n",
      "  706647  706648  706649  706650  706893  707007  707010 1060518 1060519\n",
      " 1060520 1060521 1060522 1060523 1060524 1060525 1060526 1060527 1060528\n",
      " 1060529 1061789 1061790 1061797 1061798 1061799 1061801 1061802 1061803\n",
      " 1061804 1065431 1065432 1065433 1066531 1066532 1069717 1069718 1070781\n",
      " 1070782 1085841 1085842 1085843 1085844 1085845 1085846 1085847 1085848\n",
      " 1085849 1085861 1085862 1085863 1085864 1085865 1085866 1085867 1087299\n",
      " 1087300 1087301 1087302 1087303 1087304 1087312 1087313 1087314 1087315\n",
      " 1087316 1087317 1087318 1087509 1087510 1087511 1087512 1087513 1087514\n",
      " 1087515 1087516 1087517 1087521 1087522 1087526 1087527 1087528 1087529\n",
      " 1087530 1087560 1087561 1087562 1088986 1088987 1088988 1088989 1088990\n",
      " 1088991 1088992 1089007 1089008 1089009 1089010 1089011 1090082 1090083\n",
      " 1090084 1090085 1092349 1092350 1092351 1092352 1092353 1092354 1093732\n",
      " 1093733 1093734 1093735 1093736 1093737 1093738 1093739 1093740 1093741\n",
      " 1093742 1093743 1093744 1093745 1093746 1093747 1093748 1093951 1093952\n",
      " 1093953 1093954 1093955 1093956 1093957 1093958 1093959 1093960 1093961\n",
      " 1095313 1095314 1095315 1095316 1095317 1095332 1095333 1095334 1095335\n",
      " 1095336 1098703 1098704 1098705 1098706 1098707 1098708 1098709 1098710\n",
      " 1098711 1098712 1098713 1098715 1098716 1098717 1098748 1098749 1098750\n",
      " 1100090 1100091 1100092 1100093 1100094 1100095 1100096 1100097 1100098\n",
      " 1100099 1100100 1100101 1100102 1100103 1100104 1100105 1100332 1100333\n",
      " 1100334 1100335 1100336 1101667 1101668 1101669 1101670 1101671 1101683\n",
      " 1101684 1101685 1101686 1101687 1101688 1202199 1202200 1202201 1202202\n",
      " 1202203 1202204 1202231 1202232 1202233 1202234 1202235 1202236 1202237\n",
      " 1202238 1204772 1204801 1204802 1204803 1204804 1204805 1204806 1204807\n",
      " 1445385 1445495 1445496 1445497 1445549 1445552 1445553 1445554 1445555\n",
      " 1445556 1445557 1445608 1445609 1447820 1447821 1447822 1447823 1447824\n",
      " 1447825 1447826 1447827 1453307 1453310 1453312 1453314 1453315 1453316\n",
      " 1453317 1453318 1453319 1457668 1458437 1458440 1458441 1458442 1458443\n",
      " 1458444 1458445 1519682 1519683 1519915 1526355 1799184 1799185 1799186\n",
      " 1799187 1799188 1799189 1799190 1902295 1902496 1902853 2024527 2024528\n",
      " 2024652 2024655 2024769 2024770 2024771 2024772 2024773 2024884 2024885\n",
      " 2024998 2024999 2025000 2025001 2025002 2026108 2029238 2029239 2029240\n",
      " 2029354 2029355 2029356 2029357 2029879 2029880 2029881 2029882 2030012\n",
      " 2030013 2030131 2030132 2030133 2030252 2030253 2030254 2030255 2048928\n",
      " 2048929 2048930 2128329 2128330 2128331 2128332 2128333 2128334 2128335\n",
      " 2128336 2128337 2130068 2130069 2130070 2134870 2134871 2134872 2134873]\n",
      "Features mappées à [1 0 3] : [  16660   16661   16662 ... 2138466 2138467 2138468]\n",
      "Features mappées à [1 0 4] : [   5878    8350    8351 ... 2180197 2180198 2180199]\n",
      "Features mappées à [1 0 5] : [   7163    7164    7165 ... 2180191 2180192 2180193]\n",
      "Features mappées à [1 0 6] : [  44804   44805   44806   44807   44812  115329  116604  116605  116606\n",
      "  118319  118320  118321  118322  118323  118324  118325  118326  118327\n",
      "  118328  118329  130833  166697  166698  166699  166700  166701  166702\n",
      "  166703  166704  166705  166706  166707  166708  166709  166710  166722\n",
      "  166723  166724  166725  166726  166915  166916  166921  166922  166923\n",
      "  166924  166925  166926  167761  170629  170630  170631  170632  170633\n",
      "  170634  170635  170636  170637  170638  170639  170640  170641  170642\n",
      "  170643  170644  170645  170646  170647  170648  171462  171463  171464\n",
      "  171465  171466  171467  171468  171469  171470  171471  171472  171473\n",
      "  171474  171475  171476  171477  171479  171480  171481  171482  171483\n",
      "  171484  171485  171486  171487  171488  173882  173883  173884  173885\n",
      "  173886  173887  173888  173889  173890  173891  173892  173893  173894\n",
      "  173895  173896  173897  173898  173899  173900  173901  173902  173903\n",
      "  173904  173905  173906  174043  174044  174045  174046  174047  174048\n",
      "  174049  174050  174611  174613  174614  174615  174616  174617  174618\n",
      "  174619  174620  174621  174622  174624  174625  174626  174627  174628\n",
      "  174629  174630  174631  174632  174633  174634  174635  174636  174637\n",
      "  174638  200270  200271  200272  200273  200935  201076  201077  204154\n",
      "  204155  204156  204157  204158  204159  204160  204162  341024  341025\n",
      "  341041  341042  341044  341045  342317  342318  345581  345582  345583\n",
      "  345584  388454  388455  428374  428375  428376  428377  428378  429381\n",
      "  429382  429383  429384  429385  429386  429387  429388  429389  429391\n",
      "  429392  429393  429394  429395  429396  429397  429398  429399  429400\n",
      "  429427  430192  432250  432278  433240  433241  433242  433243  433244\n",
      "  433249  433250  433276  436289  436297  436298  436299  436300  436324\n",
      "  436326  437425  437426  437427  437428  437429  437430  437431  437443\n",
      "  452686  452687  452704  452705  452706  452707  452708  454128  454130\n",
      "  454131  454139  454140  454141  454142  457789  457790  457791  457792\n",
      "  457793  457794  459166  459167  459168  459169  462732  462745  462746\n",
      "  462747  462748  462749  463998  506292  506293  506294  506295  506296\n",
      "  506297  506298  506299  506300  506301  506324  506325  507190  507207\n",
      "  507208  507209  507210  509871  509872  509873  509874  509875  509876\n",
      "  509877  509878  509879  509895  509896  510879  510880  510881  510882\n",
      "  510883  510884  510896  510897  510898  510899  510900  513674  513675\n",
      "  513676  513677  513678  513679  513680  513681  513682  513703  513704\n",
      "  513705  514519  514521  514522  514523  514524  514535  514536  514538\n",
      "  514539  514540  514541  514542  514543  527226  527228  528504  528505\n",
      "  528506  528507  528508  528516  528517  528518  528519  528520  529638\n",
      "  532083  532084  532085  532086  532087  532088  532089  533128  533130\n",
      "  533131  533132  533292  533293  533294  533305  533306  533307  533308\n",
      "  533309  533310  533311  534382  534383  534384  536644  537689  537690\n",
      "  537693  537694  537695  537724  537872  538951  538952  538953  538954\n",
      "  586178  586657  586658  588539  588540  588541  588542  588543  588702\n",
      "  588703  588704  588705  588706  588707  588708  590582  590583  590584\n",
      "  590585  590586  590587  590588  590589  691845  691846  691847  691848\n",
      "  691850  691851  691852  710948  710949  710950  710951  710952  710953\n",
      "  710954  710955  710956  710957  710958  711199  711200  711201  712647\n",
      "  712648  715944  718570  718571  718572  718573  718574  718575  718576\n",
      "  721674  722996  722997  722999  723000  723001  723002  723003  723004\n",
      "  724576  727764  727765  727766  727767  727768  727769  727770  727771\n",
      "  727772  727773  727774  727775  727776  727777  727778  727779  727780\n",
      "  727781  727782  727783  727784  727785  727786  727787  727788  727789\n",
      "  727790  727791  727792  727793  727800  727801  727802  727803  728527\n",
      "  728528  728529  728530  728531  728532  728533  728534  728535  728536\n",
      "  728537  728538  728539  728540  728541  728542  728543  728544  728545\n",
      "  728546  730896  730897  730898  730899  730900  730901  730902  730903\n",
      "  730904  730905  730906  730907  730908  730909  730910  730911  730912\n",
      "  730913  730914  730915  730916  730917  730918  730919  730920  730921\n",
      "  730922  730923  730933  731603  731604  731605  731606  731607  731608\n",
      "  731609  731610  731611  731612  731613  731614  731615  731616  731617\n",
      "  731618  731619  731620  731621  731622  731623  731624  731625  733816\n",
      "  733817  733818  733819  733820  733821  733822  733823  733824  733825\n",
      "  733826  733827  733828  733829  733830  733831  733832  733833  733834\n",
      "  733835  733836  733837  733838  733839  733840  733841  733842  733843\n",
      "  733844  733845  733846  733847  733848  733849  733850  733851  733852\n",
      "  733853  733854  733855  733856  733857  733858  733859  733865  734509\n",
      "  734510  734511  734512  734513  734514  734515  734516  734517  734518\n",
      "  734519  734520  734521  734522  734523  734524  734525  897115  897116\n",
      "  924302  924303  924304  924305  924306  924307  924308  924309  924310\n",
      "  924311  924312  924313  924314  924315  924316  924317  924318  924319\n",
      "  924320  924321  924322  924323  924324  924325  924326  924327  924328\n",
      "  924329  924330  924331  924332  924333  924334  924335  924336  924337\n",
      "  924338  924339  924340  924341  924342  924343  924344  924345  924346\n",
      "  924347  925106  925108 1065368 1065369 1065370 1065371 1066468 1066469\n",
      " 1066470 1066471 1072832 1103489 1103490 1186690 1186691 1186692 1189173\n",
      " 1189174 1189176 1257479 1257480 1257481 1257482 1257483 1257484 1257485\n",
      " 1257488 1257489 1257490 1257491 1257492 1257493 1257494 1257495 1257496\n",
      " 1257497 1257498 1258276 1258277 1258278 1258279 1258280 1258281 1258282\n",
      " 1258283 1258284 1258285 1258286 1258287 1258288 1258289 1258290 1258291\n",
      " 1258292 1260795 1260796 1260797 1260798 1260799 1260800 1261814 1261815\n",
      " 1261816 1261823 1261824 1261825 1261826 1261827 1261828 1261829 1261830\n",
      " 1261831 1261832 1261833 1261834 1263056 1276234 1276235 1276236 1276237\n",
      " 1276238 1276239 1276240 1276241 1276242 1277607 1277608 1277609 1389428\n",
      " 1393002 1426120 1426121 1429655 1433920 1433921 1450787 1450788 1450789\n",
      " 1450790 1450791 1450792 1450793 1450794 1450795 1450796 1452256 1452257\n",
      " 1452258 1452259 1452260 1452261 1452262 1452263 1452264 1452267 1452268\n",
      " 1452269 1452270 1452271 1452272 1452273 1452274 1452275 1452276 1457262\n",
      " 1457263 1457264 1457265 1457266 1457267 1457269 1457270 1457271 1457272\n",
      " 1457273 1457274 1463562 1463563 1463564 1463565 1463566 1503139 1508140\n",
      " 1509581 1509582 1509583 1522093 1522094 1537720 1537721 1539453 1551487\n",
      " 1594164 1594165 1594166 1598767 1598768 1598769 1598770 1637632 1947317\n",
      " 1948325 1948327 1948328 1963643 1973669 1973670 1973678 2018636 2018638\n",
      " 2018639 2133246 2133247 2133248 2133249 2133250 2133251 2133252 2136684\n",
      " 2136685 2136686 2136687 2136688 2136689 2136690 2136691 2136692 2136693\n",
      " 2136694 2136695 2136701 2138070 2138281 2138283 2138284 2138285 2138286\n",
      " 2138287 2138288 2138289 2138290 2138291 2138292 2138293 2138294 2138295\n",
      " 2138296 2138297 2138298 2138299 2138300 2138301 2138302 2138303 2138304\n",
      " 2138305 2138306 2138309 2138310 2138314 2139431 2139432 2139433 2139434\n",
      " 2139435 2139436 2139437 2139438 2139439 2139440 2139441 2143270 2143271\n",
      " 2144855 2145054 2145055 2145056 2145057 2145058 2145059 2145060 2145061\n",
      " 2145062 2145063 2145064 2145065 2145066 2145067 2145068 2145071 2145072\n",
      " 2145073 2146608 2146609 2146612 2146613 2146614 2146616 2146617 2146618\n",
      " 2146619 2146622 2146623 2146624 2150919 2150920]\n",
      "Features mappées à [1 0 7] : [  44810   44811  166917  166920  345580  428379  428380  428381  428382\n",
      "  428383  428384  436290  507206 1103484 1103485 1103486 1103487 1103488\n",
      " 1257486 1257487 1260787 1260788 1260789 1260790 1261817 1261819 1261820\n",
      " 1261821 1261822 1263054 1263055 1598761 1598762 1598763 1598764 1598765\n",
      " 1598766 2018637 2018640 2018641 2018642]\n",
      "Features mappées à [1 1 0] : [  88519   88592   92365   92366   92367   92368  168077  168079  168084\n",
      "  168121  168122  168123  168124  168125  168131  168132  168133  168135\n",
      "  168137  168138  168139  168140  340917  433988  434801  434802  435052\n",
      "  435053  685387  685395  690453  690454  690455  690456 1154308 1154309\n",
      " 1154310 1154311 1154312 1154313 1154314 1154315 1154316 1154317 1161112\n",
      " 1161115 2023403 2023405 2097025 2098651 2105634 2105641 2105642]\n",
      "Features mappées à [1 1 1] : [   3803    3822    3823 ... 2143987 2144420 2144422]\n",
      "Features mappées à [1 1 2] : [   3801    3802    3804 ... 2145310 2146194 2146195]\n",
      "Features mappées à [1 1 3] : [   3673    3674    3675 ... 2180984 2180985 2181563]\n",
      "Features mappées à [1 1 4] : [      0       1       2 ... 2183028 2183029 2183030]\n",
      "Features mappées à [1 1 5] : [      8       9      13 ... 2183096 2183097 2183098]\n",
      "Features mappées à [1 1 6] : [     48      49      50 ... 2182401 2182402 2183064]\n",
      "Features mappées à [1 1 7] : [     84      85      86 ... 2173222 2173223 2173231]\n",
      "Features mappées à [1 1 8] : [     91      92      93 ... 2171042 2171043 2171044]\n",
      "Features mappées à [1 1 9] : [   5915    5916    5917 ... 2170449 2170450 2170451]\n",
      "Features mappées à [ 1  1 10] : [ 129140  195763  195764  195765  195766  347175 1867419]\n",
      "Features mappées à [1 2 1] : [  86669   86670   86671   86672   86673   96931   96932   98073   98074\n",
      "   98075   98076  688351  688352  688353  688354  689656  689657  776593\n",
      "  776595  776597  776602  776603  776604  776605  776606  776607  776608\n",
      "  776609  776610  776611  857786 1070998 1070999 1071003 1071007 1071008\n",
      " 1071009 1071010 1071011 1072029 1072030 1072031 1254776 1254777 1254778\n",
      " 1254779 1254780 1254781 1254782 1254783 1254784 1254785 1254786 1254787\n",
      " 1254788 1255810 1255811 1255812 1255813 1255814 1255819 1255820 1255821\n",
      " 1255822 1258453 1258454 1258455 1258456 1258457 1258458 1258459 1258460\n",
      " 1258461 1258462 1258463 1258464 1259238 1261986 1261987 1261992 1940314\n",
      " 1940315 1940316 1940317 1940318 1940319 1940320 1940321 1940322 1940323\n",
      " 1940324 1940325 1940330 1940331 1941345 1941346 1941347 1941348 1941349\n",
      " 1941350 1941351 1941352 2015535 2015536 2018840 2022360 2022361 2022362\n",
      " 2022363 2023233 2098091 2099790 2099791 2099792 2099793 2099794 2099795\n",
      " 2099796 2099800 2099801 2099810 2102975 2102978 2104441 2104442 2104443\n",
      " 2104444 2104445 2104446 2109825 2109826 2109828 2109832 2109834 2111192\n",
      " 2111193 2111194 2111195]\n",
      "Features mappées à [1 2 2] : [   5476   86640   86641 ... 2111197 2111198 2111213]\n",
      "Features mappées à [1 2 3] : [   3677    3678    3679 ... 2111210 2111211 2111212]\n",
      "Features mappées à [1 2 4] : [   3696    3697    9567 ... 2111088 2111184 2111185]\n",
      "Features mappées à [1 2 5] : [   6375    6381    6386 ... 2111056 2111057 2111058]\n",
      "Features mappées à [1 2 6] : [   6382    6383    6384 ... 2105573 2108474 2108475]\n",
      "Features mappées à [1 2 7] : [  15657   84101   84102 ... 2107280 2107281 2107282]\n",
      "Features mappées à [1 2 8] : [  90256   90257   90258   93703   94856   94857   94858   94859   94860\n",
      "   94861   94862   94863  332380  332381  332382  338220  338222  339483\n",
      "  339487  339488  347388  513015  585983  593263  593662  593663  593664\n",
      "  690632  690633  778435  778436  778437  779172  861588  861589  861590\n",
      "  861591  861592  971556  971557  971558  971559  971561  971562  982999\n",
      "  983112  983115  983196  983197  983233  983260  983264  983265  983402\n",
      "  983404  983405  983513  983514  983560  983561  983562  983564  983567\n",
      "  983568  983569  983571  983572  983578  983642  983643  983644  983646\n",
      "  983659  983704  983720  983726  983728  983729 1065654 1065655 1065656\n",
      " 1065657 1065672 1149020 1252625 1252626 1252627 1252628 1253701 1253702\n",
      " 1253703 1253704 1253705 1256857 1256858 1256859 1256860 1256861 1256862\n",
      " 1259924 1259925 1425390 1425391 1425392 1425393 1426321 1429847 1429848\n",
      " 1435330 1511409 1624269 1632114 1676026 1676027 1677467 1677468 1677474\n",
      " 1677475 1677481 1677483 1687571 1687572 1687573 1687574 1688845 1688846\n",
      " 1688847 1688848 1688849 1688850 1688851 1688852 1688853 1771466 1942358\n",
      " 1943405 1943406 1943407 1943408 1943409 1943410 1943411 1946072 1946078\n",
      " 1946468 1947480 1947481 1947482 1947483 1949791 1949800 1950079 1950080\n",
      " 1950081 2023898 2023899 2040479 2107267 2107283 2107284]\n",
      "Features mappées à [2 0 2] : [ 356698  356699  356700  611626  611627  611628  702323  702324  702325\n",
      "  702326 1519684 1519685 1519686 1519916 1519917 1526404 1526405 1526407\n",
      " 2026106 2029877 2029878 2030008 2030129 2030130 2030250 2030251]\n",
      "Features mappées à [2 0 3] : [  23794  105030  105077 ... 2123879 2123880 2123881]\n",
      "Features mappées à [2 0 4] : [  98326   98327   98328 ... 2118896 2118897 2123129]\n",
      "Features mappées à [2 0 5] : [  98306   98307   98308   98309   98310   98311  177310  177312  177313\n",
      "  177314  177315  177316  185306  185307  185308  185309  185310  185311\n",
      "  249774  249775  249776  249777  249778  249779  249780  249781  249782\n",
      "  249783  249784  249785  249786  250659  250660  250661  250662  250663\n",
      "  250664  250665  250666  250825  250826  250827  250828  250829  250830\n",
      "  250831  250832  250833  251709  251710  251711  251712  251713  251714\n",
      "  251715  253973  253974  253975  253976  253977  253978  253979  253980\n",
      "  253981  253982  255105  255268  255269  255270  255271  255272  255273\n",
      "  255274  255275  255276  255277  255278  255279  259161  259162  259163\n",
      "  259164  259165  259166  259167  259168  259169  259170  259171  259172\n",
      "  259173  259174  259175  259176  260160  260161  260361  260362  260363\n",
      "  260364  260365  260366  260367  260368  260369  260370  260371  260372\n",
      "  260373  260374  260375  260377  260378  261367  261368  583501  583502\n",
      "  583503  583504  583505  695457  696697  696701  696702  696703  696704\n",
      "  696705  696706  696707  701617  701618  701619  701620  705168  705169\n",
      "  705170  705171  705172  705173  705174  705175  705176  705177  705178\n",
      "  705179  706251  706252  907922  907923  907924  914837  914838  914839\n",
      "  914840  914841 1014689 1014690 1186693 1186694 1525324 1525328 1531350\n",
      " 1610363 1796353 1796358 1796359 1876561 1881389 1881390 1881391 1881392\n",
      " 1881395]\n",
      "Features mappées à [2 0 6] : [ 342319 1898602]\n",
      "Features mappées à [2 1 1] : [ 377796  377797  377798  377799  377800  905461 2105670 2105672 2105673\n",
      " 2105674 2105675]\n",
      "Features mappées à [2 1 2] : [  24188   24189   24190   24191   24192   24194   25022   25023   25024\n",
      "   25025  129274  129275  129515  129517  129521  129526  271509  271516\n",
      "  271517  272287  272297  291346  291430  291481  291482  291483  291484\n",
      "  291485  291486  291487  291494  291495  291501  291502  291503  291504\n",
      "  291505  291507  291535  291536  291537  291621  291623  291734  291757\n",
      "  291821  291822  292060  292061  292062  292064  292066  292072  292073\n",
      "  292074  292075  292089  292090  292091  292102  292103  292104  292105\n",
      "  292106  292107  292115  292271  292288  371681  371683  371688  371698\n",
      "  371711  371719  371814  371858  371860  371862  371863  371864  371865\n",
      "  371866  371870  371871  371872  371873  371874  371875  371876  371877\n",
      "  371878  371991  372002  372003  372005  372006  372007  372008  372009\n",
      "  372010  372011  372012  372013  372014  372015  372016  372017  372018\n",
      "  372019  372020  372021  372022  372023  372024  372025  372026  372027\n",
      "  372028  372029  372030  372031  372032  372033  372034  372035  372036\n",
      "  372037  372039  372041  372042  372043  372044  372045  372046  372047\n",
      "  372048  372049  372050  372053  372055  372056  372091  372179  372200\n",
      "  372202  372208  372209  372210  372211  372212  372213  372215  372216\n",
      "  372217  372218  372222  372223  372226  372227  372228  372229  372230\n",
      "  372231  372232  372233  372234  372235  372236  372237  372238  372246\n",
      "  372396  372397  372398  372400  372401  372404  372405  372406  372407\n",
      "  372408  372409  372411  372412  372413  372414  372415  372416  372417\n",
      "  372418  372419  372420  372421  372422  372426  372427  372429  372480\n",
      "  377791  377792  377793  378120  378146  378160  378163  378795  378796\n",
      "  384238  384239  384248  384251  384363  384365  384389  384390  384393\n",
      "  384394  384396  384397  384398  384399  384403  384404  384405  384406\n",
      "  384407  384410  384411  384414  384416  384438  384442  384443  384444\n",
      "  384445  384446  384447  384448  384449  384450  384451  384452  384453\n",
      "  384454  384455  384456  384461  384462  384463  384464  384465  384466\n",
      "  384471  384481  384633  384635  384636  384637  384638  384639  384643\n",
      "  384644  384645  384650  384655  384656  384657  384658  384659  384660\n",
      "  384661  384662  384664  384666  384667  384668  384669  384670  384671\n",
      "  384672  384673  384674  384675  384676  384677  384678  384679  384680\n",
      "  384681  384682  384683  384685  384686  384689  384690  384691  384692\n",
      "  384693  384694  384695  384696  384697  384698  384699  384700  384701\n",
      "  384702  384703  384704  384705  384706  384707  384708  384709  384710\n",
      "  384711  384712  384713  384714  384743  385053  385054  385059  385060\n",
      "  385062  385063  385064  385065  385066  385067  385068  385069  385070\n",
      "  385071  385072  385073  385074  385075  385076  385077  385078  385079\n",
      "  385080  385081  385082  385083  385084  385085  385086  385087  385088\n",
      "  385091  385092  385093  385094  385097  385105  385108  385110  385111\n",
      "  385114  385123  385126  440239  440240  440241  440387  440388  440389\n",
      "  440679  444716  444717  444718  444719  444720  444866  444867  445017\n",
      "  445018  445022  445361  445362  445363  445364  445365  449486  462193\n",
      "  467095  531375  599694  599695  601216  610417  610418  610419  610420\n",
      "  610421  610460  610461  610776  610777  610779  610815  610816  610817\n",
      "  610819  610820  610821  610822  610823  610824  610825  610885  610886\n",
      "  610887  610888  610889  610890  610891  610892  610939  610940  611007\n",
      "  611008  611009  611010  611011  611012  628035  628037  697494  697495\n",
      "  701911  701912  701913  701914  701915  702315  702316  702321  702322\n",
      "  905072  905073  905074  905075  905076  905077  905078  905079  905080\n",
      "  905085  905090  905096  905115  905120  905128  905129  905130  905131\n",
      "  905132  905133  905134  905136  905137  905138  905444  905445  905446\n",
      "  905447  905448  905449  905450  905451  905452  905453  905454  905455\n",
      "  905456  905457  905458  905459  905460  905462  905463  905464  905465\n",
      "  905466  905468  905469  905470  905473  905474  905479  905480  905482\n",
      "  905483  905484  905485  905486  905487  905491  905492  905493  905494\n",
      "  905498  905499  905500  905501  905503  905505  918835  918891 1103913\n",
      " 1173443 1173444 1279827 1464004 1464443 1519315 1519316 1519317 1519318\n",
      " 1519319 1519320 1519355 1519356 1519357 1519358 1519359 1519360 1519361\n",
      " 1519362 1519363 1519439 1519440 1519441 1519442 1519443 1519444 1519483\n",
      " 1519484 1519485 1519486 1519487 1519488 1519489 1519490 1519491 1519492\n",
      " 1519493 1519494 1519562 1519563 1519564 1519687 1519723 1519724 1519725\n",
      " 1519726 1519727 1519728 1519729 1519730 1519731 1519732 1519797 1519798\n",
      " 1519799 1519800 1519801 1519843 1519844 1519845 1519846 1519918 1519919\n",
      " 1519920 1519921 1519922 1520566 1520567 1520568 1520569 1520570 1520610\n",
      " 1520611 1520612 1520613 1520614 1520615 1520616 1520690 1520691 1520692\n",
      " 1520693 1520694 1520741 1520742 1520812 1520813 1520973 1520974 1520978\n",
      " 1520979 1520981 1521048 1521049 1521093 1521094 1521166 1521167 1521168\n",
      " 1521212 1521213 1524530 1525040 1526014 1526162 1526220 1526221 1526222\n",
      " 1526224 1526226 1526358 1526359 1526524 1526525 1526526 1526527 1526528\n",
      " 1526529 1526530 1526531 1526594 1526638 1526639 1526640 1532150 1532151\n",
      " 1532152 1532153 1632017 2028862 2028863 2028864 2028865 2028866 2028944\n",
      " 2028945 2029191 2029317 2029318 2046325 2046333 2046334 2046335 2046356\n",
      " 2046748 2046766 2046853 2046856 2046907 2046909 2105651 2105661 2105662\n",
      " 2105669 2105676 2105677 2105679 2111224 2111225]\n",
      "Features mappées à [2 1 3] : [   1818   16318   16319 ... 2139148 2139150 2139151]\n",
      "Features mappées à [2 1 4] : [   1810    1811    1812 ... 2139310 2139315 2146417]\n",
      "Features mappées à [2 1 5] : [   1809    8341    8342 ... 2139161 2139232 2146416]\n",
      "Features mappées à [2 1 6] : [   1808    8340   13030 ... 2139162 2139164 2139165]\n",
      "Features mappées à [2 1 7] : [  18363   18364   18365 ... 2125508 2125509 2139094]\n",
      "Features mappées à [2 1 8] : [  18361   18362   19383   19386   19387   20217   20218   20219   20220\n",
      "   20221   20222   21945   21946   22535   22536   22537   22722   22723\n",
      "   22724   22725   22726   22727   22728   22729   26689  100731  100733\n",
      "  101979  101980  102942  102943  105503  106690  106691  106693  106694\n",
      "  106695  106696  106697  106698  107628  107645  107646  109638  110561\n",
      "  110562  110563  110564  110565  110566  110567  111313  111314  111315\n",
      "  111316  178742  178743  178744  178745  178746  178747  178748  179979\n",
      "  179980  179981  179982  179983  179984  179985  179986  179993  179994\n",
      "  179995  179996  179997  179998  179999  180010  180012  180016  180018\n",
      "  182913  182914  183787  183788  183789  183790  183791  183792  183793\n",
      "  183810  183811  183812  186224  186225  186226  187007  187008  187009\n",
      "  187010  187011  187012  187013  187014  187015  187016  187026  252757\n",
      "  252758  252759  253796  253801  253802  253803  253804  257690  258979\n",
      "  258980  258981  258982  258983  258984  262554  262555  262556  271742\n",
      "  351585  351587  351588  351589  351590  351591  351592  353317  353318\n",
      "  357708  357709  357710  357711  357712  357713  357714  357715  357716\n",
      "  357717  357718  357719  357720  359071  359072  359073  359074  359075\n",
      "  359076  359077  359078  359079  359080  363282  363283  363284  363285\n",
      "  363286  363287  363296  364721  364722  364723  364724  364725  364726\n",
      "  364727  364728  364729  364730  370887  442043  443184  444198  446392\n",
      "  446393  446394  446395  446396  450539  450540  450541  450542  450562\n",
      "  451464  451465  451466  451606  451607  451608  451609  451610  451611\n",
      "  451612  451613  451614  451615  451616  451617  451618  452519  452520\n",
      "  452521  452522  452523  452526  452527  602347  603868  603869  603876\n",
      "  603878  608957  608958  608959  608960  608977  609992  609996  609997\n",
      "  609998  609999  610000  610016  612374  612375  613480  613481  613482\n",
      "  613483  613484  613510  627143  700218  700220  700222  703803  704985\n",
      "  704986  704987  704988  704989  704990  709285  787848  787849  787850\n",
      "  791554  791558  791559  791560  791561  791562  791563  793630  793631\n",
      "  793632  793633  793640  793641  794451  794602  795402  795403  795404\n",
      "  795406  795407  795408  877632  877633  879713  879726  879912  879913\n",
      "  879914  879915  879916  879917  879918  879919  879920  879921  879922\n",
      "  879923  879924  879925  879926  879927  879928  879929  879930  879936\n",
      "  879937  879938  879939  879940  879941  881976  881979  881980  881981\n",
      "  881982  881983  881984  881985  881986  881987  881988  881989  881990\n",
      "  881992  881993  881994  881995  881996  887749  887750  887751  887756\n",
      "  887757  887758  887759  887760  889658  889659  889660  889661  889663\n",
      "  889666  889667  889668  889669  889670  889671  889673  889675  889676\n",
      "  889677  889678  889679  889680  895087  895088  895089  895090  895093\n",
      "  896881  896882  896884  896885  896888  896889  896890  896891  896892\n",
      "  896893  896894  896895  896896  896897  896898  896899  896900  986569\n",
      "  986570  987659  987660  987661  987822  987835  987836  987837  987838\n",
      "  987839  987840  987841  988900  988901  988902  988903  988904  988905\n",
      "  988906  992539  992552  992553  992554  992555  993531  993532  993533\n",
      "  993534  993535  993536  993537  993538  993539  993542  993543  993544\n",
      "  996260  996261  996262  996263  996264  996265  996266  996267  996268\n",
      "  996269  997390  997391  997397  997549  997550  997551  997552  997553\n",
      "  997554  997555  997563  998646  998647  998648  998649  998650  998651\n",
      "  998652  998653  998654  998655  998656  998657  998658  998659  998660\n",
      "  998661  998662  998663  998664  998665  998666  998667  998668  998669\n",
      "  998670  998671  998672  998673  998674 1005152 1005153 1005793 1075496\n",
      " 1076707 1076708 1076709 1076710 1076711 1076712 1076713 1076714 1076715\n",
      " 1080943 1080944 1080945 1080947 1080948 1080956 1080957 1080960 1080962\n",
      " 1080963 1083866 1083867 1083868 1166330 1166331 1166333 1166336 1167782\n",
      " 1167784 1167785 1167787 1167788 1167789 1167995 1167996 1167997 1167998\n",
      " 1167999 1168000 1168001 1168002 1168003 1168004 1168005 1168006 1168007\n",
      " 1168008 1168009 1169418 1169419 1169420 1169421 1169422 1169423 1169424\n",
      " 1169425 1169426 1169427 1169428 1169429 1169430 1169431 1169432 1169433\n",
      " 1169434 1169435 1177411 1177412 1177413 1177414 1184207 1184208 1266758\n",
      " 1266914 1266915 1266916 1266917 1266918 1266919 1266920 1266921 1266922\n",
      " 1266924 1266925 1266926 1266927 1266928 1266929 1267735 1267736 1267737\n",
      " 1267738 1269605 1269606 1270460 1270461 1270462 1270463 1270464 1270465\n",
      " 1270466 1270467 1270468 1270469 1270470 1270471 1270472 1271173 1273155\n",
      " 1273167 1274095 1274096 1274097 1274098 1274099 1274100 1274101 1274102\n",
      " 1274103 1274104 1274109 1274857 1274858 1274872 1347120 1347121 1347122\n",
      " 1347123 1347124 1347125 1347126 1347127 1347128 1347129 1347130 1347131\n",
      " 1347132 1347133 1347151 1347164 1347165 1349723 1349724 1352502 1353610\n",
      " 1353803 1353804 1353805 1353806 1353807 1353808 1354902 1354903 1354904\n",
      " 1357818 1357819 1360363 1360364 1360365 1437864 1437866 1438735 1438736\n",
      " 1438914 1438940 1438941 1439764 1439765 1439766 1439767 1439768 1439773\n",
      " 1439775 1439776 1439777 1439778 1439779 1439780 1443018 1443019 1443020\n",
      " 1443021 1443042 1443043 1443044 1443045 1443046 1443047 1443048 1443853\n",
      " 1443854 1443857 1443858 1443859 1445945 1446892 1446916 1446921 1446923\n",
      " 1446925 1521522 1521523 1521524 1521525 1521526 1521527 1521528 1522773\n",
      " 1522775 1522776 1522777 1522778 1522779 1522780 1522781 1522782 1522783\n",
      " 1522784 1522785 1522786 1528521 1528522 1533066 1533067 1533068 1533070\n",
      " 1533079 1580175 1580176 1580177 1580178 1580179 1580180 1580189 1580190\n",
      " 1610158 1610159 1610160 1610161 1610169 1618985 1618986 1618987 1618988\n",
      " 1618989 1618990 1618991 1632041 1696208 1696209 1696210 1696211 1696212\n",
      " 1700825 1700826 1700827 1700828 1700830 1700831 1705349 1705350 1705351\n",
      " 1705528 1705529 1705530 1705531 1705532 1705533 1705534 1705555 1705569\n",
      " 1706490 1706491 1706492 1706500 1706501 1706502 1706503 1706504 1706505\n",
      " 1706506 1706507 1787761 1787762 1787763 1787764 1787765 1787766 1787767\n",
      " 1787768 1787769 1787770 1787771 1787772 1787773 1789288 1789290 1789291\n",
      " 1789292 1789293 1789296 1789297 1789298 1953373 1954204 1954205 1954206\n",
      " 1954207 1957550 1957552 1957713 1958646 1958647 1958648 1958649 1958650\n",
      " 1958652 1958653 1958654 1958655 1958656 1958657 1958658 1958659 1961573\n",
      " 2027479 2027481 2027486 2027487 2027493 2027494 2028398 2028400 2028401\n",
      " 2028402 2028404 2028408 2028409 2028410 2028411 2028412 2028413 2028414\n",
      " 2031617 2031618 2031619 2031620 2031622 2031623 2031624 2031625 2031626\n",
      " 2031630 2032463 2032468 2032469 2032470 2032471 2032472 2035320 2035321\n",
      " 2035322 2035323 2035324 2035325 2035326 2035327 2035328 2035329 2035331\n",
      " 2035333 2035334 2114125 2114129 2115509 2115510 2115511 2115512 2115513\n",
      " 2115514 2115515 2115516 2115519 2115520 2119210 2119211 2119212 2119213\n",
      " 2119214 2119215 2119216 2119217 2119218 2119219 2119220 2119221 2119222\n",
      " 2119223 2119224 2119225 2119227 2119228 2120402 2120403 2120404 2120405\n",
      " 2120406 2124179 2124180 2124181 2124182 2124183 2124184 2124187 2124188\n",
      " 2124189 2124192 2125510 2125511 2125512 2125513 2125514 2125515]\n",
      "Features mappées à [2 2 2] : [1148038 1148041 2040509 2099812]\n",
      "Features mappées à [2 2 3] : [ 626106  626107  626871  626872  626873  626874  626875  627030 1148027\n",
      " 1148028 1148031 1148032 1148033 1148034 1148035 1148036 1148037 1624879\n",
      " 1966836 1970196 1970197 1970198 2040510 2040511 2099813 2099815 2099833\n",
      " 2111202 2111203 2111204]\n",
      "Features mappées à [2 2 4] : [ 371283  626108  626389  626390 1004565 1624380 1624381 1624382 1624383\n",
      " 1624696 1806888 1806935 1807010 1807318 1970185 1970195 1970205 1970206\n",
      " 1970207 1970208 1972222 1972231 2039717 2040107 2040345 2046623 2047058\n",
      " 2052942 2052943 2052944 2052945 2052946 2052947 2052959 2099814 2099816\n",
      " 2099826 2099832 2099834 2099862 2099863 2099865 2099866 2099869 2099874\n",
      " 2099875 2099877 2099878 2099879 2099880 2099881 2099888 2099891 2099892\n",
      " 2099893 2099894 2099895 2099896 2099897 2111205 2111206 2111207 2111208]\n",
      "Features mappées à [2 2 5] : [ 531350  531353  531574  531577  626109  805313 1004564 1004566 1004572\n",
      " 1004623 1004637 1005264 1148062 1148063 1148064 1148065 1148066 1148067\n",
      " 1148068 1148070 1148071 1148072 1148073 1148074 1148075 1148076 1271149\n",
      " 1271150 1271151 1271154 1271155 1271156 1624376 1624377 1625871 1625876\n",
      " 1626014 1695054 1695055 1695056 1699655 1699656 1699657 1806889 1806890\n",
      " 1806895 1806923 1807019 1807045 1807467 1807523 1807782 1807960 1808261\n",
      " 1814933 1821490 1822309 1970183 1970184 1970199 1970203 1970204 1976955\n",
      " 2040104 2040248 2052949 2052950 2099828 2099871 2099876 2099883 2099884\n",
      " 2099885 2099890 2099899]\n",
      "Features mappées à [2 2 6] : [ 106467  106468  531351  531352  531573  626113 1004595 1004624 1004625\n",
      " 1004636 1148069 1266746 1266747 1267728 1270297 1270298 1270299 1270300\n",
      " 1270302 1271147 1271148 1271157 1271158 1437876 1437877 1442002 1442003\n",
      " 1442004 1442005 1442006 1442007 1442009 1445957 1445958 1445959 1445960\n",
      " 1445961 1625800 1632073 1632074 1632142 1695050 1695051 1695052 1695053\n",
      " 1699648 1699649 1699650 1699651 1699652 1699653 1699654 1704365 1704366\n",
      " 1704367 1704368 1704369 1704370 1704371 1704372 1704373 1704374 1704375\n",
      " 1806788 1806789 1807041 1807169 1815213 1821424 1821588 1821752 1821805\n",
      " 1891325 1952371 1952376 1952377 1952378 1952379 1952380 1952381 1952382\n",
      " 1952383 1952384 1953383 1953384 1953385 1953386 1953387 1953388 1953389\n",
      " 1953390 1953391 1953392 1956604 1956605 1956607 1956608 1956609 1956610\n",
      " 1956611 1956612 1956613 1956614 1956615 1957724 1970201 2040258 2040331\n",
      " 2040394 2046428 2099829 2114141 2114142]\n",
      "Features mappées à [2 2 7] : [ 106469  106470  106471  531578  790632  790633  790634  790635  790636\n",
      "  790637  879710 1267729 1267730 1267731 1267732 1267733 1352508 1352509\n",
      " 1352510 1352511 1352512 1352513 1352514 1352515 1352516 1352517 1352518\n",
      " 1352519 1352520 1357829 1357832 1437869 1437870 1437871 1437872 1437873\n",
      " 1437874 1437875 1438918 1438919 1438920 1438921 1438922 1438923 1438924\n",
      " 1438925 1438926 1438927 1438928 1438929 1441995 1441996 1441997 1441998\n",
      " 1441999 1442000 1442001 1442008 1443022 1443023 1443024 1443025 1443026\n",
      " 1443027 1443028 1443029 1443030 1443031 1443032 1443033 1443034 1443035\n",
      " 1443036 1443037 1445950 1445951 1445952 1445953 1445954 1445955 1445956\n",
      " 1446894 1446895 1446896 1446897 1446898 1446899 1446900 1446901 1446903\n",
      " 1446904 1446905 1446906 1446907 1446909 1695047 1695048 1695049 1696215\n",
      " 1696216 1696217 1696218 1696219 1696220 1699644 1699645 1699646 1699647\n",
      " 1700834 1700835 1700836 1700837 1704362 1704363 1704364 1705536 1705537\n",
      " 1705538 1705539 1705540 1705541 1705542 1705543 1806891 1953382 1956602\n",
      " 1957721 1957722 1957723 1970202 2026372 2114137 2114138 2114139 2114140]\n",
      "Features mappées à [2 2 8] : [ 877634 1437865 1437867 1437868 1438915 1438916 1438917 1445947 1445949\n",
      " 1700832 1700833 2115518]\n"
     ]
    }
   ],
   "source": [
    "for coord in duplicate_coords:\n",
    "    # Trouver les indices des features qui ont été mappées à ces coordonnées\n",
    "    features_at_coord = np.where((grid_coords == coord).all(axis=1))[0]\n",
    "    print(f\"Features mappées à {coord} : {features_at_coord}\")\n"
   ],
   "metadata": {
    "collapsed": false,
    "ExecuteTime": {
     "end_time": "2023-12-09T18:08:45.666261800Z",
     "start_time": "2023-12-09T18:08:45.023003Z"
    }
   },
   "id": "e7c62f3b2677c076"
  },
  {
   "cell_type": "code",
   "execution_count": 92,
   "outputs": [
    {
     "name": "stderr",
     "output_type": "stream",
     "text": [
      "IOPub data rate exceeded.\n",
      "The notebook server will temporarily stop sending output\n",
      "to the client in order to avoid crashing it.\n",
      "To change this limit, set the config variable\n",
      "`--NotebookApp.iopub_data_rate_limit`.\n",
      "\n",
      "Current values:\n",
      "NotebookApp.iopub_data_rate_limit=1000000.0 (bytes/sec)\n",
      "NotebookApp.rate_limit_window=3.0 (secs)\n",
      "\n"
     ]
    }
   ],
   "source": [
    "feature_to_grid = {}\n",
    "for feature_idx, coord in enumerate(grid_coords):\n",
    "    coord_tuple = tuple(coord)\n",
    "    if coord_tuple not in feature_to_grid:\n",
    "        feature_to_grid[coord_tuple] = []\n",
    "    feature_to_grid[coord_tuple].append(feature_idx)\n",
    "\n",
    "# Identifier les coordonnées avec des doublons\n",
    "for coord, features in feature_to_grid.items():\n",
    "    if len(features) > 1:\n",
    "        print(f\"Coordonnées {coord} ont les features {features}\")\n"
   ],
   "metadata": {
    "collapsed": false,
    "ExecuteTime": {
     "end_time": "2023-12-09T18:12:53.066901200Z",
     "start_time": "2023-12-09T18:12:34.237174900Z"
    }
   },
   "id": "92e448a9ded55c5d"
  },
  {
   "cell_type": "code",
   "execution_count": null,
   "outputs": [],
   "source": [],
   "metadata": {
    "collapsed": false
   },
   "id": "c01fda5b969fdbab"
  },
  {
   "cell_type": "code",
   "execution_count": 72,
   "outputs": [],
   "source": [
    "depth, height, width = 3, 3, 11\n",
    "\n",
    "# Nombre de canaux (supposons 3 pour x, y, z)\n",
    "num_channels = 3\n",
    "\n",
    "# Nombre d'échantillons\n",
    "num_samples = 2183099\n",
    "\n",
    "# Initialiser un tenseur vide\n",
    "grid_tensor = torch.zeros((num_samples, num_channels, depth, height, width))"
   ],
   "metadata": {
    "collapsed": false,
    "ExecuteTime": {
     "end_time": "2023-12-09T17:46:38.497639300Z",
     "start_time": "2023-12-09T17:46:34.199854900Z"
    }
   },
   "id": "9f71b414998d3db0"
  },
  {
   "cell_type": "code",
   "execution_count": 73,
   "outputs": [],
   "source": [
    "# Parcourir chaque feature et placer ses valeurs dans le tenseur\n",
    "for feature_idx in range(33):  # Supposons que vous avez 33 features\n",
    "    # Coordonnées normalisées et arrondies pour la feature actuelle\n",
    "    d, h, w = grid_coords[feature_idx]\n",
    "\n",
    "    # Assurer que les indices sont dans les limites de la grille\n",
    "    d, h, w = np.clip([d, h, w], 0, [depth - 1, height - 1, width - 1])\n",
    "\n",
    "    # Placer les valeurs de la feature dans le tenseur\n",
    "    # Ici, cols_x, cols_y, cols_z sont les noms des colonnes dans X pour chaque coordonnée\n",
    "    grid_tensor[:, 0, d, h, w] = torch.tensor(X[cols_x[feature_idx]].values)\n",
    "    grid_tensor[:, 1, d, h, w] = torch.tensor(X[cols_y[feature_idx]].values)\n",
    "    grid_tensor[:, 2, d, h, w] = torch.tensor(X[cols_z[feature_idx]].values)\n"
   ],
   "metadata": {
    "collapsed": false,
    "ExecuteTime": {
     "end_time": "2023-12-09T17:47:09.929932400Z",
     "start_time": "2023-12-09T17:46:38.499639800Z"
    }
   },
   "id": "7d54d87b1d4102ef"
  },
  {
   "cell_type": "code",
   "execution_count": 79,
   "outputs": [
    {
     "name": "stdout",
     "output_type": "stream",
     "text": [
      "Feature 0: Coordonnées dans la grille - Profondeur: 1, Hauteur: 1, Largeur: 4\n",
      "Feature 1: Coordonnées dans la grille - Profondeur: 1, Hauteur: 1, Largeur: 4\n",
      "Feature 2: Coordonnées dans la grille - Profondeur: 1, Hauteur: 1, Largeur: 4\n",
      "Feature 3: Coordonnées dans la grille - Profondeur: 1, Hauteur: 1, Largeur: 4\n",
      "Feature 4: Coordonnées dans la grille - Profondeur: 1, Hauteur: 1, Largeur: 4\n",
      "tensor([-0.0666, -0.6007, -0.5928])\n"
     ]
    }
   ],
   "source": [
    "for feature_idx in range(5):  # Vérifier les 5 premières features\n",
    "    d, h, w = grid_coords[feature_idx]\n",
    "    print(f\"Feature {feature_idx}: Coordonnées dans la grille - Profondeur: {d}, Hauteur: {h}, Largeur: {w}\")\n",
    "\n",
    "sample_idx = 0  # Index d'un échantillon\n",
    "d, h, w = 1, 1, 4  # Choisissez une position spécifique dans la grille\n",
    "print(grid_tensor[sample_idx, :, d, h, w])  # Affiche les valeurs x, y, z à cette position\n"
   ],
   "metadata": {
    "collapsed": false,
    "ExecuteTime": {
     "end_time": "2023-12-09T17:58:15.930673800Z",
     "start_time": "2023-12-09T17:58:15.902083200Z"
    }
   },
   "id": "17d18e143a9043e8"
  },
  {
   "cell_type": "code",
   "execution_count": 85,
   "outputs": [
    {
     "name": "stdout",
     "output_type": "stream",
     "text": [
      "(2183099, 3)\n"
     ]
    }
   ],
   "source": [
    "print(grid_coords.shape)"
   ],
   "metadata": {
    "collapsed": false,
    "ExecuteTime": {
     "end_time": "2023-12-09T18:04:07.791064600Z",
     "start_time": "2023-12-09T18:04:07.734496Z"
    }
   },
   "id": "33bd5c3b69b59fc2"
  },
  {
   "cell_type": "code",
   "execution_count": 80,
   "outputs": [
    {
     "name": "stdout",
     "output_type": "stream",
     "text": [
      "Coordonnées normalisées et arrondies de la première feature : Profondeur: 1, Hauteur: 1, Largeur: 4\n"
     ]
    }
   ],
   "source": [
    "# Coordonnées normalisées et arrondies pour la première feature\n",
    "d, h, w = grid_coords[0]\n",
    "print(f\"Coordonnées normalisées et arrondies de la première feature : Profondeur: {d}, Hauteur: {h}, Largeur: {w}\")\n"
   ],
   "metadata": {
    "collapsed": false,
    "ExecuteTime": {
     "end_time": "2023-12-09T17:58:24.206224200Z",
     "start_time": "2023-12-09T17:58:24.189525700Z"
    }
   },
   "id": "f861807f02965567"
  },
  {
   "cell_type": "code",
   "execution_count": 81,
   "outputs": [
    {
     "name": "stdout",
     "output_type": "stream",
     "text": [
      "Valeurs de la première feature dans le tenseur : tensor([[-0.0666, -0.6007, -0.5928],\n",
      "        [-0.0665, -0.6008, -0.5909],\n",
      "        [-0.0657, -0.6004, -0.5909],\n",
      "        ...,\n",
      "        [-0.6179, -0.5307, -0.1396],\n",
      "        [-0.6172, -0.5295, -0.1397],\n",
      "        [-0.6170, -0.5290, -0.1410]])\n"
     ]
    }
   ],
   "source": [
    "# Assurez-vous que les indices sont dans les limites de la grille\n",
    "d, h, w = np.clip([d, h, w], 0, [depth - 1, height - 1, width - 1])\n",
    "\n",
    "# Récupérer les valeurs de la première feature dans le tenseur\n",
    "feature_values = grid_tensor[:, :, d, h, w]\n",
    "print(f\"Valeurs de la première feature dans le tenseur : {feature_values}\")\n"
   ],
   "metadata": {
    "collapsed": false,
    "ExecuteTime": {
     "end_time": "2023-12-09T17:58:32.500065500Z",
     "start_time": "2023-12-09T17:58:32.455643800Z"
    }
   },
   "id": "20bad2841b379cce"
  },
  {
   "cell_type": "code",
   "execution_count": 82,
   "outputs": [
    {
     "name": "stdout",
     "output_type": "stream",
     "text": [
      "Valeurs originales de la première feature dans X :    left_ankle_x  left_ankle_y  left_ankle_z\n",
      "0      0.009328      0.779305      0.187880\n",
      "1      0.009353      0.779298      0.185050\n",
      "2      0.009722      0.779311      0.179212\n",
      "3      0.011696      0.778027      0.166566\n",
      "4      0.011671      0.778045      0.166878\n"
     ]
    }
   ],
   "source": [
    "# Valeurs originales de la première feature dans X\n",
    "original_values = X.iloc[:, :3]  # Supposant que les 3 premières colonnes sont x, y, z de la première feature\n",
    "print(f\"Valeurs originales de la première feature dans X : {original_values.head()}\")\n"
   ],
   "metadata": {
    "collapsed": false,
    "ExecuteTime": {
     "end_time": "2023-12-09T17:59:35.759466100Z",
     "start_time": "2023-12-09T17:59:35.686585800Z"
    }
   },
   "id": "f95f4ac6d01de5ef"
  },
  {
   "cell_type": "code",
   "execution_count": 77,
   "outputs": [
    {
     "data": {
      "text/plain": "torch.Size([2183099, 3, 3, 3, 11])"
     },
     "execution_count": 77,
     "metadata": {},
     "output_type": "execute_result"
    }
   ],
   "source": [
    "grid_tensor.shape "
   ],
   "metadata": {
    "collapsed": false,
    "ExecuteTime": {
     "end_time": "2023-12-09T17:55:38.773636200Z",
     "start_time": "2023-12-09T17:55:38.710024900Z"
    }
   },
   "id": "87dc0166c2cfc6fc"
  },
  {
   "cell_type": "code",
   "execution_count": 35,
   "outputs": [
    {
     "name": "stdout",
     "output_type": "stream",
     "text": [
      "torch.Size([1746479, 3, 33, 1, 1])\n"
     ]
    }
   ],
   "source": [
    "Y_tensor_cnn = y_tensor\n",
    "X_train_cnn, X_test_cnn, Y_train_cnn, Y_test_cnn = train_test_split(tensor_5D, Y_tensor_cnn, test_size=0.2)\n",
    "X_train_cnn = X_train_cnn.permute(0, 2, 1, 3, 4)\n",
    "\n",
    "print(X_train_cnn.shape)\n",
    "dataset_train_cnn = TensorDataset(X_train_cnn, Y_train_cnn)\n",
    "trainLoader_cnn = DataLoader(dataset_train_cnn, batch_size=33, shuffle=True)\n",
    "dataset_test_cnn = TensorDataset(X_test_cnn, Y_test_cnn)\n",
    "testLoader_cnn = DataLoader(dataset_test_cnn, batch_size=32, shuffle=True)"
   ],
   "metadata": {
    "collapsed": false,
    "ExecuteTime": {
     "end_time": "2023-12-09T17:05:29.756184800Z",
     "start_time": "2023-12-09T17:04:52.356620800Z"
    }
   },
   "id": "4e149e138e325f36"
  },
  {
   "cell_type": "code",
   "execution_count": 45,
   "outputs": [
    {
     "ename": "KeyboardInterrupt",
     "evalue": "",
     "output_type": "error",
     "traceback": [
      "\u001B[1;31m---------------------------------------------------------------------------\u001B[0m",
      "\u001B[1;31mKeyboardInterrupt\u001B[0m                         Traceback (most recent call last)",
      "Cell \u001B[1;32mIn[45], line 10\u001B[0m\n\u001B[0;32m      8\u001B[0m \u001B[38;5;28;01mfor\u001B[39;00m inputs, labels \u001B[38;5;129;01min\u001B[39;00m trainLoader_cnn:\n\u001B[0;32m      9\u001B[0m     optimizer_cnn\u001B[38;5;241m.\u001B[39mzero_grad()            \n\u001B[1;32m---> 10\u001B[0m     outputs \u001B[38;5;241m=\u001B[39m modelCNN(inputs)          \n\u001B[0;32m     11\u001B[0m     loss \u001B[38;5;241m=\u001B[39m criterion_cnn(outputs, labels)  \n\u001B[0;32m     12\u001B[0m     loss\u001B[38;5;241m.\u001B[39mbackward()                    \n",
      "File \u001B[1;32m~\\anaconda3\\envs\\ADA\\Lib\\site-packages\\torch\\nn\\modules\\module.py:1518\u001B[0m, in \u001B[0;36mModule._wrapped_call_impl\u001B[1;34m(self, *args, **kwargs)\u001B[0m\n\u001B[0;32m   1516\u001B[0m     \u001B[38;5;28;01mreturn\u001B[39;00m \u001B[38;5;28mself\u001B[39m\u001B[38;5;241m.\u001B[39m_compiled_call_impl(\u001B[38;5;241m*\u001B[39margs, \u001B[38;5;241m*\u001B[39m\u001B[38;5;241m*\u001B[39mkwargs)  \u001B[38;5;66;03m# type: ignore[misc]\u001B[39;00m\n\u001B[0;32m   1517\u001B[0m \u001B[38;5;28;01melse\u001B[39;00m:\n\u001B[1;32m-> 1518\u001B[0m     \u001B[38;5;28;01mreturn\u001B[39;00m \u001B[38;5;28mself\u001B[39m\u001B[38;5;241m.\u001B[39m_call_impl(\u001B[38;5;241m*\u001B[39margs, \u001B[38;5;241m*\u001B[39m\u001B[38;5;241m*\u001B[39mkwargs)\n",
      "File \u001B[1;32m~\\anaconda3\\envs\\ADA\\Lib\\site-packages\\torch\\nn\\modules\\module.py:1527\u001B[0m, in \u001B[0;36mModule._call_impl\u001B[1;34m(self, *args, **kwargs)\u001B[0m\n\u001B[0;32m   1522\u001B[0m \u001B[38;5;66;03m# If we don't have any hooks, we want to skip the rest of the logic in\u001B[39;00m\n\u001B[0;32m   1523\u001B[0m \u001B[38;5;66;03m# this function, and just call forward.\u001B[39;00m\n\u001B[0;32m   1524\u001B[0m \u001B[38;5;28;01mif\u001B[39;00m \u001B[38;5;129;01mnot\u001B[39;00m (\u001B[38;5;28mself\u001B[39m\u001B[38;5;241m.\u001B[39m_backward_hooks \u001B[38;5;129;01mor\u001B[39;00m \u001B[38;5;28mself\u001B[39m\u001B[38;5;241m.\u001B[39m_backward_pre_hooks \u001B[38;5;129;01mor\u001B[39;00m \u001B[38;5;28mself\u001B[39m\u001B[38;5;241m.\u001B[39m_forward_hooks \u001B[38;5;129;01mor\u001B[39;00m \u001B[38;5;28mself\u001B[39m\u001B[38;5;241m.\u001B[39m_forward_pre_hooks\n\u001B[0;32m   1525\u001B[0m         \u001B[38;5;129;01mor\u001B[39;00m _global_backward_pre_hooks \u001B[38;5;129;01mor\u001B[39;00m _global_backward_hooks\n\u001B[0;32m   1526\u001B[0m         \u001B[38;5;129;01mor\u001B[39;00m _global_forward_hooks \u001B[38;5;129;01mor\u001B[39;00m _global_forward_pre_hooks):\n\u001B[1;32m-> 1527\u001B[0m     \u001B[38;5;28;01mreturn\u001B[39;00m forward_call(\u001B[38;5;241m*\u001B[39margs, \u001B[38;5;241m*\u001B[39m\u001B[38;5;241m*\u001B[39mkwargs)\n\u001B[0;32m   1529\u001B[0m \u001B[38;5;28;01mtry\u001B[39;00m:\n\u001B[0;32m   1530\u001B[0m     result \u001B[38;5;241m=\u001B[39m \u001B[38;5;28;01mNone\u001B[39;00m\n",
      "Cell \u001B[1;32mIn[41], line 11\u001B[0m, in \u001B[0;36mConvNeuralNetwork.forward\u001B[1;34m(self, x)\u001B[0m\n\u001B[0;32m      9\u001B[0m \u001B[38;5;28;01mdef\u001B[39;00m \u001B[38;5;21mforward\u001B[39m(\u001B[38;5;28mself\u001B[39m, x):\n\u001B[0;32m     10\u001B[0m     x \u001B[38;5;241m=\u001B[39m F\u001B[38;5;241m.\u001B[39mrelu(\u001B[38;5;28mself\u001B[39m\u001B[38;5;241m.\u001B[39mconv1(x))\n\u001B[1;32m---> 11\u001B[0m     x \u001B[38;5;241m=\u001B[39m F\u001B[38;5;241m.\u001B[39mrelu(\u001B[38;5;28mself\u001B[39m\u001B[38;5;241m.\u001B[39mconv2(x))\n\u001B[0;32m     12\u001B[0m     x \u001B[38;5;241m=\u001B[39m x\u001B[38;5;241m.\u001B[39mview(x\u001B[38;5;241m.\u001B[39msize(\u001B[38;5;241m0\u001B[39m),\u001B[38;5;241m-\u001B[39m\u001B[38;5;241m1\u001B[39m)\n\u001B[0;32m     13\u001B[0m     x \u001B[38;5;241m=\u001B[39m F\u001B[38;5;241m.\u001B[39mrelu(\u001B[38;5;28mself\u001B[39m\u001B[38;5;241m.\u001B[39mfc1(x))\n",
      "File \u001B[1;32m~\\anaconda3\\envs\\ADA\\Lib\\site-packages\\torch\\nn\\modules\\module.py:1518\u001B[0m, in \u001B[0;36mModule._wrapped_call_impl\u001B[1;34m(self, *args, **kwargs)\u001B[0m\n\u001B[0;32m   1516\u001B[0m     \u001B[38;5;28;01mreturn\u001B[39;00m \u001B[38;5;28mself\u001B[39m\u001B[38;5;241m.\u001B[39m_compiled_call_impl(\u001B[38;5;241m*\u001B[39margs, \u001B[38;5;241m*\u001B[39m\u001B[38;5;241m*\u001B[39mkwargs)  \u001B[38;5;66;03m# type: ignore[misc]\u001B[39;00m\n\u001B[0;32m   1517\u001B[0m \u001B[38;5;28;01melse\u001B[39;00m:\n\u001B[1;32m-> 1518\u001B[0m     \u001B[38;5;28;01mreturn\u001B[39;00m \u001B[38;5;28mself\u001B[39m\u001B[38;5;241m.\u001B[39m_call_impl(\u001B[38;5;241m*\u001B[39margs, \u001B[38;5;241m*\u001B[39m\u001B[38;5;241m*\u001B[39mkwargs)\n",
      "File \u001B[1;32m~\\anaconda3\\envs\\ADA\\Lib\\site-packages\\torch\\nn\\modules\\module.py:1527\u001B[0m, in \u001B[0;36mModule._call_impl\u001B[1;34m(self, *args, **kwargs)\u001B[0m\n\u001B[0;32m   1522\u001B[0m \u001B[38;5;66;03m# If we don't have any hooks, we want to skip the rest of the logic in\u001B[39;00m\n\u001B[0;32m   1523\u001B[0m \u001B[38;5;66;03m# this function, and just call forward.\u001B[39;00m\n\u001B[0;32m   1524\u001B[0m \u001B[38;5;28;01mif\u001B[39;00m \u001B[38;5;129;01mnot\u001B[39;00m (\u001B[38;5;28mself\u001B[39m\u001B[38;5;241m.\u001B[39m_backward_hooks \u001B[38;5;129;01mor\u001B[39;00m \u001B[38;5;28mself\u001B[39m\u001B[38;5;241m.\u001B[39m_backward_pre_hooks \u001B[38;5;129;01mor\u001B[39;00m \u001B[38;5;28mself\u001B[39m\u001B[38;5;241m.\u001B[39m_forward_hooks \u001B[38;5;129;01mor\u001B[39;00m \u001B[38;5;28mself\u001B[39m\u001B[38;5;241m.\u001B[39m_forward_pre_hooks\n\u001B[0;32m   1525\u001B[0m         \u001B[38;5;129;01mor\u001B[39;00m _global_backward_pre_hooks \u001B[38;5;129;01mor\u001B[39;00m _global_backward_hooks\n\u001B[0;32m   1526\u001B[0m         \u001B[38;5;129;01mor\u001B[39;00m _global_forward_hooks \u001B[38;5;129;01mor\u001B[39;00m _global_forward_pre_hooks):\n\u001B[1;32m-> 1527\u001B[0m     \u001B[38;5;28;01mreturn\u001B[39;00m forward_call(\u001B[38;5;241m*\u001B[39margs, \u001B[38;5;241m*\u001B[39m\u001B[38;5;241m*\u001B[39mkwargs)\n\u001B[0;32m   1529\u001B[0m \u001B[38;5;28;01mtry\u001B[39;00m:\n\u001B[0;32m   1530\u001B[0m     result \u001B[38;5;241m=\u001B[39m \u001B[38;5;28;01mNone\u001B[39;00m\n",
      "File \u001B[1;32m~\\anaconda3\\envs\\ADA\\Lib\\site-packages\\torch\\nn\\modules\\conv.py:610\u001B[0m, in \u001B[0;36mConv3d.forward\u001B[1;34m(self, input)\u001B[0m\n\u001B[0;32m    609\u001B[0m \u001B[38;5;28;01mdef\u001B[39;00m \u001B[38;5;21mforward\u001B[39m(\u001B[38;5;28mself\u001B[39m, \u001B[38;5;28minput\u001B[39m: Tensor) \u001B[38;5;241m-\u001B[39m\u001B[38;5;241m>\u001B[39m Tensor:\n\u001B[1;32m--> 610\u001B[0m     \u001B[38;5;28;01mreturn\u001B[39;00m \u001B[38;5;28mself\u001B[39m\u001B[38;5;241m.\u001B[39m_conv_forward(\u001B[38;5;28minput\u001B[39m, \u001B[38;5;28mself\u001B[39m\u001B[38;5;241m.\u001B[39mweight, \u001B[38;5;28mself\u001B[39m\u001B[38;5;241m.\u001B[39mbias)\n",
      "File \u001B[1;32m~\\anaconda3\\envs\\ADA\\Lib\\site-packages\\torch\\nn\\modules\\conv.py:605\u001B[0m, in \u001B[0;36mConv3d._conv_forward\u001B[1;34m(self, input, weight, bias)\u001B[0m\n\u001B[0;32m    593\u001B[0m \u001B[38;5;28;01mif\u001B[39;00m \u001B[38;5;28mself\u001B[39m\u001B[38;5;241m.\u001B[39mpadding_mode \u001B[38;5;241m!=\u001B[39m \u001B[38;5;124m\"\u001B[39m\u001B[38;5;124mzeros\u001B[39m\u001B[38;5;124m\"\u001B[39m:\n\u001B[0;32m    594\u001B[0m     \u001B[38;5;28;01mreturn\u001B[39;00m F\u001B[38;5;241m.\u001B[39mconv3d(\n\u001B[0;32m    595\u001B[0m         F\u001B[38;5;241m.\u001B[39mpad(\n\u001B[0;32m    596\u001B[0m             \u001B[38;5;28minput\u001B[39m, \u001B[38;5;28mself\u001B[39m\u001B[38;5;241m.\u001B[39m_reversed_padding_repeated_twice, mode\u001B[38;5;241m=\u001B[39m\u001B[38;5;28mself\u001B[39m\u001B[38;5;241m.\u001B[39mpadding_mode\n\u001B[1;32m   (...)\u001B[0m\n\u001B[0;32m    603\u001B[0m         \u001B[38;5;28mself\u001B[39m\u001B[38;5;241m.\u001B[39mgroups,\n\u001B[0;32m    604\u001B[0m     )\n\u001B[1;32m--> 605\u001B[0m \u001B[38;5;28;01mreturn\u001B[39;00m F\u001B[38;5;241m.\u001B[39mconv3d(\n\u001B[0;32m    606\u001B[0m     \u001B[38;5;28minput\u001B[39m, weight, bias, \u001B[38;5;28mself\u001B[39m\u001B[38;5;241m.\u001B[39mstride, \u001B[38;5;28mself\u001B[39m\u001B[38;5;241m.\u001B[39mpadding, \u001B[38;5;28mself\u001B[39m\u001B[38;5;241m.\u001B[39mdilation, \u001B[38;5;28mself\u001B[39m\u001B[38;5;241m.\u001B[39mgroups\n\u001B[0;32m    607\u001B[0m )\n",
      "\u001B[1;31mKeyboardInterrupt\u001B[0m: "
     ]
    }
   ],
   "source": [
    "num_epochs = 4  # ou le nombre d'époques souhaité\n",
    "modelCNN.train()\n",
    "\n",
    "for epoch in range(num_epochs):\n",
    "    running_loss = 0.0\n",
    "    total_train = 0\n",
    "    correct_train = 0\n",
    "    for inputs, labels in trainLoader_cnn:\n",
    "        optimizer_cnn.zero_grad()            \n",
    "        outputs = modelCNN(inputs)          \n",
    "        loss = criterion_cnn(outputs, labels)  \n",
    "        loss.backward()                    \n",
    "        optimizer_cnn.step()\n",
    "        _, predicted = torch.max(outputs.data, 1)\n",
    "        running_loss += loss.item()\n",
    "        total_train += labels.size(0)\n",
    "        correct_train += (predicted == labels).sum().item()\n",
    "        if scheduler_cnn:\n",
    "            scheduler_cnn.step()\n",
    "    epoch_accuracy = 100 * correct_train / total_train\n",
    "    print(f\"Epuch {epoch + 1}/{num_epochs}, Loss : {running_loss / len(trainLoader_cnn)},  Accuracy: {epoch_accuracy:.2f}%'\")\n"
   ],
   "metadata": {
    "collapsed": false,
    "ExecuteTime": {
     "end_time": "2023-12-09T17:22:31.209178Z",
     "start_time": "2023-12-09T17:18:58.113958600Z"
    }
   },
   "id": "41e1df69c80fc79c"
  },
  {
   "cell_type": "code",
   "execution_count": 6,
   "outputs": [],
   "source": [
    "def map_to_grid(x, y, z, grid_size, min_vals, max_vals):\n",
    "    x_norm = (x - min_vals[0]) / (max_vals[0] - min_vals[0])\n",
    "    y_norm = (y - min_vals[1]) / (max_vals[1] - min_vals[1])\n",
    "    z_norm = (z - min_vals[2]) / (max_vals[2] - min_vals[2])\n",
    "\n",
    "    x_idx = np.clip((x_norm * grid_size).astype(int), 0, grid_size - 1)\n",
    "    y_idx = np.clip((y_norm * grid_size).astype(int), 0, grid_size - 1)\n",
    "    z_idx = np.clip((z_norm * grid_size).astype(int), 0, grid_size - 1)\n",
    "\n",
    "\n",
    "    return x_idx, y_idx, z_idx\n"
   ],
   "metadata": {
    "collapsed": false,
    "ExecuteTime": {
     "end_time": "2023-12-09T15:48:35.113903200Z",
     "start_time": "2023-12-09T15:48:31.170362100Z"
    }
   },
   "id": "b245447cf86a762"
  },
  {
   "cell_type": "code",
   "execution_count": 8,
   "outputs": [
    {
     "name": "stdout",
     "output_type": "stream",
     "text": [
      "(2183099, 33)\n"
     ]
    }
   ],
   "source": [
    "print(x_idx.shape)\n"
   ],
   "metadata": {
    "collapsed": false,
    "ExecuteTime": {
     "end_time": "2023-12-09T15:49:14.080241400Z",
     "start_time": "2023-12-09T15:49:13.973966Z"
    }
   },
   "id": "26b8a74ebaf6fddc"
  },
  {
   "cell_type": "code",
   "execution_count": 10,
   "outputs": [
    {
     "name": "stdout",
     "output_type": "stream",
     "text": [
      "2183099\n"
     ]
    },
    {
     "ename": "RuntimeError",
     "evalue": "[enforce fail at alloc_cpu.cpp:80] data. DefaultCPUAllocator: not enough memory: you tried to allocate 26197188000000 bytes.",
     "output_type": "error",
     "traceback": [
      "\u001B[1;31m---------------------------------------------------------------------------\u001B[0m",
      "\u001B[1;31mRuntimeError\u001B[0m                              Traceback (most recent call last)",
      "Cell \u001B[1;32mIn[10], line 6\u001B[0m\n\u001B[0;32m      4\u001B[0m num_inputs \u001B[38;5;241m=\u001B[39m X\u001B[38;5;241m.\u001B[39mshape[\u001B[38;5;241m0\u001B[39m]\n\u001B[0;32m      5\u001B[0m \u001B[38;5;28mprint\u001B[39m(num_inputs)\n\u001B[1;32m----> 6\u001B[0m grid_tensor \u001B[38;5;241m=\u001B[39m torch\u001B[38;5;241m.\u001B[39mzeros((num_inputs, depth, height, width, num_features), dtype \u001B[38;5;241m=\u001B[39m torch\u001B[38;5;241m.\u001B[39mfloat32)\n",
      "\u001B[1;31mRuntimeError\u001B[0m: [enforce fail at alloc_cpu.cpp:80] data. DefaultCPUAllocator: not enough memory: you tried to allocate 26197188000000 bytes."
     ]
    }
   ],
   "source": [
    "depth, height, width = 100, 100, 100\n",
    "\n",
    "num_features = 3\n",
    "num_inputs = X.shape[0]\n",
    "print(num_inputs)\n",
    "grid_tensor = torch.zeros((num_inputs, depth, height, width, num_features), dtype = torch.float32)"
   ],
   "metadata": {
    "collapsed": false,
    "ExecuteTime": {
     "end_time": "2023-12-09T15:51:59.812042600Z",
     "start_time": "2023-12-09T15:51:59.167053600Z"
    }
   },
   "id": "a835f3cc38d0261a"
  },
  {
   "cell_type": "code",
   "execution_count": null,
   "outputs": [],
   "source": [
    "print(grid_tensor.shape)\n",
    "\n",
    "for i in range(2183099):  # Pour chaque enregistrement\n",
    "    for j in range(33):   # Pour chaque feature\n",
    "        d, h, w = x_idx[i, j], y_idx[i, j], z_idx[i, j]\n",
    "        # Assurez-vous que les indices sont dans les limites de la grille\n",
    "        d, h, w = np.clip([d, h, w], 0, [depth - 1, height - 1, width - 1])\n",
    "        # Extraire les valeurs x, y, z pour la feature\n",
    "        val_x = X[cols_x].iloc[i, j]\n",
    "        val_y = X[cols_y].iloc[i, j]\n",
    "        val_z = X[cols_z].iloc[i, j]\n",
    "        # Placer les valeurs dans le tenseur\n",
    "        grid_tensor[i, d, h, w, :] = torch.tensor([val_x, val_y, val_z])"
   ],
   "metadata": {
    "collapsed": false,
    "ExecuteTime": {
     "start_time": "2023-12-09T15:49:18.143545600Z"
    }
   },
   "id": "4fa050f60871df0"
  },
  {
   "cell_type": "code",
   "execution_count": 13,
   "outputs": [
    {
     "ename": "NameError",
     "evalue": "name 'Dataset' is not defined",
     "output_type": "error",
     "traceback": [
      "\u001B[1;31m---------------------------------------------------------------------------\u001B[0m",
      "\u001B[1;31mNameError\u001B[0m                                 Traceback (most recent call last)",
      "Cell \u001B[1;32mIn[13], line 1\u001B[0m\n\u001B[1;32m----> 1\u001B[0m \u001B[38;5;28;01mclass\u001B[39;00m \u001B[38;5;21;01mCustomDataset\u001B[39;00m(Dataset):\n\u001B[0;32m      2\u001B[0m     \u001B[38;5;28;01mdef\u001B[39;00m \u001B[38;5;21m__init__\u001B[39m(\u001B[38;5;28mself\u001B[39m, grid_tensor, labels):\n\u001B[0;32m      3\u001B[0m         \u001B[38;5;28mself\u001B[39m\u001B[38;5;241m.\u001B[39mgrid_tensor \u001B[38;5;241m=\u001B[39m grid_tensor\n",
      "\u001B[1;31mNameError\u001B[0m: name 'Dataset' is not defined"
     ]
    }
   ],
   "source": [
    "class CustomDataset(Dataset):\n",
    "    def __init__(self, grid_tensor, labels):\n",
    "        self.grid_tensor = grid_tensor\n",
    "        self.labels = labels\n",
    "\n",
    "    def __len__(self):\n",
    "        return len(self.grid_tensor)\n",
    "\n",
    "    def __getitem__(self, idx):\n",
    "        return self.grid_tensor[idx], self.labels[idx]\n",
    "\n",
    "# Créer une instance du dataset\n",
    "dataset = CustomDataset(grid_tensor, labels)\n",
    "\n",
    "# Créer un DataLoader\n",
    "data_loader = DataLoader(dataset, batch_size=32, shuffle=True)"
   ],
   "metadata": {
    "collapsed": false,
    "ExecuteTime": {
     "end_time": "2023-12-09T15:26:02.502726900Z",
     "start_time": "2023-12-09T15:26:02.447962600Z"
    }
   },
   "id": "2fe1654ed255811"
  }
 ],
 "metadata": {
  "kernelspec": {
   "display_name": "Python 3",
   "language": "python",
   "name": "python3"
  },
  "language_info": {
   "codemirror_mode": {
    "name": "ipython",
    "version": 2
   },
   "file_extension": ".py",
   "mimetype": "text/x-python",
   "name": "python",
   "nbconvert_exporter": "python",
   "pygments_lexer": "ipython2",
   "version": "2.7.6"
  }
 },
 "nbformat": 4,
 "nbformat_minor": 5
}
