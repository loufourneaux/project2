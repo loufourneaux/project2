{
 "cells": [
  {
   "cell_type": "code",
   "execution_count": 1,
   "metadata": {
    "ExecuteTime": {
     "end_time": "2023-12-05T20:16:45.806439900Z",
     "start_time": "2023-12-05T20:16:40.459717Z"
    }
   },
   "outputs": [],
   "source": [
    "import pandas as pd\n",
    "import torch\n",
    "import torch.nn as nn\n",
    "import matplotlib.pyplot as plt\n",
    "import torch.optim as optim\n",
    "from torch.utils.data import DataLoader, TensorDataset\n",
    "from sklearn.model_selection import train_test_split\n",
    "from sklearn.preprocessing import StandardScaler\n",
    "from sklearn.preprocessing import LabelEncoder\n",
    "from sklearn.metrics import confusion_matrix\n",
    "from sklearn.metrics import classification_report\n",
    "import seaborn as sns"
   ]
  },
  {
   "cell_type": "code",
   "execution_count": 2,
   "metadata": {
    "ExecuteTime": {
     "end_time": "2023-12-05T20:16:47.788578800Z",
     "start_time": "2023-12-05T20:16:45.808442600Z"
    }
   },
   "outputs": [],
   "source": [
    "df = pd.read_parquet(r\"C:\\Users\\Home\\Documents\\EPFL\\ML\\Project2\\All_Relative_Results_Cleaned.parquet\")"
   ]
  },
  {
   "cell_type": "code",
   "execution_count": 3,
   "metadata": {
    "ExecuteTime": {
     "end_time": "2023-12-05T20:16:50.306264100Z",
     "start_time": "2023-12-05T20:16:47.795585300Z"
    }
   },
   "outputs": [],
   "source": [
    "label_encoder = LabelEncoder()\n",
    "\n",
    "df_clean = df.dropna()\n",
    "index = df_clean.columns.get_loc('time(s)')\n",
    "df_right = df_clean.iloc[:, index:]\n",
    "X = df_right\n",
    "add_participants = df_clean['Participant']\n",
    "add_camera = df_clean['Camera']\n",
    "add_participants_encoded = label_encoder.fit_transform(add_participants)\n",
    "add_camera_encoded = label_encoder.fit_transform(add_camera)\n",
    "Y = df_clean['Exercise']"
   ]
  },
  {
   "cell_type": "code",
   "execution_count": 4,
   "outputs": [
    {
     "name": "stdout",
     "output_type": "stream",
     "text": [
      "       time(s)  left_ankle_x  left_ankle_y  left_ankle_z  left_ear_x  \\\n",
      "0     0.000000      0.009328      0.779305      0.187880    0.020658   \n",
      "1     0.033333      0.009353      0.779298      0.185050    0.021187   \n",
      "2     0.066667      0.009722      0.779311      0.179212    0.021351   \n",
      "3     0.100000      0.011696      0.778027      0.166566    0.023431   \n",
      "4     0.133333      0.011671      0.778045      0.166878    0.023658   \n",
      "..         ...           ...           ...           ...         ...   \n",
      "730  24.333333      0.104921      0.764555      0.082647    0.058097   \n",
      "731  24.366667      0.104855      0.764961      0.084220    0.058165   \n",
      "732  24.400000      0.105392      0.765160      0.084043    0.058210   \n",
      "733  24.433333      0.106408      0.765264      0.084009    0.059145   \n",
      "734  24.466667      0.106992      0.765289      0.083549    0.059338   \n",
      "\n",
      "     left_ear_y  left_ear_z  left_elbow_x  left_elbow_y  left_elbow_z  ...  \\\n",
      "0     -0.693419    0.023043     -0.023044     -0.472627      0.418187  ...   \n",
      "1     -0.693361    0.023204     -0.023552     -0.468296      0.418442  ...   \n",
      "2     -0.693388    0.023582     -0.023140     -0.457015      0.418228  ...   \n",
      "3     -0.693102    0.027191     -0.023110     -0.419374      0.418544  ...   \n",
      "4     -0.693346    0.025722     -0.023066     -0.421905      0.417636  ...   \n",
      "..          ...         ...           ...           ...           ...  ...   \n",
      "730   -0.669222   -0.088820      0.378571     -0.517386     -0.048541  ...   \n",
      "731   -0.668928   -0.090578      0.378688     -0.517307     -0.048566  ...   \n",
      "732   -0.668465   -0.090603      0.378684     -0.516995     -0.048509  ...   \n",
      "733   -0.668389   -0.090876      0.379865     -0.517142     -0.048536  ...   \n",
      "734   -0.668151   -0.092722      0.379963     -0.516723     -0.050670  ...   \n",
      "\n",
      "     right_shoulder_y  right_shoulder_z  right_thumb_x  right_thumb_y  \\\n",
      "0           -0.511760         -0.185118      -0.068159      -0.602015   \n",
      "1           -0.511703         -0.184861      -0.068130      -0.602200   \n",
      "2           -0.511696         -0.184849      -0.067241      -0.601852   \n",
      "3           -0.511612         -0.183764      -0.062897      -0.600404   \n",
      "4           -0.512331         -0.183866      -0.061787      -0.600463   \n",
      "..                ...               ...            ...            ...   \n",
      "730         -0.512648         -0.044837      -0.626770      -0.533090   \n",
      "731         -0.512568         -0.046608      -0.626767      -0.531939   \n",
      "732         -0.512303         -0.046589      -0.626679      -0.530991   \n",
      "733         -0.512327         -0.046626      -0.625844      -0.529880   \n",
      "734         -0.512306         -0.047945      -0.625741      -0.529428   \n",
      "\n",
      "     right_thumb_z  right_wrist_x  right_wrist_y  right_wrist_z  \\\n",
      "0        -0.598093      -0.066565      -0.600690      -0.592768   \n",
      "1        -0.596219      -0.066508      -0.600835      -0.590916   \n",
      "2        -0.596222      -0.065676      -0.600436      -0.590910   \n",
      "3        -0.596646      -0.061278      -0.599290      -0.591304   \n",
      "4        -0.596128      -0.060647      -0.599425      -0.590991   \n",
      "..             ...            ...            ...            ...   \n",
      "730      -0.155961      -0.617913      -0.532957      -0.135954   \n",
      "731      -0.159559      -0.617969      -0.531721      -0.139373   \n",
      "732      -0.159817      -0.617878      -0.530680      -0.139622   \n",
      "733      -0.159893      -0.617153      -0.529503      -0.139712   \n",
      "734      -0.161087      -0.616959      -0.529012      -0.141011   \n",
      "\n",
      "     add_participants_encoded  add_camera_encoded  \n",
      "0                           0                   1  \n",
      "1                           0                   1  \n",
      "2                           0                   1  \n",
      "3                           0                   1  \n",
      "4                           0                   1  \n",
      "..                        ...                 ...  \n",
      "730                        24                   2  \n",
      "731                        24                   2  \n",
      "732                        24                   2  \n",
      "733                        24                   2  \n",
      "734                        24                   2  \n",
      "\n",
      "[2183485 rows x 102 columns]\n"
     ]
    }
   ],
   "source": [
    "X = X.assign(add_participants_encoded=add_participants_encoded, add_camera_encoded=add_camera_encoded)\n",
    "print(X)\n"
   ],
   "metadata": {
    "collapsed": false,
    "ExecuteTime": {
     "end_time": "2023-12-05T20:16:51.412762900Z",
     "start_time": "2023-12-05T20:16:50.307265Z"
    }
   }
  },
  {
   "cell_type": "code",
   "execution_count": 5,
   "metadata": {
    "ExecuteTime": {
     "end_time": "2023-12-05T20:16:52.188899Z",
     "start_time": "2023-12-05T20:16:51.415117Z"
    }
   },
   "outputs": [],
   "source": [
    "Y_encoded = label_encoder.fit_transform(Y)"
   ]
  },
  {
   "cell_type": "code",
   "execution_count": 6,
   "metadata": {
    "ExecuteTime": {
     "end_time": "2023-12-05T20:17:04.407108200Z",
     "start_time": "2023-12-05T20:16:52.189899800Z"
    }
   },
   "outputs": [],
   "source": [
    "X_tensor = torch.tensor(X.values, dtype=torch.float32)\n",
    "y_tensor = torch.tensor(Y_encoded, dtype=torch.long)"
   ]
  },
  {
   "cell_type": "code",
   "execution_count": 7,
   "metadata": {
    "ExecuteTime": {
     "end_time": "2023-12-05T20:17:06.223992400Z",
     "start_time": "2023-12-05T20:17:04.467176600Z"
    }
   },
   "outputs": [],
   "source": [
    "X_train, X_test, Y_train, Y_test = train_test_split(X_tensor, y_tensor, test_size=0.2)\n",
    "\n",
    "train_dataset = TensorDataset(X_train,Y_train)\n",
    "test_dataset = TensorDataset(X_test,Y_test)\n",
    "trainLoader = DataLoader(train_dataset, batch_size=32, shuffle=False)\n",
    "testLoader = DataLoader(test_dataset, batch_size=32 , shuffle=False)"
   ]
  },
  {
   "cell_type": "code",
   "execution_count": 8,
   "metadata": {
    "ExecuteTime": {
     "end_time": "2023-12-05T20:17:06.290093500Z",
     "start_time": "2023-12-05T20:17:06.241029Z"
    }
   },
   "outputs": [],
   "source": [
    "class GRUNeuralNetwork(nn.Module):\n",
    "    def __init__(self):\n",
    "        super(GRUNeuralNetwork, self).__init__()\n",
    "        self.gru = nn.GRU(X_train.shape[1], 64)#, batch_first=True)\n",
    "        self.relu = nn.ReLU()\n",
    "        self.layer2 = nn.Linear(64, 7)\n",
    "\n",
    "    def forward(self, x):\n",
    "        # x est de la forme (batch_size, sequence_length, input_size)\n",
    "        output, _ = self.gru(x)\n",
    "        # Prenez seulement la sortie de la dernière étape de la séquence\n",
    "        #output = output[:, -1, :]\n",
    "        output = self.relu(output)  \n",
    "        output = self.layer2(output)\n",
    "        return output\n",
    "model = GRUNeuralNetwork()"
   ]
  },
  {
   "cell_type": "code",
   "execution_count": 9,
   "metadata": {
    "ExecuteTime": {
     "end_time": "2023-12-05T20:17:08.159651900Z",
     "start_time": "2023-12-05T20:17:06.294097100Z"
    }
   },
   "outputs": [],
   "source": [
    "criterion = nn.CrossEntropyLoss()\n",
    "optimizer = optim.Adam(model.parameters(), lr=0.001)"
   ]
  },
  {
   "cell_type": "code",
   "execution_count": 10,
   "metadata": {
    "ExecuteTime": {
     "end_time": "2023-12-06T03:35:36.692663600Z",
     "start_time": "2023-12-05T20:17:08.162654600Z"
    }
   },
   "outputs": [
    {
     "name": "stdout",
     "output_type": "stream",
     "text": [
      "Époque 1, Perte: 0.1609, Exactitude: 93.29%\n",
      "Époque 2, Perte: 0.1251, Exactitude: 94.52%\n",
      "Époque 3, Perte: 0.1183, Exactitude: 94.80%\n",
      "Époque 4, Perte: 0.1144, Exactitude: 94.97%\n",
      "Époque 5, Perte: 0.1125, Exactitude: 95.05%\n",
      "Époque 6, Perte: 0.1108, Exactitude: 95.11%\n",
      "Époque 7, Perte: 0.1091, Exactitude: 95.20%\n",
      "Époque 8, Perte: 0.1080, Exactitude: 95.24%\n",
      "Époque 9, Perte: 0.1070, Exactitude: 95.29%\n",
      "Époque 10, Perte: 0.1059, Exactitude: 95.33%\n",
      "Époque 11, Perte: 0.1050, Exactitude: 95.40%\n",
      "Époque 12, Perte: 0.1045, Exactitude: 95.42%\n",
      "Époque 13, Perte: 0.1042, Exactitude: 95.43%\n",
      "Époque 14, Perte: 0.1036, Exactitude: 95.46%\n",
      "Époque 15, Perte: 0.1029, Exactitude: 95.48%\n",
      "Époque 16, Perte: 0.1024, Exactitude: 95.51%\n",
      "Époque 17, Perte: 0.1022, Exactitude: 95.53%\n",
      "Époque 18, Perte: 0.1016, Exactitude: 95.56%\n",
      "Époque 19, Perte: 0.1014, Exactitude: 95.57%\n",
      "Époque 20, Perte: 0.1012, Exactitude: 95.56%\n",
      "Époque 21, Perte: 0.1011, Exactitude: 95.57%\n",
      "Époque 22, Perte: 0.1016, Exactitude: 95.54%\n",
      "Époque 23, Perte: 0.1011, Exactitude: 95.59%\n",
      "Époque 24, Perte: 0.1009, Exactitude: 95.57%\n",
      "Époque 25, Perte: 0.1002, Exactitude: 95.62%\n",
      "Époque 26, Perte: 0.1001, Exactitude: 95.60%\n",
      "Époque 27, Perte: 0.0999, Exactitude: 95.62%\n",
      "Époque 28, Perte: 0.0994, Exactitude: 95.65%\n",
      "Époque 29, Perte: 0.0996, Exactitude: 95.62%\n",
      "Époque 30, Perte: 0.0994, Exactitude: 95.64%\n",
      "Époque 31, Perte: 0.0989, Exactitude: 95.66%\n",
      "Époque 32, Perte: 0.0988, Exactitude: 95.66%\n",
      "Époque 33, Perte: 0.0987, Exactitude: 95.67%\n",
      "Époque 34, Perte: 0.0987, Exactitude: 95.67%\n",
      "Époque 35, Perte: 0.0982, Exactitude: 95.69%\n",
      "Époque 36, Perte: 0.0979, Exactitude: 95.71%\n",
      "Époque 37, Perte: 0.0980, Exactitude: 95.70%\n",
      "Époque 38, Perte: 0.0983, Exactitude: 95.69%\n",
      "Époque 39, Perte: 0.0977, Exactitude: 95.71%\n",
      "Époque 40, Perte: 0.0974, Exactitude: 95.73%\n",
      "Époque 41, Perte: 0.0975, Exactitude: 95.72%\n",
      "Époque 42, Perte: 0.0976, Exactitude: 95.73%\n",
      "Époque 43, Perte: 0.0973, Exactitude: 95.73%\n",
      "Époque 44, Perte: 0.0971, Exactitude: 95.74%\n",
      "Époque 45, Perte: 0.0971, Exactitude: 95.74%\n",
      "Époque 46, Perte: 0.0972, Exactitude: 95.74%\n",
      "Époque 47, Perte: 0.0968, Exactitude: 95.74%\n",
      "Époque 48, Perte: 0.0967, Exactitude: 95.76%\n",
      "Époque 49, Perte: 0.0963, Exactitude: 95.78%\n",
      "Époque 50, Perte: 0.0968, Exactitude: 95.77%\n"
     ]
    }
   ],
   "source": [
    "model.train()\n",
    "\n",
    "for epoch in range(50):  # 4 is the nbr of epochs\n",
    "    running_loss = 0.0\n",
    "    total_train = 0\n",
    "    correct_train = 0\n",
    "\n",
    "    for inputs, labels in trainLoader:\n",
    "        optimizer.zero_grad()\n",
    "        outputs = model(inputs)\n",
    "        loss = criterion(outputs, labels)\n",
    "        loss.backward()\n",
    "        optimizer.step()\n",
    "\n",
    "        running_loss += loss.item()\n",
    "        _, predicted = torch.max(outputs.data, 1)\n",
    "        total_train += labels.size(0)\n",
    "        correct_train += (predicted == labels).sum().item()\n",
    "\n",
    "    epoch_loss = running_loss / len(trainLoader)\n",
    "    epoch_accuracy = 100 * correct_train / total_train\n",
    "    print(f'Époque {epoch + 1}, Perte: {epoch_loss:.4f}, Exactitude: {epoch_accuracy:.2f}%')\n"
   ]
  },
  {
   "cell_type": "code",
   "execution_count": 15,
   "metadata": {
    "ExecuteTime": {
     "end_time": "2023-12-06T09:33:13.104241200Z",
     "start_time": "2023-12-06T09:32:45.599103200Z"
    }
   },
   "outputs": [
    {
     "name": "stdout",
     "output_type": "stream",
     "text": [
      "Exactitude sur l'ensemble de test: 95.8621195016224%\n"
     ]
    }
   ],
   "source": [
    "model.eval()  # Mettre le modèle en mode évaluation\n",
    "total_test = 0\n",
    "correct_test = 0\n",
    "\n",
    "y_true = []\n",
    "y_pred = []\n",
    "\n",
    "with torch.no_grad():\n",
    "    for inputs, labels in testLoader:\n",
    "        labels = labels.long()\n",
    "        outputs = model(inputs)\n",
    "        _, predicted = torch.max(outputs.data, 1)\n",
    "        y_true.extend(labels.tolist())\n",
    "        y_pred.extend(predicted.tolist())\n",
    "        total_test += labels.size(0)\n",
    "        correct_test += (predicted == labels).sum().item()\n",
    "\n",
    "test_accuracy = 100 * correct_test / total_test\n",
    "print(f'Exactitude sur l\\'ensemble de test: {test_accuracy}%')"
   ]
  },
  {
   "cell_type": "code",
   "execution_count": 16,
   "metadata": {
    "ExecuteTime": {
     "end_time": "2023-12-06T09:33:13.591102300Z",
     "start_time": "2023-12-06T09:33:13.101238200Z"
    }
   },
   "outputs": [
    {
     "data": {
      "text/plain": "Text(52.722222222222214, 0.5, 'True labels')"
     },
     "execution_count": 16,
     "metadata": {},
     "output_type": "execute_result"
    },
    {
     "data": {
      "text/plain": "<Figure size 640x480 with 2 Axes>",
      "image/png": "[encoded data removed]"
     },
     "metadata": {},
     "output_type": "display_data"
    }
   ],
   "source": [
    "conf_matrix = confusion_matrix(y_true,y_pred)\n",
    "\n",
    "sns.heatmap(conf_matrix, annot=True, fmt = 'd')\n",
    "plt.xlabel('Predictions')\n",
    "plt.ylabel('True labels')"
   ]
  },
  {
   "cell_type": "code",
   "execution_count": 13,
   "outputs": [
    {
     "name": "stdout",
     "output_type": "stream",
     "text": [
      "              precision    recall  f1-score   support\n",
      "\n",
      "           0       0.96      0.92      0.94     76267\n",
      "           1       0.95      0.95      0.95     72288\n",
      "           2       0.94      0.97      0.95     95749\n",
      "           3       1.00      1.00      1.00     42384\n",
      "           4       0.97      0.98      0.97     65549\n",
      "           5       0.96      0.94      0.95     37526\n",
      "           6       0.97      0.96      0.96     46934\n",
      "\n",
      "    accuracy                           0.96    436697\n",
      "   macro avg       0.96      0.96      0.96    436697\n",
      "weighted avg       0.96      0.96      0.96    436697\n"
     ]
    }
   ],
   "source": [
    "print(classification_report(y_true, y_pred))\n"
   ],
   "metadata": {
    "collapsed": false,
    "ExecuteTime": {
     "end_time": "2023-12-06T09:30:18.112740600Z",
     "start_time": "2023-12-06T09:30:17.239222Z"
    }
   }
  }
 ],
 "metadata": {
  "kernelspec": {
   "display_name": "Python 3.10.8 64-bit",
   "language": "python",
   "name": "python3"
  },
  "language_info": {
   "codemirror_mode": {
    "name": "ipython",
    "version": 3
   },
   "file_extension": ".py",
   "mimetype": "text/x-python",
   "name": "python",
   "nbconvert_exporter": "python",
   "pygments_lexer": "ipython3",
   "version": "3.10.8"
  },
  "orig_nbformat": 4,
  "vscode": {
   "interpreter": {
    "hash": "aee8b7b246df8f9039afb4144a1f6fd8d2ca17a180786b69acc140d282b71a49"
   }
  }
 },
 "nbformat": 4,
 "nbformat_minor": 2
}
