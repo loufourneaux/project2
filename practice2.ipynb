{
 "cells": [
  {
   "cell_type": "code",
   "execution_count": 4,
   "metadata": {},
   "outputs": [],
   "source": [
    "import pandas as pd\n",
    "import torch\n",
    "from torch.utils.data import Dataset\n",
    "from torch.utils.data import DataLoader\n",
    "import numpy as np\n",
    "import pyarrow.parquet as pq\n",
    "import torch.nn as nn\n",
    "import torch.nn.functional as F"
   ]
  },
  {
   "cell_type": "markdown",
   "metadata": {},
   "source": [
    "LOAD DATASET"
   ]
  },
  {
   "cell_type": "code",
   "execution_count": 7,
   "metadata": {},
   "outputs": [],
   "source": [
    "\n",
    "class JointPointsDataset(Dataset):\n",
    "    def __init__(self, parquet_file, transform=None):\n",
    "        self.data = pq.read_table(parquet_file).to_pandas()\n",
    "        self.transform=transform\n",
    "\n",
    "    def __len__(self):\n",
    "        return len(self.data)\n",
    "\n",
    "    def __getitem__(self, idx):\n",
    "        # Obtenez les différentes informations de la ligne idx\n",
    "        participant_id = self.data.iloc[idx, 1]\n",
    "        exercise_type = self.data.iloc[idx, 2]\n",
    "        camera_type = self.data.iloc[idx, 3]\n",
    "        time = self.data.iloc[idx, 4]\n",
    "\n",
    "        # Obtenez les coordonnées des joints du corps (à partir de la 6e colonne)\n",
    "        joint_points = self.data.iloc[idx, 5:].values.astype(float)\n",
    "\n",
    "        # Créez un dictionnaire avec toutes les informations\n",
    "        sample = {\n",
    "            'participant_id': participant_id,\n",
    "            'exercise_type': exercise_type,\n",
    "            'camera_type': camera_type,\n",
    "            'time': time,\n",
    "            'joint_points': joint_points\n",
    "        }\n",
    "\n",
    "        # Appliquez des transformations si nécessaire\n",
    "        # Appliquez des transformations si nécessaire\n",
    "        if self.transform:\n",
    "            sample = self.transform(sample)\n",
    "\n",
    "        return sample"
   ]
  },
  {
   "cell_type": "code",
   "execution_count": 8,
   "metadata": {},
   "outputs": [],
   "source": [
    "\n",
    "# Créer une instance de votre dataset avec un fichier Parquet\n",
    "dataset = JointPointsDataset(parquet_file='/Users/loufourneaux/Desktop/EPFL/MA1/ML/project2/All_Relative_Results_Cleaned.parquet')\n",
    "\n",
    "# Créer un DataLoader\n",
    "dataloader = DataLoader(dataset, batch_size=32, shuffle=True)\n",
    "\n",
    "# Utiliser le DataLoader pour itérer sur vos données pendant l'entraînement\n",
    "for batch in dataloader:\n",
    "    participant_ids = batch['participant_id']\n",
    "    joint_points = batch['joint_points']"
   ]
  },
  {
   "cell_type": "markdown",
   "metadata": {},
   "source": [
    "CREATE MODEL\n",
    "- 2 layers de profondeur 8 \n",
    "- avance avec la fonction relu \n",
    "- 99 input features (les joints et le temps)\n",
    "- 7 output features = exercices "
   ]
  },
  {
   "cell_type": "code",
   "execution_count": null,
   "metadata": {},
   "outputs": [],
   "source": [
    "class Model(nn.Module):\n",
    "    \n",
    "    #input layer of network--> hidden layer 1--> hidden layer---> output layer (7 classes)\n",
    "    def __init__(self, input_features=99, h1=8, h2=8, output_features=7):\n",
    "        super().__init__()\n",
    "        #moving from one layer to another\n",
    "        self.fc1=nn.Linear(input_features,h1)\n",
    "        self.fc2=nn.Linear(h1, h2)\n",
    "        self.out=nn.Linear(h2, output_features)\n",
    "\n",
    "    def forward(self, x): #need to actually move from layer to layer \n",
    "        x = F.relu(self.fc1(x))\n",
    "        x = F.relu(self.fc2(x))\n",
    "        x = self.out(x)\n",
    "\n",
    "        return x"
   ]
  },
  {
   "cell_type": "markdown",
   "metadata": {},
   "source": [
    "TRAIN MODEL \n",
    "do i have to drop some columns when loading the data? "
   ]
  },
  {
   "cell_type": "code",
   "execution_count": null,
   "metadata": {},
   "outputs": [],
   "source": [
    "def modify_batch(batch):\n",
    "\n",
    "    #change exercice column from strings to interger\n",
    "    for batch in dataloader:\n",
    "        batch['Exercise']= batch['Exercise'].replace('Stretch', 0)\n",
    "    #... do this for all of them for classification"
   ]
  },
  {
   "cell_type": "code",
   "execution_count": null,
   "metadata": {},
   "outputs": [],
   "source": []
  }
 ],
 "metadata": {
  "kernelspec": {
   "display_name": "Python 3.10.8 64-bit",
   "language": "python",
   "name": "python3"
  },
  "language_info": {
   "codemirror_mode": {
    "name": "ipython",
    "version": 3
   },
   "file_extension": ".py",
   "mimetype": "text/x-python",
   "name": "python",
   "nbconvert_exporter": "python",
   "pygments_lexer": "ipython3",
   "version": "3.10.8"
  },
  "orig_nbformat": 4,
  "vscode": {
   "interpreter": {
    "hash": "aee8b7b246df8f9039afb4144a1f6fd8d2ca17a180786b69acc140d282b71a49"
   }
  }
 },
 "nbformat": 4,
 "nbformat_minor": 2
}
