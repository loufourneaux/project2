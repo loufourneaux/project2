{
 "cells": [
  {
   "cell_type": "code",
   "execution_count": null,
   "id": "initial_id",
   "metadata": {
    "collapsed": true
   },
   "outputs": [],
   "source": [
    "import torch.nn as nn\n",
    "import torch.optim as optim\n",
    "import torch\n",
    "from skorch.callbacks import EarlyStopping\n",
    "from skorch import NeuralNetClassifier\n",
    "from sklearn.model_selection import GridSearchCV\n",
    "import torch.nn.functional as F\n"
   ]
  },
  {
   "cell_type": "code",
   "execution_count": null,
   "outputs": [],
   "source": [],
   "metadata": {
    "collapsed": false
   },
   "id": "f7f7701b06627214"
  },
  {
   "cell_type": "code",
   "execution_count": null,
   "outputs": [],
   "source": [
    "class ConvNeuralNetwork(nn.Module):\n",
    "    def __init__(self,input_channels = 3, kernel_size = (3,3,3), output_size = 7, hidden_size1 = 64, hidden_size2=128, hidden_size3 = 50,nbr_features = 99, stride = 1, padding = 1):\n",
    "        super(ConvNeuralNetwork, self).__init__()\n",
    "        self.conv1 = nn.Conv3d(in_channels=input_channels, out_channels=hidden_size1, kernel_size=kernel_size, stride=stride, padding=padding)\n",
    "        self.conv2 = nn.Conv3d(in_channels=hidden_size1, out_channels=hidden_size2, kernel_size=kernel_size, stride=stride, padding=padding)\n",
    "        self.fc1 = nn.Linear(in_features=99*hidden_size2, out_features=hidden_size3)\n",
    "        self.fc2 = nn.Linear(in_features=hidden_size3, out_features=output_size)\n",
    "\n",
    "    def forward(self, x):\n",
    "        x = F.relu(self.conv1(x))\n",
    "        x = F.relu(self.conv2(x))\n",
    "        x = x.view(x.size(0),-1)\n",
    "        x = F.relu(self.fc1(x))\n",
    "        x = self.fc2(x)\n",
    "        return x\n",
    "\n",
    "modelCNN = ConvNeuralNetwork()"
   ],
   "metadata": {
    "collapsed": false
   },
   "id": "474e2cae43fbad21"
  },
  {
   "cell_type": "code",
   "execution_count": null,
   "outputs": [],
   "source": [
    "def restart_cnn_model(learning_rate = 0.0001):\n",
    "    \"\"\"\n",
    "    \n",
    "    :param learning_rate: \n",
    "    :return: \n",
    "    \"\"\"\n",
    "\n",
    "    modelCNN = ConvNeuralNetwork()\n",
    "    criterion = nn.CrossEntropyLoss()\n",
    "    optimizer = optim.Adam(modelCNN.parameters(), lr=learning_rate)"
   ],
   "metadata": {
    "collapsed": false
   },
   "id": "d22d2e2e97da33b0"
  },
  {
   "cell_type": "code",
   "execution_count": null,
   "outputs": [],
   "source": [
    "def train_cnn_model(trainLoader, learning_rate = 0.001, nbr_epoch = 100):\n",
    "    \"\"\"\n",
    "    \n",
    "    :param trainLoader: \n",
    "    :param learning_rate: \n",
    "    :param number_epoch: \n",
    "    :return: \n",
    "    \"\"\"\n",
    "    modelCNN = ConvNeuralNetwork()\n",
    "    criterion = nn.CrossEntropyLoss()\n",
    "    optimizer = optim.Adam(modelCNN.parameters(), lr=learning_rate)\n",
    "    modelCNN.train()\n",
    "\n",
    "    for epoch in range(nbr_epoch):\n",
    "        running_loss = 0.0\n",
    "        total_train = 0\n",
    "        correct_train = 0\n",
    "\n",
    "        for inputs, labels in trainLoader:\n",
    "            optimizer.zero_grad()\n",
    "            outputs = modelCNN(inputs)\n",
    "            loss = criterion(outputs, labels)\n",
    "            loss.backward()\n",
    "            optimizer.step()\n",
    "\n",
    "            running_loss += loss.item()\n",
    "            _, predicted = torch.max(outputs.data, 1)\n",
    "            total_train += labels.size(0)\n",
    "            correct_train += (predicted == labels).sum().item()\n",
    "\n",
    "        epoch_loss = running_loss / len(trainLoader)\n",
    "        epoch_accuracy = 100 * correct_train / total_train\n",
    "        print(f'Epoch {epoch + 1}, Loss: {epoch_loss:.4f}, Accuracy: {epoch_accuracy:.2f}%')\n",
    "        return modelCNN"
   ],
   "metadata": {
    "collapsed": false
   },
   "id": "5f57be047f4ed775"
  },
  {
   "cell_type": "code",
   "execution_count": null,
   "outputs": [],
   "source": [],
   "metadata": {
    "collapsed": false
   },
   "id": "7fad16fce1740b07"
  },
  {
   "cell_type": "code",
   "execution_count": null,
   "outputs": [],
   "source": [
    "def test_cnn_model(testLoader, model):\n",
    "    \"\"\"\n",
    "    \n",
    "    :param testLoader: \n",
    "    :param model: \n",
    "    :return: \n",
    "    \"\"\"\n",
    "    modelCNN.eval()\n",
    "    total_test = 0\n",
    "    correct_test = 0\n",
    "    \n",
    "    y_true = []\n",
    "    y_pred = []\n",
    "    \n",
    "    with torch.no_grad():\n",
    "        for inputs, labels in testLoader:\n",
    "            labels = labels.long()\n",
    "            outputs = modelCNN(inputs)\n",
    "            _, predicted = torch.max(outputs.data, 1)\n",
    "            y_true.extend(labels.tolist())\n",
    "            y_pred.extend(predicted.tolist())\n",
    "            total_test += labels.size(0)\n",
    "            correct_test += (predicted == labels).sum().item()\n",
    "    \n",
    "    test_accuracy = 100 * correct_test / total_test\n",
    "    print(f'Accuracy on test set: {test_accuracy}%')"
   ],
   "metadata": {
    "collapsed": false
   },
   "id": "9f03d85f3b940b45"
  },
  {
   "cell_type": "code",
   "execution_count": null,
   "outputs": [],
   "source": [
    "def tune_cnn_hyperparameters(X_valid, y_valid, input_size = 99):\n",
    "    #parameters to tune\n",
    "    param_grid = {\n",
    "        'module__hidden_size1': [4096,2048],\n",
    "        'module__hidden_size2': [512],\n",
    "        'batch_size': [153, 150, 152, 151],\n",
    "        'optimizer__lr': [0.001]\n",
    "    }\n",
    "\n",
    "    modelCNN = ConvNeuralNetwork(input_channels = 3, kernel_size = (3,3,3), output_size = 7, hidden_size1 = 64, hidden_size2=128, hidden_size3 = 50,nbr_features = 99, stride = 1, padding = 1)\n",
    "\n",
    "    \n",
    "    early_stopping = EarlyStopping(\n",
    "        monitor='valid_loss',  # Change to 'valid_acc' for accuracy\n",
    "        threshold=0.0001,       # Define your threshold\n",
    "        threshold_mode='rel',  # 'rel' for relative, 'abs' for absolute\n",
    "        patience=5            # Number of epochs to wait after condition is met\n",
    "    )\n",
    "\n",
    "\n",
    "    # Convert the PyTorch model to a skorch classifier to use in GridSearchCV\n",
    "    classifier = NeuralNetClassifier(\n",
    "        modelCNN,\n",
    "        criterion=nn.CrossEntropyLoss,\n",
    "        optimizer=optim.Adam,\n",
    "        max_epochs=50, # or choose an appropriate number of epochs\n",
    "        callbacks=[early_stopping]\n",
    "    )\n",
    "\n",
    "    # Use GridSearchCV for hyperparameter tuning, cv for the number of folds in cross-validation, verbose for the explicit stage of tuning\n",
    "    grid_search = GridSearchCV(classifier, param_grid, scoring='accuracy', cv=3, verbose=1)\n",
    "    #get grid result\n",
    "    grid_result= grid_search.fit(X_valid, y_valid)\n",
    "\n",
    "    # Get the best hyperparameters\n",
    "    best_hyperparams = grid_search.best_params_\n",
    "\n",
    "\n",
    "    #get best score\n",
    "    best_score=grid_search.best_score_\n",
    "\n",
    "    return best_hyperparams, best_score\n"
   ],
   "metadata": {
    "collapsed": false
   },
   "id": "a58711684f685b08"
  }
 ],
 "metadata": {
  "kernelspec": {
   "display_name": "Python 3",
   "language": "python",
   "name": "python3"
  },
  "language_info": {
   "codemirror_mode": {
    "name": "ipython",
    "version": 2
   },
   "file_extension": ".py",
   "mimetype": "text/x-python",
   "name": "python",
   "nbconvert_exporter": "python",
   "pygments_lexer": "ipython2",
   "version": "2.7.6"
  }
 },
 "nbformat": 4,
 "nbformat_minor": 5
}
