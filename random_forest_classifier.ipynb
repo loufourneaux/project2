{
 "cells": [
  {
   "cell_type": "code",
   "execution_count": null,
   "outputs": [],
   "source": [
    "import torch\n",
    "from sklearn.ensemble import RandomForestClassifier\n",
    "from sklearn.model_selection import cross_val_predict\n",
    "from sklearn.metrics import accuracy_score"
   ],
   "metadata": {
    "collapsed": false
   },
   "id": "d22be362dfecb098"
  },
  {
   "cell_type": "code",
   "execution_count": null,
   "outputs": [],
   "source": [
    "def GDB_cv(trainLoader, testLoader, cv=5, n_estimators=100, random_state=100):\n",
    "    # Combining the data from the trainLoader\n",
    "    X_train, Y_train = [], []\n",
    "    for data in trainLoader:\n",
    "        inputs, labels = data\n",
    "        X_train.append(inputs)\n",
    "        Y_train.append(labels)\n",
    "\n",
    "    X_train = torch.cat(X_train, 0).numpy()\n",
    "    Y_train = torch.cat(Y_train, 0).numpy()\n",
    "\n",
    "    # Training the Gradient Boosting Classifier\n",
    "    rf_classifier = RandomForestClassifier(n_estimators=n_estimators, random_state=random_state)\n",
    "    Y_pred_cv = cross_val_predict(rf_classifier, X_train, Y_train, cv=cv)\n",
    "    rf_classifier.fit(X_train, Y_train)\n",
    "\n",
    "    # Combining the data from the testLoader\n",
    "    X_test = []\n",
    "    Y_test = []\n",
    "    for data in testLoader:\n",
    "        inputs, labels = data\n",
    "        X_test.append(inputs)\n",
    "        Y_test.append(labels)\n",
    "\n",
    "    X_test = torch.cat(X_test, 0).numpy()\n",
    "\n",
    "    # Predicting on the test set\n",
    "    y_pred_test = rf_classifier.predict(X_test)\n",
    "    accuracy_train = accuracy_score(Y_train, Y_pred_cv)\n",
    "    accuracy_test = accuracy_score(Y_test, y_pred_test)\n",
    "\n",
    "    return Y_pred_cv, y_pred_test, accuracy_train, accuracy_test\n",
    "\n"
   ],
   "metadata": {
    "collapsed": false
   },
   "id": "initial_id"
  }
 ],
 "metadata": {
  "kernelspec": {
   "display_name": "Python 3",
   "language": "python",
   "name": "python3"
  },
  "language_info": {
   "codemirror_mode": {
    "name": "ipython",
    "version": 2
   },
   "file_extension": ".py",
   "mimetype": "text/x-python",
   "name": "python",
   "nbconvert_exporter": "python",
   "pygments_lexer": "ipython2",
   "version": "2.7.6"
  }
 },
 "nbformat": 4,
 "nbformat_minor": 5
}
